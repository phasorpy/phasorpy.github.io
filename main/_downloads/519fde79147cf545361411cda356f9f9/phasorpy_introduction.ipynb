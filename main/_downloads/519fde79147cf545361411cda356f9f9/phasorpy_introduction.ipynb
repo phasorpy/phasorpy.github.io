{
  "cells": [
    {
      "cell_type": "markdown",
      "metadata": {},
      "source": [
        "\n# Introduction to PhasorPy\n\nAn introduction to using the PhasorPy library.\n\nPhasorPy is an open-source Python library for the analysis of fluorescence\nlifetime and hyperspectral images using the :doc:`/phasor_approach`.\n"
      ]
    },
    {
      "cell_type": "markdown",
      "metadata": {},
      "source": [
        "## Install Python\n\nAn installation of Python version 3.10 or higher is required to use the\nPhasorPy library.\nPython is an easy to learn, powerful programming language.\nPython installers can be obtained from, for example,\n[Python.org](https://www.python.org/downloads/) or\n[Anaconda.com](https://www.anaconda.com/).\nRefer to the [Python Tutorial](https://docs.python.org/3/tutorial/)\nfor an introduction to Python.\n\n## Install PhasorPy\n\nTo download and install the PhasorPy library and all its dependencies from\nthe [Python Package Index](https://pypi.org/project/phasorpy/) (PyPI),\nrun the following command on a command prompt, shell or terminal::\n\n    python -m pip install -U \"phasorpy[all]\"\n\n<div class=\"alert alert-info\"><h4>Note</h4><p>The PhasorPy library is in its early stages of development\n   and has not yet been released to PyPI.\n   The development version of PhasorPy can be [installed manually](https://packaging.python.org/en/latest/tutorials/installing-packages/),\n   for example, using the binary wheels from [GitHub Actions](https://github.com/phasorpy/phasorpy/actions/workflows/build_wheels.yml),\n   or the source code on GitHub (requires a C compiler)::\n\n       python -m pip install git+https://github.com/phasorpy/phasorpy.git</p></div>\n\n"
      ]
    },
    {
      "cell_type": "markdown",
      "metadata": {},
      "source": [
        "## Import phasorpy\n\nStart the Python interpreter, import the ``phasorpy`` package,\nand print its version:\n\n"
      ]
    },
    {
      "cell_type": "code",
      "execution_count": null,
      "metadata": {
        "collapsed": false
      },
      "outputs": [],
      "source": [
        "import phasorpy\n\nprint(phasorpy.__version__)"
      ]
    },
    {
      "cell_type": "markdown",
      "metadata": {},
      "source": [
        "## Read signal from file\n\nThe :py:mod:`phasorpy.datasets` module provides access to various sample\nfiles, for example, a TIFF file containing a time-correlated\nsingle photon counting (TCSPC) histogram obtained at 80 MHz.\n\nThe :py:mod:`phasorpy.io` module provides many functions to read\ntime-resolved and hyperspectral image and metadata from file formats used\nin microscopy. However, here the\n[tifffile](https://pypi.org/project/tifffile/) library is used directly:\n\n"
      ]
    },
    {
      "cell_type": "code",
      "execution_count": null,
      "metadata": {
        "collapsed": false
      },
      "outputs": [],
      "source": [
        "# TODO: use phasorpy.io function to read histogram and metadata from PTU file\n\nimport tifffile\n\nfrom phasorpy.datasets import fetch\n\nsignal = tifffile.imread(fetch('Embryo.tif'))\nfrequency = 80.0\n\nprint(signal.shape, signal.dtype)"
      ]
    },
    {
      "cell_type": "markdown",
      "metadata": {},
      "source": [
        "Plot the spatial and histogram averages:\n\n"
      ]
    },
    {
      "cell_type": "code",
      "execution_count": null,
      "metadata": {
        "collapsed": false
      },
      "outputs": [],
      "source": [
        "from phasorpy.plot import plot_signal_image\n\nplot_signal_image(signal, axis=0)"
      ]
    },
    {
      "cell_type": "markdown",
      "metadata": {},
      "source": [
        "## Calculate phasor coordinates\n\nThe :py:mod:`phasorpy.phasor` module provides functions to calculate,\nconvert, and correct phasor coordinates.\n\nPhasor coordinate are calculated from the signal, a TCSPC histogram in\nthis case. The histogram samples are in the first dimension (`axis=0`):\n\n"
      ]
    },
    {
      "cell_type": "code",
      "execution_count": null,
      "metadata": {
        "collapsed": false
      },
      "outputs": [],
      "source": [
        "from phasorpy.phasor import phasor_from_signal\n\nmean, real, imag = phasor_from_signal(signal, axis=0)"
      ]
    },
    {
      "cell_type": "markdown",
      "metadata": {},
      "source": [
        "Plot the calculated phasor coordinates:\n\n"
      ]
    },
    {
      "cell_type": "code",
      "execution_count": null,
      "metadata": {
        "collapsed": false
      },
      "outputs": [],
      "source": [
        "from phasorpy.plot import plot_phasor_image\n\nplot_phasor_image(mean, real, imag)"
      ]
    },
    {
      "cell_type": "markdown",
      "metadata": {},
      "source": [
        "## Calibrate phasor coordinates\n\nPhasor coordinates from time-resolved measurements must be calibrated\nwith coordinates obtained from a reference standard of known lifetime,\nacquired with the same instrument settings.\n\nRead the signal of the reference measurement from a file:\n\n"
      ]
    },
    {
      "cell_type": "code",
      "execution_count": null,
      "metadata": {
        "collapsed": false
      },
      "outputs": [],
      "source": [
        "reference_signal = tifffile.imread(fetch('Fluorescein_Embryo.tif'))"
      ]
    },
    {
      "cell_type": "markdown",
      "metadata": {},
      "source": [
        "Calculate phasor coordinates from the measured reference signal:\n\n"
      ]
    },
    {
      "cell_type": "code",
      "execution_count": null,
      "metadata": {
        "collapsed": false
      },
      "outputs": [],
      "source": [
        "reference_mean, reference_real, reference_imag = phasor_from_signal(\n    reference_signal, axis=0\n)"
      ]
    },
    {
      "cell_type": "markdown",
      "metadata": {},
      "source": [
        "Calibrate the raw phasor coordinates with the reference coordinates of known\nlifetime (Fluorescein, 4.2 ns):\n\n"
      ]
    },
    {
      "cell_type": "code",
      "execution_count": null,
      "metadata": {
        "collapsed": false
      },
      "outputs": [],
      "source": [
        "from phasorpy.phasor import phasor_calibrate\n\nreal, imag = phasor_calibrate(\n    real,\n    imag,\n    reference_real,\n    reference_imag,\n    frequency=frequency,\n    lifetime=4.2,\n)"
      ]
    },
    {
      "cell_type": "markdown",
      "metadata": {},
      "source": [
        "If necessary, the calibration can be undone/reversed using the\nsame reference:\n\n"
      ]
    },
    {
      "cell_type": "code",
      "execution_count": null,
      "metadata": {
        "collapsed": false
      },
      "outputs": [],
      "source": [
        "uncalibrated_real, uncalibrated_imag = phasor_calibrate(\n    real,\n    imag,\n    reference_real,\n    reference_imag,\n    frequency=frequency,\n    lifetime=4.2,\n    reverse=True,\n)"
      ]
    },
    {
      "cell_type": "markdown",
      "metadata": {},
      "source": [
        "## Filter phasor coordinates\n\nApplying median filter to the calibrated phasor coordinates,\noften multiple times, improves contrast:\n\n"
      ]
    },
    {
      "cell_type": "code",
      "execution_count": null,
      "metadata": {
        "collapsed": false
      },
      "outputs": [],
      "source": [
        "from phasorpy.phasor import phasor_filter\n\nreal, imag = phasor_filter(real, imag, method='median', size=3, repeat=2)"
      ]
    },
    {
      "cell_type": "markdown",
      "metadata": {},
      "source": [
        "Pixels with low intensities are commonly excluded from analysis and\nvisualization of phasor coordinates:\n\n"
      ]
    },
    {
      "cell_type": "code",
      "execution_count": null,
      "metadata": {
        "collapsed": false
      },
      "outputs": [],
      "source": [
        "# TODO: replace this with a ``phasor_mask`` function?\nmask = mean > 1\nreal = real[mask]\nimag = imag[mask]"
      ]
    },
    {
      "cell_type": "markdown",
      "metadata": {},
      "source": [
        "## Plot phasor coordinates\n\nThe :py:mod:`phasorpy.plot` module provides functions and classes for\nplotting phasor and polar coordinates.\n\nLarge number of phasor coordinates, such as obtained from imaging,\nare commonly visualized as 2D histograms:\n\n"
      ]
    },
    {
      "cell_type": "code",
      "execution_count": null,
      "metadata": {
        "collapsed": false
      },
      "outputs": [],
      "source": [
        "from phasorpy.plot import PhasorPlot\n\nplot = phasorpy.plot.PhasorPlot(\n    frequency=frequency, title='Calibrated, filtered phasor coordinates'\n)\nplot.hist2d(real, imag)\nplot.show()"
      ]
    },
    {
      "cell_type": "markdown",
      "metadata": {},
      "source": [
        "For comparison, the uncalibrated, unfiltered phasor coordinates:\n\n"
      ]
    },
    {
      "cell_type": "code",
      "execution_count": null,
      "metadata": {
        "collapsed": false
      },
      "outputs": [],
      "source": [
        "plot = PhasorPlot(allquadrants=True, title='Raw phasor coordinates')\nplot.hist2d(uncalibrated_real, uncalibrated_imag)\nplot.semicircle()\nplot.show()"
      ]
    },
    {
      "cell_type": "markdown",
      "metadata": {},
      "source": [
        "## To be continued\n\n"
      ]
    },
    {
      "cell_type": "markdown",
      "metadata": {},
      "source": [
        "## Appendix\n\nPrint information about Python interpreter and installed packages:\n\n"
      ]
    },
    {
      "cell_type": "code",
      "execution_count": null,
      "metadata": {
        "collapsed": false
      },
      "outputs": [],
      "source": [
        "print(phasorpy.versions())"
      ]
    },
    {
      "cell_type": "markdown",
      "metadata": {},
      "source": [
        "sphinx_gallery_thumbnail_number = 3\n\n"
      ]
    }
  ],
  "metadata": {
    "kernelspec": {
      "display_name": "Python 3",
      "language": "python",
      "name": "python3"
    },
    "language_info": {
      "codemirror_mode": {
        "name": "ipython",
        "version": 3
      },
      "file_extension": ".py",
      "mimetype": "text/x-python",
      "name": "python",
      "nbconvert_exporter": "python",
      "pygments_lexer": "ipython3",
      "version": "3.11.9"
    }
  },
  "nbformat": 4,
  "nbformat_minor": 0
}