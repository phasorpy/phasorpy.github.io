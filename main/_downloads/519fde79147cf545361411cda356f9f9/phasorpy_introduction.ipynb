{
  "cells": [
    {
      "cell_type": "markdown",
      "metadata": {},
      "source": [
        "\n# Introduction\n\nThis tutorial provides an introduction to using the PhasorPy library.\n"
      ]
    },
    {
      "cell_type": "markdown",
      "metadata": {},
      "source": [
        "## Install Python\n\nAn installation of Python version 3.10 or higher is required to use the\nPhasorPy library.\nPython is an easy to learn, powerful programming language.\nPython installers can be obtained from, for example,\n[Python.org](https://www.python.org/downloads/) or\n[Anaconda.com](https://www.anaconda.com/).\nRefer to the [Python Tutorial](https://docs.python.org/3/tutorial/)\nfor an introduction to Python.\n\n## Install PhasorPy\n\nOn a command prompt, shell or terminal, run ``pip`` to download and install\nthe PhasorPy library and all its dependencies from the Python Package Index::\n\n$ python -m pip install -U phasorpy\n\n"
      ]
    },
    {
      "cell_type": "markdown",
      "metadata": {},
      "source": [
        "## Import phasorpy\n\nOpen the Python interpreter, import the ``phasorpy`` package, and check its\nversion:\n\n"
      ]
    },
    {
      "cell_type": "code",
      "execution_count": null,
      "metadata": {
        "collapsed": false
      },
      "outputs": [],
      "source": [
        "import phasorpy\n\nprint(phasorpy.__version__)"
      ]
    },
    {
      "cell_type": "markdown",
      "metadata": {},
      "source": [
        "## Read data file\n\nPhasorPy provides many functions to read image and metadata from file formats\nused in microscopy.\nFor example, ...:\n\n"
      ]
    },
    {
      "cell_type": "code",
      "execution_count": null,
      "metadata": {
        "collapsed": false
      },
      "outputs": [],
      "source": [
        "..."
      ]
    },
    {
      "cell_type": "markdown",
      "metadata": {},
      "source": [
        "## Calculate phasor coordinates\n\nCalculate the phasor coordinates for the image stack using known reference\ncoordinates:\n\n"
      ]
    },
    {
      "cell_type": "code",
      "execution_count": null,
      "metadata": {
        "collapsed": false
      },
      "outputs": [],
      "source": [
        "..."
      ]
    },
    {
      "cell_type": "markdown",
      "metadata": {},
      "source": [
        "## Display phasor plot\n\n"
      ]
    },
    {
      "cell_type": "code",
      "execution_count": null,
      "metadata": {
        "collapsed": false
      },
      "outputs": [],
      "source": [
        "from matplotlib import pyplot\n\npyplot.imshow([[0, 1], [2, 3]])"
      ]
    },
    {
      "cell_type": "markdown",
      "metadata": {},
      "source": [
        "## Segment intensity image\nShow the intensity image, colored according to a selection of phasor\ncoordinates:\n\n"
      ]
    },
    {
      "cell_type": "code",
      "execution_count": null,
      "metadata": {
        "collapsed": false
      },
      "outputs": [],
      "source": [
        "..."
      ]
    }
  ],
  "metadata": {
    "kernelspec": {
      "display_name": "Python 3",
      "language": "python",
      "name": "python3"
    },
    "language_info": {
      "codemirror_mode": {
        "name": "ipython",
        "version": 3
      },
      "file_extension": ".py",
      "mimetype": "text/x-python",
      "name": "python",
      "nbconvert_exporter": "python",
      "pygments_lexer": "ipython3",
      "version": "3.11.8"
    }
  },
  "nbformat": 4,
  "nbformat_minor": 0
}