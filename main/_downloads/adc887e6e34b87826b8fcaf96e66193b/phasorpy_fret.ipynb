{
  "cells": [
    {
      "cell_type": "markdown",
      "metadata": {},
      "source": [
        "\n# FRET calculations\n\nCalculate phasor coordinates of FRET donor and acceptor channels.\n\nThe :py:func:`phasorpy.phasor.phasor_from_fret_donor`\nand :py:func:`phasorpy.phasor.phasor_from_fret_acceptor`\nfunctions are used to calculate phasor coordinates of\nFRET (F\u00f6rster Resonance Energy Transfer) donor and acceptor channels\nas a function of:\n\n- laser pulse or modulation frequency\n- donor and acceptor lifetimes\n- FRET efficiency\n- fraction of donors undergoing FRET\n- fraction of directly excited acceptors\n- fraction of donor fluorescence in acceptor channel\n- fraction of background fluorescence\n"
      ]
    },
    {
      "cell_type": "markdown",
      "metadata": {},
      "source": [
        "Define a helper function to compute and plot phasor coordinates of\nFRET donor and acceptor channels over a range of FRET efficiencies:\n\n"
      ]
    },
    {
      "cell_type": "code",
      "execution_count": null,
      "metadata": {
        "collapsed": false
      },
      "outputs": [],
      "source": [
        "import numpy\n\nfrom phasorpy.phasor import (\n    phasor_from_fret_acceptor,\n    phasor_from_fret_donor,\n    phasor_from_lifetime,\n)\nfrom phasorpy.plot import PhasorPlot\n\n\ndef plot_fret_trajectories(\n    frequency=60.0,  # MHz\n    donor_lifetime=4.2,  # ns\n    acceptor_lifetime=3.0,  # ns\n    fret_efficiency=numpy.linspace(0.0, 1.0, 101),  # 0%..100%, 1% steps\n    *,\n    donor_freting=1.0,  # all donors participating in FRET\n    donor_bleedthrough=0.0,  # no donor fluorescence in acceptor channel\n    acceptor_excitation=0.0,  # no directly excited acceptor\n    acceptor_background=0.0,  # no background in acceptor channel\n    donor_background=0.0,  # no background in donor channel\n    background_real=0.0,\n    background_imag=0.0,\n    title=None,\n):\n    \"\"\"Plot phasor coordinates of FRET donor and acceptor channels.\"\"\"\n    # phasor of donor channel\n    donor_fret_real, donor_fret_imag = phasor_from_fret_donor(\n        frequency,\n        donor_lifetime,\n        fret_efficiency=fret_efficiency,\n        donor_freting=donor_freting,\n        donor_background=donor_background,\n        background_real=background_real,\n        background_imag=background_imag,\n    )\n\n    # phasor of acceptor channel\n    acceptor_fret_real, acceptor_fret_imag = phasor_from_fret_acceptor(\n        frequency,\n        donor_lifetime,\n        acceptor_lifetime,\n        fret_efficiency=fret_efficiency,\n        donor_freting=donor_freting,\n        donor_bleedthrough=donor_bleedthrough,\n        acceptor_excitation=acceptor_excitation,\n        acceptor_background=acceptor_background,\n        background_real=background_real,\n        background_imag=background_imag,\n    )\n\n    # phasor of donor lifetime\n    donor_real, donor_imag = phasor_from_lifetime(frequency, donor_lifetime)\n\n    # phasor of acceptor lifetime\n    acceptor_real, acceptor_imag = phasor_from_lifetime(\n        frequency, acceptor_lifetime\n    )\n\n    plot = PhasorPlot(\n        title=title,\n        frequency=frequency,\n        xlim=[-0.2, 1.1],\n    )\n    plot.semicircle(phasor_reference=(acceptor_real, acceptor_imag))\n    if donor_background > 0.0:\n        plot.line(\n            [donor_real, background_real],\n            [donor_imag, background_imag],\n        )\n    if acceptor_background > 0.0:\n        plot.line(\n            [acceptor_real, background_real],\n            [acceptor_imag, background_imag],\n        )\n    plot.plot(\n        donor_fret_real,\n        donor_fret_imag,\n        fmt='-',\n        color='tab:green',\n    )\n    plot.plot(\n        acceptor_fret_real,\n        acceptor_fret_imag,\n        fmt='-',\n        color='tab:red',\n    )\n    plot.plot(\n        donor_real,\n        donor_imag,\n        fmt='o',\n        color='tab:green',\n        label='Donor',\n    )\n    plot.plot(\n        acceptor_real,\n        acceptor_imag,\n        fmt='o',\n        color='tab:red',\n        label='Acceptor',\n    )\n    if donor_background > 0.0 or acceptor_background > 0.0:\n        plot.plot(\n            background_real,\n            background_imag,\n            fmt='o',\n            color='black',\n            label='Background',\n        )\n    plot.show()"
      ]
    },
    {
      "cell_type": "markdown",
      "metadata": {},
      "source": [
        "## FRET efficiency trajectories\n\nThe lifetime $\\tau_{DA}$ and fluorescence intensity $F_{DA}$\nof a FRET donor quenched by energy transfer of efficiency $E$ is given\nby $\\tau_{DA} = \\tau_{D} (1 - E)$ and $F_{DA} = F_{D} (1 - E)$,\nwhere $\\tau_{D}$ and $F_{D}$ are the donor lifetime and\nintensity in absence of energy transfer.\n\nHence, in the absence of background fluorescence and donors not undergoing\nenergy transfer, the phasor coordinates of the donor channel at different\nFRET efficiencies lie on the universal semicircle.\nAt 100% energy transfer, the donor lifetime and fluorescence intensity are\nzero.\n\nThe sensitized emission of a FRET acceptor is phase-shifted and demodulated\nrelative to the FRET donor because of the duration of, and dissipation\nduring, relaxation and energy transfer processes.\nHence, in the absence of directly excited acceptor, donor bleedthrough,\nand background fluorescence, the phasor coordinates of the acceptor channel\nat different FRET efficiencies lie outside the universal semicircle of\nthe donor.\n\n"
      ]
    },
    {
      "cell_type": "code",
      "execution_count": null,
      "metadata": {
        "collapsed": false
      },
      "outputs": [],
      "source": [
        "plot_fret_trajectories(title='FRET efficiency trajectories')"
      ]
    },
    {
      "cell_type": "markdown",
      "metadata": {},
      "source": [
        "## Fractions not FRETing\n\nAdding fractions of donors not participating in FRET and fractions\nof directly excited acceptors pulls the FRET trajectories of the donor\nand acceptor channels towards the phasor coordinates of the donor and\nacceptor without FRET:\n\n"
      ]
    },
    {
      "cell_type": "code",
      "execution_count": null,
      "metadata": {
        "collapsed": false
      },
      "outputs": [],
      "source": [
        "plot_fret_trajectories(\n    title='FRET efficiency trajectories with fractions not FRETing',\n    donor_freting=0.9,  # 90%\n    acceptor_excitation=0.1,  # 10%\n)"
      ]
    },
    {
      "cell_type": "markdown",
      "metadata": {},
      "source": [
        "## Donor bleedthrough\n\nIf the acceptor channel contains fractions of donor fluorescence,\nthe FRET efficiency trajectory of the acceptor channel is pulled towards\nthe phasor coordinates of the donor channel:\n\n"
      ]
    },
    {
      "cell_type": "code",
      "execution_count": null,
      "metadata": {
        "collapsed": false
      },
      "outputs": [],
      "source": [
        "plot_fret_trajectories(\n    title='FRET efficiency trajectories with donor bleedthrough',\n    donor_bleedthrough=0.1,  # 10%\n)"
      ]
    },
    {
      "cell_type": "markdown",
      "metadata": {},
      "source": [
        "## Background fluorescence\n\nIn the presence of background fluorescence, the FRET efficiency trajectories\nare linear combinations with the background phasor coordinates.\nAt 100% energy transfer, the donor channel only contains background\nfluorescence.\nAt 0% energy transfer, in the absence of donor bleedthrough and directly\nexcited acceptor, the acceptor channel only contains background fluorescence:\n\n"
      ]
    },
    {
      "cell_type": "code",
      "execution_count": null,
      "metadata": {
        "collapsed": false
      },
      "outputs": [],
      "source": [
        "plot_fret_trajectories(\n    title='FRET efficiency trajectories with background',\n    acceptor_background=0.1,  # 10%\n    donor_background=0.1,  # 10%\n    background_real=0.5,\n    background_imag=0.2,\n)"
      ]
    },
    {
      "cell_type": "markdown",
      "metadata": {},
      "source": [
        "## Many parameters\n\nThe phasor coordinates of the donor channel may contain fractions of:\n\n- donor not undergoing energy transfer\n- donor quenched by energy transfer\n- background fluorescence\n\nThe phasor coordinates of the acceptor channel may contain fractions of:\n\n- acceptor sensitized by energy transfer\n- directly excited acceptor\n- donor bleedthrough\n- background fluorescence\n\n"
      ]
    },
    {
      "cell_type": "code",
      "execution_count": null,
      "metadata": {
        "collapsed": false
      },
      "outputs": [],
      "source": [
        "plot_fret_trajectories(\n    title='FRET efficiency trajectories with many parameters',\n    donor_freting=0.9,\n    donor_bleedthrough=0.1,\n    acceptor_excitation=0.1,\n    acceptor_background=0.1,\n    donor_background=0.1,\n    background_real=0.5,\n    background_imag=0.2,\n)"
      ]
    },
    {
      "cell_type": "markdown",
      "metadata": {},
      "source": [
        "## Multi-frequency plot\n\nSince the components of the FRET model have different frequency responses,\nthe multi-frequency plots of donor and acceptor channels may show\ncomplex patterns.\nBackground fluorescence is omitted from this example to model an\nin vitro experiment:\n\n"
      ]
    },
    {
      "cell_type": "code",
      "execution_count": null,
      "metadata": {
        "collapsed": false
      },
      "outputs": [],
      "source": [
        "from phasorpy.phasor import phasor_to_polar\nfrom phasorpy.plot import plot_polar_frequency\n\nfrequency = numpy.logspace(0, 4, 64).reshape(-1, 1)  # 1-1000 MHz\nfret_efficiency = numpy.array([0.05, 0.95]).reshape(1, -1)  # 5% and 95%\ndonor_lifetime = 4.2  # ns\nacceptor_lifetime = 3.0  # ns\ndonor_freting = 0.9  # 90%\ndonor_bleedthrough = 0.1  # 10%\nacceptor_excitation = 0.1  # 10%\n\ndonor_real, donor_imag = phasor_from_fret_donor(\n    frequency,\n    donor_lifetime,\n    fret_efficiency=fret_efficiency,\n    donor_freting=donor_freting,\n)\n\n# phasor of acceptor channel\nacceptor_real, acceptor_imag = phasor_from_fret_acceptor(\n    frequency,\n    donor_lifetime,\n    acceptor_lifetime,\n    fret_efficiency=fret_efficiency,\n    donor_freting=donor_freting,\n    donor_bleedthrough=donor_bleedthrough,\n    acceptor_excitation=acceptor_excitation,\n)\n\nplot_polar_frequency(\n    frequency,\n    phasor_to_polar(donor_real, donor_imag)[0],\n    phasor_to_polar(donor_real, donor_imag)[1],\n    title='Donor channel',\n)"
      ]
    },
    {
      "cell_type": "code",
      "execution_count": null,
      "metadata": {
        "collapsed": false
      },
      "outputs": [],
      "source": [
        "plot_polar_frequency(\n    frequency,\n    *phasor_to_polar(acceptor_real, acceptor_imag),\n    title='Acceptor channel',\n)"
      ]
    },
    {
      "cell_type": "markdown",
      "metadata": {},
      "source": [
        "sphinx_gallery_thumbnail_number = 5\n\n"
      ]
    }
  ],
  "metadata": {
    "kernelspec": {
      "display_name": "Python 3",
      "language": "python",
      "name": "python3"
    },
    "language_info": {
      "codemirror_mode": {
        "name": "ipython",
        "version": 3
      },
      "file_extension": ".py",
      "mimetype": "text/x-python",
      "name": "python",
      "nbconvert_exporter": "python",
      "pygments_lexer": "ipython3",
      "version": "3.11.8"
    }
  },
  "nbformat": 4,
  "nbformat_minor": 0
}