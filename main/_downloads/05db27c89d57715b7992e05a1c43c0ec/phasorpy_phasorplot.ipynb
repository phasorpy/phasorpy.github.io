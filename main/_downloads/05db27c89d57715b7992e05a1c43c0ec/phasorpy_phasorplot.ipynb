{
  "cells": [
    {
      "cell_type": "markdown",
      "metadata": {},
      "source": [
        "\n# Phasor plot\n\nAn introduction to plotting phasor coordinates.\n\nThe :py:class:`phasorpy.plot.PhasorPlot` class is used to plot phasor\ncoordinates as scattered points, lines, 2D histograms, and contours.\nThe plots are supplemented with universal semicircles, polar grids,\npolar cursors, component mixture indicators, and manual annotations.\n"
      ]
    },
    {
      "cell_type": "markdown",
      "metadata": {},
      "source": [
        "Import required modules, functions, and classes:\n\n"
      ]
    },
    {
      "cell_type": "code",
      "execution_count": null,
      "metadata": {
        "collapsed": false
      },
      "outputs": [],
      "source": [
        "import math\n\nimport numpy\n\nfrom phasorpy.plot import PhasorPlot\n\nnumpy.random.seed(42)"
      ]
    },
    {
      "cell_type": "markdown",
      "metadata": {},
      "source": [
        "## Empty phasor plot\n\nCreate an empty phasor plot, showing the first quadrant and the\nuniversal semicircle:\n\n"
      ]
    },
    {
      "cell_type": "code",
      "execution_count": null,
      "metadata": {
        "collapsed": false
      },
      "outputs": [],
      "source": [
        "plot = PhasorPlot()\nplot.show()"
      ]
    },
    {
      "cell_type": "markdown",
      "metadata": {},
      "source": [
        "## Universal semicircle\n\nCreate a phasor plot at a frequency of 80 MHz and custom axis limits.\nAdd a second, transformed universal semicircle:\n\n"
      ]
    },
    {
      "cell_type": "code",
      "execution_count": null,
      "metadata": {
        "collapsed": false
      },
      "outputs": [],
      "source": [
        "plot = PhasorPlot(frequency=80.0, xlim=(-0.2, 1.05))\nplot.semicircle(polar_reference=(0.9852, 0.5526))\nplot.show()"
      ]
    },
    {
      "cell_type": "markdown",
      "metadata": {},
      "source": [
        "## Scatter and line plots\n\nPlot phasor coordinates as scatter and/or lines:\n\n"
      ]
    },
    {
      "cell_type": "code",
      "execution_count": null,
      "metadata": {
        "collapsed": false
      },
      "outputs": [],
      "source": [
        "plot = PhasorPlot(frequency=80.0, title='Scatter and line plots')\nplot.plot(0.6, 0.4, label='1')\nplot.plot([0.2, 0.9], [0.4, 0.3], '.-', label='2')\nplot.plot([0.39, 0.4, 0.41], [0.21, 0.19, 0.2], 'x', label='3')\nplot.show()"
      ]
    },
    {
      "cell_type": "markdown",
      "metadata": {},
      "source": [
        "## Cursors\n\nPoint out certain polar coordinates, and ranges thereof,\nusing phasor coordinates:\n\n"
      ]
    },
    {
      "cell_type": "code",
      "execution_count": null,
      "metadata": {
        "collapsed": false
      },
      "outputs": [],
      "source": [
        "plot = PhasorPlot(frequency=80.0, title='Cursors')\nplot.cursor(0.4, 0.3)\nplot.cursor(0.5, 0.3, 0.8, 0.15)\nplot.cursor(0.9, 0.3, radius=0.05)\nplot.show()"
      ]
    },
    {
      "cell_type": "markdown",
      "metadata": {},
      "source": [
        "Alternatively, use polar coordinates:\n\n"
      ]
    },
    {
      "cell_type": "code",
      "execution_count": null,
      "metadata": {
        "collapsed": false
      },
      "outputs": [],
      "source": [
        "plot = PhasorPlot(frequency=80.0, title='Polar cursors')\nplot.polar_cursor(0.6435, 0.5, linestyle='-')\nplot.polar_cursor(0.5236, 0.6, 0.1963, 0.8, linewidth=2)\nplot.polar_cursor(0.3233, 0.9482, radius=0.05, color='tab:red')\nplot.show()"
      ]
    },
    {
      "cell_type": "markdown",
      "metadata": {},
      "source": [
        "## Component mixtures\n\nShow linear combinations of phasor coordinates or ranges thereof:\n\n"
      ]
    },
    {
      "cell_type": "code",
      "execution_count": null,
      "metadata": {
        "collapsed": false
      },
      "outputs": [],
      "source": [
        "real, imag, weights = numpy.array(\n    [[0.1, 0.2, 0.5, 0.9], [0.3, 0.4, 0.5, 0.3], [2, 1, 2, 1]]\n)\n\nplot = PhasorPlot(frequency=80.0, title='Component mixtures')\nplot.components(real, imag, linestyle='', fill=True, facecolor='lightyellow')\nplot.components(real, imag, weights)\nplot.show()"
      ]
    },
    {
      "cell_type": "markdown",
      "metadata": {},
      "source": [
        "## 2D Histogram\n\nPlot large number of phasor coordinates as a 2D histogram:\n\n"
      ]
    },
    {
      "cell_type": "code",
      "execution_count": null,
      "metadata": {
        "collapsed": false
      },
      "outputs": [],
      "source": [
        "real, imag = numpy.random.multivariate_normal(\n    (0.6, 0.4), [[3e-3, -1e-3], [-1e-3, 1e-3]], (256, 256)\n).T\nplot = PhasorPlot(frequency=80.0, title='2D Histogram')\nplot.hist2d(real, imag)\nplot.show()"
      ]
    },
    {
      "cell_type": "markdown",
      "metadata": {},
      "source": [
        "## Contours\n\nPlot the contours of the density of phasor coordinates:\n\n"
      ]
    },
    {
      "cell_type": "code",
      "execution_count": null,
      "metadata": {
        "collapsed": false
      },
      "outputs": [],
      "source": [
        "plot = PhasorPlot(frequency=80.0, title='Contours')\nplot.contour(real, imag)\nplot.show()"
      ]
    },
    {
      "cell_type": "markdown",
      "metadata": {},
      "source": [
        "## Image\n\nPlot the image of a custom-colored 2D histogram:\n\n"
      ]
    },
    {
      "cell_type": "code",
      "execution_count": null,
      "metadata": {
        "collapsed": false
      },
      "outputs": [],
      "source": [
        "plot = PhasorPlot(frequency=80.0, title='Image (not implemented yet)')\n# plot.imshow(image)\nplot.show()"
      ]
    },
    {
      "cell_type": "markdown",
      "metadata": {},
      "source": [
        "## Combined plots\n\nMultiple plots can be combined:\n\n"
      ]
    },
    {
      "cell_type": "code",
      "execution_count": null,
      "metadata": {
        "collapsed": false
      },
      "outputs": [],
      "source": [
        "real2, imag2 = numpy.random.multivariate_normal(\n    (0.9, 0.2), [[2e-4, -1e-4], [-1e-4, 2e-4]], 4096\n).T\n\nplot = PhasorPlot(\n    title='Combined plots', xlim=(0.35, 1.03), ylim=(0.1, 0.59), grid=False\n)\nplot.hist2d(real, imag, bins=64, cmap='Blues')\nplot.contour(real, imag, bins=48, levels=3, cmap='summer_r', norm='log')\nplot.hist2d(real2, imag2, bins=64, cmap='Oranges')\nplot.plot(0.6, 0.4, '.', color='tab:blue')\nplot.plot(0.9, 0.2, '.', color='tab:orange')\nplot.cursor(0.9, 0.2, color='tab:orange')\nplot.polar_cursor(math.atan2(0.4, 0.6), math.hypot(0.6, 0.4), color='tab:blue')\nplot.semicircle(frequency=80.0, color='tab:purple')\nplot.show()"
      ]
    },
    {
      "cell_type": "markdown",
      "metadata": {},
      "source": [
        "## All quadrants\n\nCreate an empty phasor plot showing all four quadrants:\n\n"
      ]
    },
    {
      "cell_type": "code",
      "execution_count": null,
      "metadata": {
        "collapsed": false
      },
      "outputs": [],
      "source": [
        "plot = PhasorPlot(allquadrants=True, title='All quadrants')\nplot.show()"
      ]
    },
    {
      "cell_type": "markdown",
      "metadata": {},
      "source": [
        "## Matplotlib axes\n\nThe PhasorPlot class can use an existing matlotlib axes.\nThe `PhasorPlot.ax` attribute provides access to the underlying\nmatplotlib axes, for example, to add annotations:\n\n"
      ]
    },
    {
      "cell_type": "code",
      "execution_count": null,
      "metadata": {
        "collapsed": false
      },
      "outputs": [],
      "source": [
        "from matplotlib import pyplot\n\nax = pyplot.subplot(1, 1, 1)\nplot = PhasorPlot(ax=ax, allquadrants=True, title='Matplotlib axes')\nplot.hist2d(real, imag, cmap='Blues')\nplot.ax.annotate(\n    '0.6, 0.4',\n    xy=(0.6, 0.4),\n    xytext=(0.2, 0.2),\n    arrowprops=dict(arrowstyle='->'),\n)\npyplot.show()"
      ]
    },
    {
      "cell_type": "markdown",
      "metadata": {},
      "source": [
        "## plot_phasor function\n\nThe :py:func:`phasorpy.plot.plot_phasor` function provides a simpler\nalternative to plot phasor coordinates in a single statement:\n\n"
      ]
    },
    {
      "cell_type": "code",
      "execution_count": null,
      "metadata": {
        "collapsed": false
      },
      "outputs": [],
      "source": [
        "from phasorpy.plot import plot_phasor\n\nplot_phasor(real[0, :32], imag[0, :32], fmt='.', frequency=80.0)"
      ]
    },
    {
      "cell_type": "markdown",
      "metadata": {},
      "source": [
        "sphinx_gallery_thumbnail_number = 10\n\n"
      ]
    }
  ],
  "metadata": {
    "kernelspec": {
      "display_name": "Python 3",
      "language": "python",
      "name": "python3"
    },
    "language_info": {
      "codemirror_mode": {
        "name": "ipython",
        "version": 3
      },
      "file_extension": ".py",
      "mimetype": "text/x-python",
      "name": "python",
      "nbconvert_exporter": "python",
      "pygments_lexer": "ipython3",
      "version": "3.11.9"
    }
  },
  "nbformat": 4,
  "nbformat_minor": 0
}