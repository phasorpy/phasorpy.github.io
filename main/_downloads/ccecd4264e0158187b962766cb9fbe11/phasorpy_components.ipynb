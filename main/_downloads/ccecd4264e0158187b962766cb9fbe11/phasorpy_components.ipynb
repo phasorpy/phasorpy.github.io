{
  "cells": [
    {
      "cell_type": "markdown",
      "metadata": {},
      "source": [
        "\n# Component analysis\n\nAn introduction to component analysis in the phasor space.\n"
      ]
    },
    {
      "cell_type": "markdown",
      "metadata": {},
      "source": [
        "Import required modules, functions, and classes:\n\n"
      ]
    },
    {
      "cell_type": "code",
      "execution_count": null,
      "metadata": {
        "collapsed": false
      },
      "outputs": [],
      "source": [
        "import matplotlib.pyplot as plt\nimport numpy\n\nfrom phasorpy.components import two_fractions_from_phasor\nfrom phasorpy.phasor import phasor_from_lifetime\nfrom phasorpy.plot import PhasorPlot\n\nnumpy.random.seed(42)"
      ]
    },
    {
      "cell_type": "markdown",
      "metadata": {},
      "source": [
        "## Fractions of combination of two components\n\nThe phasor coordinate of a combination of two lifetime components lie on\nthe line between the two components. For example, a combination with 25%\ncontribution of a component with lifetime 8.0 ns and 75% contribution of\na second component with lifetime 1.0 ns at 80 MHz:\n\n"
      ]
    },
    {
      "cell_type": "code",
      "execution_count": null,
      "metadata": {
        "collapsed": false
      },
      "outputs": [],
      "source": [
        "frequency = 80.0\ncomponents_lifetimes = [8.0, 1.0]\ncomponent_fractions = [0.25, 0.75]\nreal, imag = phasor_from_lifetime(\n    frequency, components_lifetimes, component_fractions\n)\ncomponents_real, components_imag = phasor_from_lifetime(\n    frequency, components_lifetimes\n)\nplot = PhasorPlot(frequency=frequency, title='Combination of two components')\nplot.plot(components_real, components_imag, fmt='o-')\nplot.plot(real, imag)\nplot.show()"
      ]
    },
    {
      "cell_type": "markdown",
      "metadata": {},
      "source": [
        "If the location of both components is known, their contributions\nto the phasor point that lies on the line between the components\ncan be calculated:\n\n"
      ]
    },
    {
      "cell_type": "code",
      "execution_count": null,
      "metadata": {
        "collapsed": false
      },
      "outputs": [],
      "source": [
        "(\n    fraction_of_first_component,\n    fraction_of_second_component,\n) = two_fractions_from_phasor(real, imag, components_real, components_imag)\nprint(f'Fraction of first component:  {fraction_of_first_component:.3f}')\nprint(f'Fraction of second component: {fraction_of_second_component:.3f}')"
      ]
    },
    {
      "cell_type": "markdown",
      "metadata": {},
      "source": [
        "## Contribution of two known components in multiple phasors\n\nPhasors can have different contributions of two components with known\nphasor coordinates:\n\n"
      ]
    },
    {
      "cell_type": "code",
      "execution_count": null,
      "metadata": {
        "collapsed": false
      },
      "outputs": [],
      "source": [
        "real, imag = numpy.random.multivariate_normal(\n    (0.6, 0.35), [[8e-3, 1e-3], [1e-3, 1e-3]], (100, 100)\n).T\nplot = PhasorPlot(\n    frequency=frequency,\n    title='Phasor with contribution of two known components',\n)\nplot.hist2d(real, imag, cmap='plasma')\nplot.plot(*phasor_from_lifetime(frequency, components_lifetimes), fmt='o-')\nplot.show()"
      ]
    },
    {
      "cell_type": "markdown",
      "metadata": {},
      "source": [
        "If the phasor coordinates of two components contributing to multiple\nphasors are known, their fractional contributions to each phasor coordinate\ncan be calculated and plotted as histograms:\n\n"
      ]
    },
    {
      "cell_type": "code",
      "execution_count": null,
      "metadata": {
        "collapsed": false
      },
      "outputs": [],
      "source": [
        "(\n    fraction_from_first_component,\n    fraction_from_second_component,\n) = two_fractions_from_phasor(real, imag, components_real, components_imag)\nfig, ax = plt.subplots()\nax.hist(\n    fraction_from_first_component.flatten(),\n    range=(0, 1),\n    bins=100,\n    alpha=0.75,\n    label='First',\n)\nax.hist(\n    fraction_from_second_component.flatten(),\n    range=(0, 1),\n    bins=100,\n    alpha=0.75,\n    label='Second',\n)\nax.set_title('Histograms of fractions of first and second component')\nax.set_xlabel('Fraction')\nax.set_ylabel('Counts')\nax.legend()\nplt.tight_layout()\nplt.show()"
      ]
    },
    {
      "cell_type": "markdown",
      "metadata": {},
      "source": [
        "sphinx_gallery_thumbnail_number = 2\n\n"
      ]
    }
  ],
  "metadata": {
    "kernelspec": {
      "display_name": "Python 3",
      "language": "python",
      "name": "python3"
    },
    "language_info": {
      "codemirror_mode": {
        "name": "ipython",
        "version": 3
      },
      "file_extension": ".py",
      "mimetype": "text/x-python",
      "name": "python",
      "nbconvert_exporter": "python",
      "pygments_lexer": "ipython3",
      "version": "3.11.9"
    }
  },
  "nbformat": 4,
  "nbformat_minor": 0
}