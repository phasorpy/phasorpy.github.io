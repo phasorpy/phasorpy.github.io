{
  "cells": [
    {
      "cell_type": "markdown",
      "metadata": {},
      "source": [
        "\n# Component analysis\n\nAn introduction to component analysis in the phasor space.\n"
      ]
    },
    {
      "cell_type": "markdown",
      "metadata": {},
      "source": [
        "Import required modules, functions, and classes:\n\n"
      ]
    },
    {
      "cell_type": "code",
      "execution_count": null,
      "metadata": {
        "collapsed": false
      },
      "outputs": [],
      "source": [
        "import matplotlib.animation as animation\nimport matplotlib.pyplot as plt\nimport numpy\n\nfrom phasorpy._utils import line_from_components, mask_segment\nfrom phasorpy.components import (\n    graphical_component_analysis,\n    two_fractions_from_phasor,\n)\nfrom phasorpy.phasor import phasor_from_lifetime\nfrom phasorpy.plot import PhasorPlot\n\nnumpy.random.seed(42)"
      ]
    },
    {
      "cell_type": "markdown",
      "metadata": {},
      "source": [
        "## Fractions of combination of two components\n\nThe phasor coordinate of a combination of two lifetime components lie on\nthe line between the two components. For example, a combination with 25%\ncontribution of a component with lifetime 8.0 ns and 75% contribution of\na second component with lifetime 1.0 ns at 80 MHz:\n\n"
      ]
    },
    {
      "cell_type": "code",
      "execution_count": null,
      "metadata": {
        "collapsed": false
      },
      "outputs": [],
      "source": [
        "frequency = 80.0\ncomponents_lifetimes = [8.0, 1.0]\ncomponent_fractions = [0.25, 0.75]\nreal, imag = phasor_from_lifetime(\n    frequency, components_lifetimes, component_fractions\n)\ncomponents_real, components_imag = phasor_from_lifetime(\n    frequency, components_lifetimes\n)\nplot = PhasorPlot(frequency=frequency, title='Combination of two components')\nplot.plot(components_real, components_imag, fmt='o-')\nplot.plot(real, imag)\nplot.show()"
      ]
    },
    {
      "cell_type": "markdown",
      "metadata": {},
      "source": [
        "If the location of both components is known, their contributions\nto the phasor point that lies on the line between the components\ncan be calculated:\n\n"
      ]
    },
    {
      "cell_type": "code",
      "execution_count": null,
      "metadata": {
        "collapsed": false
      },
      "outputs": [],
      "source": [
        "(\n    fraction_of_first_component,\n    fraction_of_second_component,\n) = two_fractions_from_phasor(real, imag, components_real, components_imag)\nprint(f'Fraction of first component:  {fraction_of_first_component:.3f}')\nprint(f'Fraction of second component: {fraction_of_second_component:.3f}')"
      ]
    },
    {
      "cell_type": "markdown",
      "metadata": {},
      "source": [
        "## Contribution of two known components in multiple phasors\n\nPhasors can have different contributions of two components with known\nphasor coordinates:\n\n"
      ]
    },
    {
      "cell_type": "code",
      "execution_count": null,
      "metadata": {
        "collapsed": false
      },
      "outputs": [],
      "source": [
        "real, imag = numpy.random.multivariate_normal(\n    (0.5, 0.33), [[5e-3, 1e-3], [1e-3, 1e-3]], (100, 100)\n).T\nplot = PhasorPlot(\n    frequency=frequency,\n    title='Phasor with contribution of two known components',\n)\nplot.hist2d(real, imag, cmap='plasma')\nplot.plot(*phasor_from_lifetime(frequency, components_lifetimes), fmt='o-')\nplot.show()"
      ]
    },
    {
      "cell_type": "markdown",
      "metadata": {},
      "source": [
        "If the phasor coordinates of two components contributing to multiple\nphasors are known, their fractional contributions to each phasor coordinate\ncan be calculated and plotted as histograms:\n\n"
      ]
    },
    {
      "cell_type": "code",
      "execution_count": null,
      "metadata": {
        "collapsed": false
      },
      "outputs": [],
      "source": [
        "(\n    fraction_from_first_component,\n    fraction_from_second_component,\n) = two_fractions_from_phasor(real, imag, components_real, components_imag)\nfig, ax = plt.subplots()\nax.hist(\n    fraction_from_first_component.flatten(),\n    range=(0, 1),\n    bins=100,\n    alpha=0.75,\n    label='First',\n)\nax.hist(\n    fraction_from_second_component.flatten(),\n    range=(0, 1),\n    bins=100,\n    alpha=0.75,\n    label='Second',\n)\nax.set_title('Histograms of fractions of first and second component')\nax.set_xlabel('Fraction')\nax.set_ylabel('Counts')\nax.legend()\nplt.tight_layout()\nplt.show()"
      ]
    },
    {
      "cell_type": "markdown",
      "metadata": {},
      "source": [
        "## Graphical solution for the contribution of multiple components\n\nThe :py:func:`graphical_component_analysis` function performs the graphical\nanalysis for two or three components and returns the number of phasors\nfor each fraction of the components (with respect to other components):\n\n"
      ]
    },
    {
      "cell_type": "code",
      "execution_count": null,
      "metadata": {
        "collapsed": false
      },
      "outputs": [],
      "source": [
        "components_real, components_imag = phasor_from_lifetime(\n    frequency, [1.0, 4.0, 15.0]\n)\ncounts, fractions = graphical_component_analysis(\n    real, imag, components_real, components_imag\n)\nfig, ax = plt.subplots()\nplot = PhasorPlot(\n    frequency=frequency,\n    title='Phasor with contribution of three known components',\n    ax=ax,\n)\nplot.hist2d(real, imag, cmap='plasma')\nplot.plot(components_real, components_imag, 'o-', color='blue')\nplot.plot(\n    components_real[[0, -1]], components_imag[[0, -1]], fmt='-', color='blue'\n)\nax.annotate('A', xy=(0.8, 0.45), fontsize=16, fontweight='bold', color='blue')\nax.annotate('B', xy=(0.13, 0.43), fontsize=16, fontweight='bold', color='blue')\nax.annotate(\n    'C', xy=(-0.04, 0.12), fontsize=16, fontweight='bold', color='blue'\n)\nplt.show()"
      ]
    },
    {
      "cell_type": "markdown",
      "metadata": {},
      "source": [
        "The results can be plotted as histograms for each component pair:\n\n"
      ]
    },
    {
      "cell_type": "code",
      "execution_count": null,
      "metadata": {
        "collapsed": false
      },
      "outputs": [],
      "source": [
        "fig, ax = plt.subplots()\nax.plot(fractions, counts[0], linestyle='-', label='Component A vs B')\nax.plot(fractions, counts[1], linestyle='-', label='Component A vs C')\nax.plot(fractions, counts[2], linestyle='-', label='Component B vs C')\nax.set_xlabel('Fraction of component')\nax.set_ylabel('Counts')\nax.set_title('Contribution of multiple components')\nax.legend()\nplt.show()"
      ]
    },
    {
      "cell_type": "markdown",
      "metadata": {},
      "source": [
        "The graphical method for resolving the contribution of two or\nthree components (pairwise) to a phasor coordinate is based on\nthe quantification of moving circular cursors along the line\nbetween the components, demonstrated in the following animation\nwhich is repeated for the other combinations of components:\n\n"
      ]
    },
    {
      "cell_type": "code",
      "execution_count": null,
      "metadata": {
        "collapsed": false
      },
      "outputs": [],
      "source": [
        "grid_x = numpy.linspace(-0.2, 1, int((1 + 0.2) / 0.001) + 1)\ngrid_y = numpy.linspace(-0.2, 0.6, int((0.6 + 0.2) / 0.001) + 1)\ngrid_x, grid_y = numpy.meshgrid(grid_x, grid_y)\ncursor_diameter = 0.05\nnumber_of_steps = 30\nfig, (ax1, ax2) = plt.subplots(nrows=2, ncols=1, figsize=(5, 8))\nreal_a, imag_a = [components_real[0], components_imag[0]]\nreal_b, imag_b = [components_real[1], components_imag[1]]\nreal_c, imag_c = [components_real[2], components_imag[2]]\ncomponent_counts = []\nfractions = numpy.asarray(numpy.linspace(0, 1, number_of_steps + 1))\nunit_vector, distance = line_from_components(\n    [real_b, real_a], [imag_b, imag_a]\n)\ncursor_real, cursor_imag = real_b, imag_b\nstep_size = distance / number_of_steps\nplot = PhasorPlot(frequency=frequency, ax=ax1)\nplot.hist2d(real, imag, cmap='plasma')\nplot.plot([real_a, real_b], [imag_a, imag_b], fmt='o-', color='blue')\nplot.plot(real_c, imag_c, fmt='o', color='blue')\nplots = []\nfor step in range(number_of_steps + 1):\n    mask_shape = mask_segment(\n        grid_x,\n        grid_y,\n        cursor_real,\n        cursor_imag,\n        real_c,\n        imag_c,\n        cursor_diameter / 2,\n    )\n    plot.plot(grid_x[mask_shape], grid_y[mask_shape], color='red', alpha=0.01)\n    mask_phasors = mask_segment(\n        real,\n        imag,\n        cursor_real,\n        cursor_imag,\n        real_c,\n        imag_c,\n        cursor_diameter / 2,\n    )\n    fraction_counts = numpy.sum(mask_phasors)\n    component_counts.append(fraction_counts)\n    hist_artists = plt.plot(\n        fractions[: step + 1], component_counts, linestyle='-', color='blue'\n    )\n    plots.append(plot._lines + hist_artists)\n    cursor_real += step_size * unit_vector[0]\n    cursor_imag += step_size * unit_vector[1]\nmoving_cursor_animation = animation.ArtistAnimation(\n    fig, plots, interval=100, blit=True\n)\nax2.set_xlim(0, 1)\nax2.set_title('Fraction of component A (respect to B)')\nax2.set_xlabel('Fraction of A')\nax2.set_ylabel('Counts')\nax1.annotate('A', xy=(0.8, 0.45), fontsize=14, fontweight='bold', color='blue')\nax1.annotate(\n    'B', xy=(0.13, 0.43), fontsize=14, fontweight='bold', color='blue'\n)\nax1.annotate(\n    'C', xy=(-0.04, 0.12), fontsize=14, fontweight='bold', color='blue'\n)\nplt.tight_layout()\nplt.show()"
      ]
    },
    {
      "cell_type": "markdown",
      "metadata": {},
      "source": [
        "sphinx_gallery_thumbnail_number = 2\n\n"
      ]
    }
  ],
  "metadata": {
    "kernelspec": {
      "display_name": "Python 3",
      "language": "python",
      "name": "python3"
    },
    "language_info": {
      "codemirror_mode": {
        "name": "ipython",
        "version": 3
      },
      "file_extension": ".py",
      "mimetype": "text/x-python",
      "name": "python",
      "nbconvert_exporter": "python",
      "pygments_lexer": "ipython3",
      "version": "3.11.9"
    }
  },
  "nbformat": 4,
  "nbformat_minor": 0
}