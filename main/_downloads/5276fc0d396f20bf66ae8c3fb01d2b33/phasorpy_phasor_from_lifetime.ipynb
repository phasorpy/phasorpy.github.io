{
  "cells": [
    {
      "cell_type": "markdown",
      "metadata": {},
      "source": [
        "\n# Phasor coordinates from lifetimes\n\nAn introduction to the `phasor_from_lifetime` function.\n\nThe :py:func:`phasorpy.phasor.phasor_from_lifetime` function is used\nto calculate phasor coordinates as a function of frequency,\nsingle or multiple lifetime components, and the pre-exponential amplitudes\nor fractional intensities of the components.\n"
      ]
    },
    {
      "cell_type": "markdown",
      "metadata": {},
      "source": [
        "Import required modules and functions:\n\n"
      ]
    },
    {
      "cell_type": "code",
      "execution_count": null,
      "metadata": {
        "collapsed": false
      },
      "outputs": [],
      "source": [
        "import numpy\n\nfrom phasorpy.phasor import phasor_from_lifetime, phasor_to_polar\nfrom phasorpy.plot import PhasorPlot, plot_phasor, plot_polar_frequency"
      ]
    },
    {
      "cell_type": "markdown",
      "metadata": {},
      "source": [
        "## Single-component lifetimes\n\nThe phasor coordinates of single-component lifetimes are located\non the universal semicircle.\nFor example, 3.9788735 ns and 0.9947183 ns at a frequency of 80 MHz:\n\n"
      ]
    },
    {
      "cell_type": "code",
      "execution_count": null,
      "metadata": {
        "collapsed": false
      },
      "outputs": [],
      "source": [
        "lifetime = numpy.array([3.9788735, 0.9947183])\n\nplot_phasor(*phasor_from_lifetime(80.0, lifetime), frequency=80.0)"
      ]
    },
    {
      "cell_type": "markdown",
      "metadata": {},
      "source": [
        "## Multi-component lifetimes\n\nThe phasor coordinates of two lifetime components with varying\nfractional intensities are linear combinations of the coordinates\nof the pure components:\n\n"
      ]
    },
    {
      "cell_type": "code",
      "execution_count": null,
      "metadata": {
        "collapsed": false
      },
      "outputs": [],
      "source": [
        "fraction = numpy.array(\n    [[1, 0], [0.25, 0.75], [0.5, 0.5], [0.75, 0.25], [0, 1]]\n)\n\nplot_phasor(\n    *phasor_from_lifetime(80.0, lifetime, fraction), fmt='o-', frequency=80.0\n)"
      ]
    },
    {
      "cell_type": "markdown",
      "metadata": {},
      "source": [
        "## Pre-exponential amplitudes\n\nThe phasor coordinates of two lifetime components with varying\npre-exponential amplitudes are also located on a line:\n\n"
      ]
    },
    {
      "cell_type": "code",
      "execution_count": null,
      "metadata": {
        "collapsed": false
      },
      "outputs": [],
      "source": [
        "plot_phasor(\n    *phasor_from_lifetime(80.0, lifetime, fraction, preexponential=True),\n    fmt='o-',\n    frequency=80.0,\n)"
      ]
    },
    {
      "cell_type": "markdown",
      "metadata": {},
      "source": [
        "## Lifetime distributions at multiple frequencies\n\nPhasor coordinates can be calculated at once for many frequencies,\nlifetime components, and their fractions. As an example, random distrinutions\nof lifetimes and their fractions are plotted at three frequencies.\nLifetimes are passed in units of s and frequencies in Hz, requiring to\nspecify a `unit_conversion` factor:\n\n"
      ]
    },
    {
      "cell_type": "code",
      "execution_count": null,
      "metadata": {
        "collapsed": false
      },
      "outputs": [],
      "source": [
        "rng = numpy.random.default_rng()\n\nsamples = 100\nlifetime_distribution = (\n    numpy.column_stack(\n        (\n            rng.normal(3.9788735, 0.05, samples),\n            rng.normal(1.9894368, 0.05, samples),\n            rng.normal(0.9947183, 0.05, samples),\n        )\n    )\n    * 1e-9\n)\nfraction_distribution = numpy.column_stack(\n    (rng.random(samples), rng.random(samples), rng.random(samples))\n)\n\nplot_phasor(\n    *phasor_from_lifetime(\n        frequency=[40e6, 80e6, 160e6],\n        lifetime=lifetime_distribution,\n        fraction=fraction_distribution,\n        unit_conversion=1.0,\n    ),\n    fmt='.',\n    label=('40 MHz', '80 MHz', '160 MHz'),\n)"
      ]
    },
    {
      "cell_type": "markdown",
      "metadata": {},
      "source": [
        "## FRET efficiency\n\nThe phasor coordinates of a fluorescence energy transfer donor\nwith a single lifetime component of 4.2 ns as a function of FRET efficiency\nat a frequency of 80 MHz, with some background signal and about 90 %\nof the donors participating in energy transfer, are on a curved trajectory.\nFor comparison, when 100% donors participate in FRET and there is no\nbackground signal, the phasor coordinates lie on the universal semicircle:\n\n"
      ]
    },
    {
      "cell_type": "code",
      "execution_count": null,
      "metadata": {
        "collapsed": false
      },
      "outputs": [],
      "source": [
        "samples = 25\nefficiency = numpy.linspace(0.0, 1.0, samples)\n\nplot = PhasorPlot(frequency=80.0)\nplot.plot(\n    *phasor_from_lifetime(80.0, 4.2 * (1.0 - efficiency)),\n    label='100% Donor in FRET',\n    fmt='k.',\n)\nplot.plot(\n    *phasor_from_lifetime(\n        80.0,\n        lifetime=numpy.column_stack(\n            (\n                numpy.full(samples, 4.2),  # donor-only lifetime\n                4.2 * (1.0 - efficiency),  # donor lifetime with FRET\n                numpy.full(samples, 1e9),  # background with long lifetime\n            )\n        ),\n        fraction=[0.1, 0.9, 0.1 / 1e9],\n        preexponential=True,\n    ),\n    label='90% Donor in FRET',\n    fmt='o-',\n)\nplot.show()"
      ]
    },
    {
      "cell_type": "markdown",
      "metadata": {},
      "source": [
        "## Multi-frequency plot\n\nPhase shift and demodulation of multi-component lifetimes can be calculated\nas a function of the excitation light frequency and fractional intensities:\n\n"
      ]
    },
    {
      "cell_type": "code",
      "execution_count": null,
      "metadata": {
        "collapsed": false
      },
      "outputs": [],
      "source": [
        "frequency = numpy.logspace(-1, 4, 32)\nfraction = numpy.array([[1, 0], [0.5, 0.5], [0, 1]])\n\nplot_polar_frequency(\n    frequency,\n    *phasor_to_polar(\n        *phasor_from_lifetime(frequency, [3.9788735, 0.9947183], fraction)\n    ),\n)"
      ]
    },
    {
      "cell_type": "markdown",
      "metadata": {},
      "source": [
        "sphinx_gallery_thumbnail_number = -2\n\n"
      ]
    }
  ],
  "metadata": {
    "kernelspec": {
      "display_name": "Python 3",
      "language": "python",
      "name": "python3"
    },
    "language_info": {
      "codemirror_mode": {
        "name": "ipython",
        "version": 3
      },
      "file_extension": ".py",
      "mimetype": "text/x-python",
      "name": "python",
      "nbconvert_exporter": "python",
      "pygments_lexer": "ipython3",
      "version": "3.11.9"
    }
  },
  "nbformat": 4,
  "nbformat_minor": 0
}