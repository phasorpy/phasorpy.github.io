{
  "cells": [
    {
      "cell_type": "markdown",
      "metadata": {},
      "source": [
        "\n# Phasor coordinates from lifetimes\n\nThe :py:func:`phasorpy.phasor.phasor_from_lifetime` function is used\nto calculate phasor coordinates as a function of frequency,\nsingle or multiple lifetime components, and the pre-exponential amplitudes\nor fractional intensities of the components.\n"
      ]
    },
    {
      "cell_type": "markdown",
      "metadata": {},
      "source": [
        "Import required modules and functions, and define helper functions for\nplotting phasor or polar coordinates:\n\n"
      ]
    },
    {
      "cell_type": "code",
      "execution_count": null,
      "metadata": {
        "collapsed": false
      },
      "outputs": [],
      "source": [
        "import math\n\nimport numpy\n\nfrom phasorpy.phasor import (\n    phasor_from_lifetime,\n    phasor_semicircle,\n    phasor_to_polar,\n)\n\n\ndef phasor_plot(\n    real,\n    imag,\n    fmt: str = 'o',\n    *,\n    ax=None,\n    mode: str = 'lifetime',\n    style: str | None = None,\n    title: str | None = None,\n    xlabel: str | None = None,\n    ylabel: str | None = None,\n    bins: int | None = None,\n    cmap=None,\n    show: bool = True,\n    return_ax: bool = False,\n):\n    \"\"\"Plot phasor coordinates using matplotlib.\"\"\"\n    # TODO: move this function to phasorpy.plot\n    from matplotlib import pyplot\n    from matplotlib.lines import Line2D\n\n    if mode == 'lifetime':\n        xlim = [-0.05, 1.05]\n        ylim = [-0.05, 0.65]\n        ranges = [[0, 1], [0, 0.625]]\n        bins = 256 if bins is None else bins\n        bins_list = [bins, int(bins * 0.625)]\n    elif mode == 'spectral':\n        xlim = [-1.05, 1.05]\n        ylim = [-1.05, 1.05]\n        ranges = [[0, 1], [0, 1]]\n        bins = 256 if bins is None else bins\n        bins_list = [bins, bins]\n    else:\n        raise ValueError(f'unknown {mode=!r}')\n    if ax is None:\n        ax = pyplot.subplots()[1]\n    if style is None:\n        style = 'scatter' if real.size < 1024 else 'histogram'\n    if real is None or imag is None:\n        pass\n    elif style == 'histogram':\n        ax.hist2d(\n            real,\n            imag,\n            range=ranges,\n            bins=bins_list,\n            cmap='Blues' if cmap is None else cmap,\n            norm='log',\n        )\n    elif style == 'scatter':\n        for re, im in zip(\n            numpy.array(real, ndmin=2), numpy.array(imag, ndmin=2)\n        ):\n            ax.plot(re, im, fmt)\n    if mode == 'lifetime':\n        ax.plot(*phasor_semicircle(100), color='k', lw=0.5)\n        ax.set_xticks([0.0, 0.2, 0.4, 0.6, 0.8, 1.0])\n        ax.set_yticks([0.0, 0.2, 0.4, 0.6])\n    elif mode == 'spectral':\n        ax.add_patch(\n            pyplot.Circle((0, 0), 1, color='k', lw=0.5, ls='--', fill=False)\n        )\n        ax.add_patch(\n            pyplot.Circle(\n                (0, 0), 2 / 3, color='0.5', lw=0.25, ls='--', fill=False\n            )\n        )\n        ax.add_patch(\n            pyplot.Circle(\n                (0, 0), 1 / 3, color='0.5', lw=0.25, ls='--', fill=False\n            )\n        )\n        ax.add_line(Line2D([-1, 1], [0, 0], color='k', lw=0.5, ls='--'))\n        ax.add_line(Line2D([0, 0], [-1, 1], color='k', lw=0.5, ls='--'))\n        for a in (3, 6):\n            x = math.cos(math.pi / a)\n            y = math.sin(math.pi / a)\n            ax.add_line(\n                Line2D([-x, x], [-y, y], color='0.5', lw=0.25, ls='--')\n            )\n            ax.add_line(\n                Line2D([-x, x], [y, -y], color='0.5', lw=0.25, ls='--')\n            )\n        ax.set_xticks([-1.0, -0.5, 0.0, 0.5, 1.0])\n        ax.set_yticks([-1.0, -0.5, 0.0, 0.5, 1.0])\n\n    ax.set(\n        title='Phasor plot' if title is None else title,\n        xlabel='G, real' if xlabel is None else xlabel,\n        ylabel='S, imag' if ylabel is None else ylabel,\n        aspect='equal',\n        xlim=xlim,\n        ylim=ylim,\n    )\n    if show:\n        pyplot.show()\n    if return_ax:\n        return ax\n\n\ndef multi_frequency_plot(frequency, phase, modulation, title=None):\n    \"\"\"Plot phase and modulation vs frequency.\"\"\"\n    # TODO: move this function to phasorpy.plot\n    from matplotlib import pyplot\n\n    ax = pyplot.subplots()[1]\n    ax.set_title('Multi-frequency plot' if title is None else title)\n    ax.set_xscale('log', base=10)\n    ax.set_xlabel('frequency (MHz)')\n    ax.set_ylabel('phase (\u00b0)', color='tab:blue')\n    ax.set_yticks([0.0, 30.0, 60.0, 90.0])\n    for phi in numpy.array(phase, ndmin=2).swapaxes(0, 1):\n        ax.plot(frequency, numpy.rad2deg(phi), color='tab:blue')\n    ax = ax.twinx()\n    ax.set_ylabel('modulation (%)', color='tab:red')\n    ax.set_yticks([0.0, 25.0, 50.0, 75.0, 100.0])\n    for mod in numpy.array(modulation, ndmin=2).swapaxes(0, 1):\n        ax.plot(frequency, mod * 100, color='tab:red')\n    pyplot.show()"
      ]
    },
    {
      "cell_type": "markdown",
      "metadata": {},
      "source": [
        "## Single-component lifetimes\n\nThe phasor coordinates of single-component lifetimes are located\non the universal circle.\nFor example, 3.9788735 ns and 0.9947183 ns at a frequency of 80 MHz:\n\n"
      ]
    },
    {
      "cell_type": "code",
      "execution_count": null,
      "metadata": {
        "collapsed": false
      },
      "outputs": [],
      "source": [
        "lifetime = numpy.array([3.9788735, 0.9947183])\n\nphasor_plot(*phasor_from_lifetime(80.0, lifetime))"
      ]
    },
    {
      "cell_type": "markdown",
      "metadata": {},
      "source": [
        "## Multi-component lifetimes\n\nThe phasor coordinates of two lifetime components with varying\nfractional intensities are linear combinations of the coordinates\nof the pure components:\n\n"
      ]
    },
    {
      "cell_type": "code",
      "execution_count": null,
      "metadata": {
        "collapsed": false
      },
      "outputs": [],
      "source": [
        "fraction = numpy.array(\n    [[1, 0], [0.25, 0.75], [0.5, 0.5], [0.75, 0.25], [0, 1]]\n)\n\nphasor_plot(*phasor_from_lifetime(80.0, lifetime, fraction), fmt='o-')"
      ]
    },
    {
      "cell_type": "markdown",
      "metadata": {},
      "source": [
        "## Pre-exponential amplitudes\n\nThe phasor coordinates of two lifetime components with varying\npre-exponential amplitudes are also located on a line:\n\n"
      ]
    },
    {
      "cell_type": "code",
      "execution_count": null,
      "metadata": {
        "collapsed": false
      },
      "outputs": [],
      "source": [
        "phasor_plot(\n    *phasor_from_lifetime(80.0, lifetime, fraction, preexponential=True),\n    fmt='o-',\n)"
      ]
    },
    {
      "cell_type": "markdown",
      "metadata": {},
      "source": [
        "## Lifetime distributions at multiple frequencies\n\nPhasor coordinates can be calculated at once for many frequencies,\nlifetime components, and their fractions.\nAs an example, lifetimes are passed in units of s and frequencies in Hz,\nrequiring to specify a unit_conversion factor:\n\n"
      ]
    },
    {
      "cell_type": "code",
      "execution_count": null,
      "metadata": {
        "collapsed": false
      },
      "outputs": [],
      "source": [
        "samples = 100\nrng = numpy.random.default_rng()\nlifetime_distribution = (\n    numpy.column_stack(\n        (\n            rng.normal(3.9788735, 0.05, samples),\n            rng.normal(1.9894368, 0.05, samples),\n            rng.normal(0.9947183, 0.05, samples),\n        )\n    )\n    * 1e-9\n)\nfraction_distribution = numpy.column_stack(\n    (rng.random(samples), rng.random(samples), rng.random(samples))\n)\n\nphasor_plot(\n    *phasor_from_lifetime(\n        frequency=[40e6, 80e6, 160e6],\n        lifetime=lifetime_distribution,\n        fraction=fraction_distribution,\n        unit_conversion=1.0,\n    ),\n    fmt='.',\n)"
      ]
    },
    {
      "cell_type": "markdown",
      "metadata": {},
      "source": [
        "## FRET efficiency\n\nThe phasor coordinates of a fluorescence energy transfer donor\nwith a lifetime of 4.2 ns as a function of FRET efficiency\nat a frequency of 80 MHz, with some background signal and about 90 %\nof the donors participating in energy transfer, are on a curved trajectory:\n\n"
      ]
    },
    {
      "cell_type": "code",
      "execution_count": null,
      "metadata": {
        "collapsed": false
      },
      "outputs": [],
      "source": [
        "samples = 25\nefficiency = numpy.linspace(0.0, 1.0, samples)\n\n# for reference, just donor with FRET\nax = phasor_plot(\n    *phasor_from_lifetime(80.0, 4.2 * (1.0 - efficiency)),\n    fmt='k.',\n    show=False,\n    return_ax=True,\n)\n\nphasor_plot(\n    *phasor_from_lifetime(\n        frequency=80.0,\n        lifetime=numpy.column_stack(\n            (\n                numpy.full(samples, 4.2),  # donor-only lifetime\n                4.2 * (1.0 - efficiency),  # donor lifetime with FRET\n                numpy.full(samples, 1e9),  # background with long lifetime\n            )\n        ),\n        fraction=[0.1, 0.9, 0.1 / 1e9],\n        preexponential=True,\n    ),\n    fmt='o-',\n    ax=ax,\n)"
      ]
    },
    {
      "cell_type": "markdown",
      "metadata": {},
      "source": [
        "## Multi-frequency plot\n\nPhase shift and demodulation of multi-component lifetimes can be calculated\nas a function of the excitation light frequency and fractional intensities:\n\n"
      ]
    },
    {
      "cell_type": "code",
      "execution_count": null,
      "metadata": {
        "collapsed": false
      },
      "outputs": [],
      "source": [
        "frequency = numpy.logspace(-1, 4, 32)\nfraction = numpy.array([[1, 0], [0.5, 0.5], [0, 1]])\n\nmulti_frequency_plot(\n    frequency,\n    *phasor_to_polar(\n        *phasor_from_lifetime(frequency, [3.9788735, 0.9947183], fraction)\n    ),\n)"
      ]
    }
  ],
  "metadata": {
    "kernelspec": {
      "display_name": "Python 3",
      "language": "python",
      "name": "python3"
    },
    "language_info": {
      "codemirror_mode": {
        "name": "ipython",
        "version": 3
      },
      "file_extension": ".py",
      "mimetype": "text/x-python",
      "name": "python",
      "nbconvert_exporter": "python",
      "pygments_lexer": "ipython3",
      "version": "3.11.8"
    }
  },
  "nbformat": 4,
  "nbformat_minor": 0
}