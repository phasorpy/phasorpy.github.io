{
  "cells": [
    {
      "cell_type": "markdown",
      "metadata": {},
      "source": [
        "\n# Cursors\n\nAn introduction to selecting phasor coordinates using cursors.\n"
      ]
    },
    {
      "cell_type": "markdown",
      "metadata": {},
      "source": [
        "Import required modules, functions, and classes:\n\n"
      ]
    },
    {
      "cell_type": "code",
      "execution_count": null,
      "metadata": {
        "collapsed": false
      },
      "outputs": [],
      "source": [
        "import matplotlib.pyplot as plt\nimport tifffile\n\nfrom phasorpy.color import CATEGORICAL\nfrom phasorpy.cursors import (\n    mask_from_circular_cursor,\n    mask_from_polar_cursor,\n    pseudo_color,\n)\nfrom phasorpy.datasets import fetch\nfrom phasorpy.phasor import phasor_from_signal, phasor_to_polar\nfrom phasorpy.plot import PhasorPlot"
      ]
    },
    {
      "cell_type": "markdown",
      "metadata": {},
      "source": [
        "## Circular cursors\n\nUse circular cursors in the phasor space to mask regions of interest:\n\n"
      ]
    },
    {
      "cell_type": "code",
      "execution_count": null,
      "metadata": {
        "collapsed": false
      },
      "outputs": [],
      "source": [
        "signal = tifffile.imread(fetch('paramecium.lsm'))\nmean, real, imag = phasor_from_signal(signal, axis=0)\ncursors_real = [-0.33, 0.55]\ncursors_imag = [-0.72, -0.72]\ncircular_mask = mask_from_circular_cursor(\n    real, imag, cursors_real, cursors_imag, radius=0.2\n)"
      ]
    },
    {
      "cell_type": "markdown",
      "metadata": {},
      "source": [
        "Show the circular cursors in the phasor plot:\n\n"
      ]
    },
    {
      "cell_type": "code",
      "execution_count": null,
      "metadata": {
        "collapsed": false
      },
      "outputs": [],
      "source": [
        "threshold = mean > 1\n\nplot = PhasorPlot(allquadrants=True, title='Two circular cursors')\nplot.hist2d(real[threshold], imag[threshold])\nfor i in range(len(cursors_real)):\n    plot.cursor(\n        cursors_real[i],\n        cursors_imag[i],\n        radius=0.2,\n        color=CATEGORICAL[i],\n        linestyle='-',\n    )"
      ]
    },
    {
      "cell_type": "markdown",
      "metadata": {},
      "source": [
        "## Polar cursor\n\nCreate a mask with phase and modulation values:\n\n"
      ]
    },
    {
      "cell_type": "code",
      "execution_count": null,
      "metadata": {
        "collapsed": false
      },
      "outputs": [],
      "source": [
        "phase, mod = phasor_to_polar(real, imag)\n\nphase_range = [[-2.27, -1.57], [-1.22, -0.70]]\nmodulation_range = [[0.7, 0.9], [0.8, 1.0]]\npolar_mask = mask_from_polar_cursor(phase, mod, phase_range, modulation_range)"
      ]
    },
    {
      "cell_type": "markdown",
      "metadata": {},
      "source": [
        "Show cursors in the phasor plot:\n\n"
      ]
    },
    {
      "cell_type": "code",
      "execution_count": null,
      "metadata": {
        "collapsed": false
      },
      "outputs": [],
      "source": [
        "plot = PhasorPlot(allquadrants=True, title='Two polar cursors')\nplot.hist2d(real[threshold], imag[threshold], cmap='Blues')\nfor i in range(len(phase_range[0])):\n    plot.polar_cursor(\n        phase=phase_range[i][0],\n        phase_limit=phase_range[i][1],\n        modulation=modulation_range[i][0],\n        modulation_limit=modulation_range[i][1],\n        color=CATEGORICAL[i + 2],\n        linestyle='-',\n    )"
      ]
    },
    {
      "cell_type": "markdown",
      "metadata": {},
      "source": [
        "## Pseudo-color\n\nAverage images can be pseudo-colored (segmented) using cursor's masks.\nSegmented image with circular cursors:\n\n"
      ]
    },
    {
      "cell_type": "code",
      "execution_count": null,
      "metadata": {
        "collapsed": false
      },
      "outputs": [],
      "source": [
        "segmented_image = pseudo_color(mean, circular_mask)\n\nfig, ax = plt.subplots()\nax.set_title('Segmented image with circular cursors')\nax.imshow(segmented_image)\nplt.show()"
      ]
    },
    {
      "cell_type": "markdown",
      "metadata": {},
      "source": [
        "Segmented image with polar cursors:\n\n"
      ]
    },
    {
      "cell_type": "code",
      "execution_count": null,
      "metadata": {
        "collapsed": false
      },
      "outputs": [],
      "source": [
        "segmented_image = pseudo_color(mean, polar_mask, colors=CATEGORICAL[2:])\n\nfig, ax = plt.subplots()\nax.set_title('Segmented image with polar cursors')\nax.imshow(segmented_image)\nplt.show()"
      ]
    },
    {
      "cell_type": "markdown",
      "metadata": {},
      "source": [
        "sphinx_gallery_thumbnail_number = 1\n\n"
      ]
    }
  ],
  "metadata": {
    "kernelspec": {
      "display_name": "Python 3",
      "language": "python",
      "name": "python3"
    },
    "language_info": {
      "codemirror_mode": {
        "name": "ipython",
        "version": 3
      },
      "file_extension": ".py",
      "mimetype": "text/x-python",
      "name": "python",
      "nbconvert_exporter": "python",
      "pygments_lexer": "ipython3",
      "version": "3.11.9"
    }
  },
  "nbformat": 4,
  "nbformat_minor": 0
}