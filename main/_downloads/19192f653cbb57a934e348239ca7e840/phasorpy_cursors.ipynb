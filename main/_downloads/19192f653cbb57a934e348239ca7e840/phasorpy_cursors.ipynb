{
  "cells": [
    {
      "cell_type": "markdown",
      "metadata": {},
      "source": [
        "\n# Cursors\n\nAn introduction to selecting phasor coordinates using cursors.\n"
      ]
    },
    {
      "cell_type": "markdown",
      "metadata": {},
      "source": [
        "Import required modules, functions, and classes:\n\n"
      ]
    },
    {
      "cell_type": "code",
      "execution_count": null,
      "metadata": {
        "collapsed": false
      },
      "outputs": [],
      "source": [
        "import matplotlib.pyplot as plt\n\nfrom phasorpy.color import CATEGORICAL\nfrom phasorpy.cursors import (\n    mask_from_circular_cursor,\n    mask_from_polar_cursor,\n    pseudo_color,\n)\nfrom phasorpy.datasets import fetch\nfrom phasorpy.io import read_lsm\nfrom phasorpy.phasor import phasor_from_signal\nfrom phasorpy.plot import PhasorPlot"
      ]
    },
    {
      "cell_type": "markdown",
      "metadata": {},
      "source": [
        "Open a hyperspectral dataset used throughout this tutorial:\n\n"
      ]
    },
    {
      "cell_type": "code",
      "execution_count": null,
      "metadata": {
        "collapsed": false
      },
      "outputs": [],
      "source": [
        "signal = read_lsm(fetch('paramecium.lsm'))\nmean, real, imag = phasor_from_signal(signal, axis=0)"
      ]
    },
    {
      "cell_type": "markdown",
      "metadata": {},
      "source": [
        "## Circular cursors\n\nUse circular cursors to mask regions of interest in the phasor space:\n\n"
      ]
    },
    {
      "cell_type": "code",
      "execution_count": null,
      "metadata": {
        "collapsed": false
      },
      "outputs": [],
      "source": [
        "cursors_real = [-0.33, 0.55]\ncursors_imag = [-0.72, -0.72]\n\ncircular_mask = mask_from_circular_cursor(\n    real, imag, cursors_real, cursors_imag, radius=0.2\n)"
      ]
    },
    {
      "cell_type": "markdown",
      "metadata": {},
      "source": [
        "Show the circular cursors in a phasor plot:\n\n"
      ]
    },
    {
      "cell_type": "code",
      "execution_count": null,
      "metadata": {
        "collapsed": false
      },
      "outputs": [],
      "source": [
        "threshold = mean > 1\n\nplot = PhasorPlot(allquadrants=True, title='Circular cursors')\nplot.hist2d(real[threshold], imag[threshold])\nfor i in range(len(cursors_real)):\n    plot.cursor(\n        cursors_real[i],\n        cursors_imag[i],\n        radius=0.2,\n        color=CATEGORICAL[i],\n        linestyle='-',\n    )\nplot.show()"
      ]
    },
    {
      "cell_type": "markdown",
      "metadata": {},
      "source": [
        "## Polar cursors\n\nCreate a mask with two ranges of phase and modulation values:\n\n"
      ]
    },
    {
      "cell_type": "code",
      "execution_count": null,
      "metadata": {
        "collapsed": false
      },
      "outputs": [],
      "source": [
        "phase_min = [-2.27, -1.22]\nphase_max = [-1.57, -0.70]\nmodulation_min = [0.7, 0.8]\nmodulation_max = [0.9, 1.0]\n\npolar_mask = mask_from_polar_cursor(\n    real, imag, phase_min, phase_max, modulation_min, modulation_max\n)"
      ]
    },
    {
      "cell_type": "markdown",
      "metadata": {},
      "source": [
        "Show the polar cursors in a phasor plot:\n\n"
      ]
    },
    {
      "cell_type": "code",
      "execution_count": null,
      "metadata": {
        "collapsed": false
      },
      "outputs": [],
      "source": [
        "plot = PhasorPlot(allquadrants=True, title='Polar cursors')\nplot.hist2d(real[threshold], imag[threshold])\nfor i in range(len(phase_min)):\n    plot.polar_cursor(\n        phase=phase_min[i],\n        phase_limit=phase_max[i],\n        modulation=modulation_min[i],\n        modulation_limit=modulation_max[i],\n        color=CATEGORICAL[i + 2],\n        linestyle='-',\n    )\nplot.show()"
      ]
    },
    {
      "cell_type": "markdown",
      "metadata": {},
      "source": [
        "## Pseudo-color images\n\nThe cursor masks and optionally the intensity image can be\nblended to produce pseudo-colored images.\nBlending the masks from the circular cursors:\n\n"
      ]
    },
    {
      "cell_type": "code",
      "execution_count": null,
      "metadata": {
        "collapsed": false
      },
      "outputs": [],
      "source": [
        "pseudo_color_image = pseudo_color(*circular_mask)\n\nfig, ax = plt.subplots()\nax.set_title('Pseudo-color image from circular cursors')\nax.imshow(pseudo_color_image)\nplt.show()"
      ]
    },
    {
      "cell_type": "markdown",
      "metadata": {},
      "source": [
        "Using the mean intensity image as a base layer to overlay the masks from\nthe polar cursors:\n\n"
      ]
    },
    {
      "cell_type": "code",
      "execution_count": null,
      "metadata": {
        "collapsed": false
      },
      "outputs": [],
      "source": [
        "pseudo_color_image = pseudo_color(\n    *polar_mask, intensity=mean, colors=CATEGORICAL[2:]\n)\n\nfig, ax = plt.subplots()\nax.set_title('Pseudo-color image from polar cursors and intensity')\nax.imshow(pseudo_color_image)\nplt.show()"
      ]
    },
    {
      "cell_type": "markdown",
      "metadata": {},
      "source": [
        "sphinx_gallery_thumbnail_number = 1\n\n"
      ]
    }
  ],
  "metadata": {
    "kernelspec": {
      "display_name": "Python 3",
      "language": "python",
      "name": "python3"
    },
    "language_info": {
      "codemirror_mode": {
        "name": "ipython",
        "version": 3
      },
      "file_extension": ".py",
      "mimetype": "text/x-python",
      "name": "python",
      "nbconvert_exporter": "python",
      "pygments_lexer": "ipython3",
      "version": "3.11.9"
    }
  },
  "nbformat": 4,
  "nbformat_minor": 0
}