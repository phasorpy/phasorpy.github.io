{
  "cells": [
    {
      "cell_type": "markdown",
      "metadata": {},
      "source": [
        "\n# Benchmark phasor_from_signal\n\nBenchmark the ``phasor_from_signal`` function.\n\nThe :py:func:`phasorpy.phasor.phasor_from_signal` function to calculate phasor\ncoordinates from time-resolved or spectral signals can operate in two modes:\n\n- using an internal Cython function optimized for calculating a small number\n  of harmonics, optionally using multiple threads.\n\n- using a real forward Fast Fourier Transform (FFT), ``numpy.fft.rfft`` or\n  a drop-in replacement function like ``scipy.fft.rfft``\n  or ``mkl_fft._numpy_fft.rfft``.\n\nThis tutorial compares the performance of the two modes.\n\nImport required modules and functions:\n"
      ]
    },
    {
      "cell_type": "code",
      "execution_count": null,
      "metadata": {
        "collapsed": false
      },
      "outputs": [],
      "source": [
        "from timeit import timeit\n\nimport numpy\nfrom numpy.fft import rfft as numpy_fft  # noqa\n\nfrom phasorpy.phasor import phasor_from_signal  # noqa\nfrom phasorpy.utils import number_threads\n\ntry:\n    from scipy.fft import rfft as scipy_fft\nexcept ImportError:\n    scipy_fft = None\n\ntry:\n    from mkl_fft._numpy_fft import rfft as mkl_fft\nexcept ImportError:\n    mkl_fft = None"
      ]
    },
    {
      "cell_type": "markdown",
      "metadata": {},
      "source": [
        "## Run benchmark\n\nCreate a random signal with a size and dtype similar to real world data:\n\n"
      ]
    },
    {
      "cell_type": "code",
      "execution_count": null,
      "metadata": {
        "collapsed": false
      },
      "outputs": [],
      "source": [
        "signal = numpy.random.default_rng(1).random((384, 384, 384))\nsignal += 1.1\nsignal *= 3723  # ~12 bit\nsignal = signal.astype(numpy.uint16)  # 108 MB\nsignal[signal < 0.05] = 0.0  # 5% no signal"
      ]
    },
    {
      "cell_type": "markdown",
      "metadata": {},
      "source": [
        "Print execution times depending on FFT function, axis, number of harmonics,\nand number of threads:\n\n"
      ]
    },
    {
      "cell_type": "code",
      "execution_count": null,
      "metadata": {
        "collapsed": false
      },
      "outputs": [],
      "source": [
        "statement = \"\"\"\nphasor_from_signal(signal, axis=axis, harmonic=harmonic, **kwargs)\n\"\"\"\nnumber = 1  # how many times to execute statement\nref = None  # reference duration\n\n\ndef print_(descr, t):\n    print(f'    {descr:20s}{t / number:>6.3f}s {t / ref:>6.2f}')\n\n\nfor harmonic in ([1], [1, 2, 3, 4, 5, 6, 7, 8]):\n    print(f'harmonics {len(harmonic)}')\n    for axis in (-1, 0, 2):\n        print(f'  axis {axis}')\n        kwargs = {'use_fft': False, 'num_threads': 1}\n        t = timeit(statement, number=number, globals=globals())\n        if ref is None:\n            ref = t\n        print_('not_fft', t)\n\n        num_threads = number_threads(0, 6)\n        if num_threads > 1:\n            kwargs = {'use_fft': False, 'num_threads': num_threads}\n            t = timeit(statement, number=number, globals=globals())\n            print_(f'not_fft ({num_threads} threads)', t)\n\n        for fft_name in ('numpy_fft', 'scipy_fft', 'mkl_fft'):\n            fft_func = globals()[fft_name]\n            if fft_func is None:\n                continue\n            kwargs = {'use_fft': True, 'rfft': fft_func}\n            t = timeit(statement, number=number, globals=globals())\n            print_(f'{fft_name}', t)"
      ]
    },
    {
      "cell_type": "markdown",
      "metadata": {},
      "source": [
        "For reference, the results on a Core i7-14700K CPU, Windows 11::\n\n    harmonics 1\n      axis -1\n        not_fft              0.036s   1.00\n        not_fft (6 threads)  0.008s   0.21\n        numpy_fft            0.285s   7.89\n        scipy_fft            0.247s   6.84\n        mkl_fft              0.124s   3.43\n      axis 0\n        not_fft              0.156s   4.32\n        not_fft (6 threads)  0.041s   1.14\n        numpy_fft            0.743s  20.60\n        scipy_fft            0.583s  16.16\n        mkl_fft              0.182s   5.03\n      axis 2\n        not_fft              0.037s   1.02\n        not_fft (6 threads)  0.009s   0.25\n        numpy_fft            0.282s   7.81\n        scipy_fft            0.244s   6.78\n        mkl_fft              0.125s   3.47\n    harmonics 8\n      axis -1\n        not_fft              0.275s   7.62\n        not_fft (6 threads)  0.041s   1.13\n        numpy_fft            0.295s   8.18\n        scipy_fft            0.267s   7.39\n        mkl_fft              0.145s   4.02\n      axis 0\n        not_fft              1.250s  34.66\n        not_fft (6 threads)  0.325s   9.01\n        numpy_fft            0.732s  20.28\n        scipy_fft            0.546s  15.13\n        mkl_fft              0.168s   4.67\n      axis 2\n        not_fft              0.278s   7.72\n        not_fft (6 threads)  0.040s   1.11\n        numpy_fft            0.298s   8.25\n        scipy_fft            0.270s   7.48\n        mkl_fft              0.143s   3.98\n\n"
      ]
    },
    {
      "cell_type": "markdown",
      "metadata": {},
      "source": [
        "## Results\n\n- Using the Cython implementation is significantly faster than using the\n  ``numpy.fft`` based implementation for single harmonics.\n- Using multiple threads can significantly speed up the Cython mode.\n- The FFT functions from ``scipy`` and ``mkl_fft`` outperform numpy.fft.\n  Specifically, ``mkl_fft`` is very performant.\n- Using FFT becomes more competitive when calculating larger number of\n  harmonics.\n- Computing over the last axis is significantly faster compared to the first\n  axis. That is because the samples in the last dimension are contiguous,\n  closer together in memory.\n\nNote that these results were obtained on a single dataset of random numbers.\n\n"
      ]
    },
    {
      "cell_type": "markdown",
      "metadata": {},
      "source": [
        "## Conclusions\n\nUsing the Cython implementation is a reasonable default when calculating\na few harmonics. Using FFT is a better choice when computing large number\nof harmonics, especially with an optimized FFT function.\n\n"
      ]
    }
  ],
  "metadata": {
    "kernelspec": {
      "display_name": "Python 3",
      "language": "python",
      "name": "python3"
    },
    "language_info": {
      "codemirror_mode": {
        "name": "ipython",
        "version": 3
      },
      "file_extension": ".py",
      "mimetype": "text/x-python",
      "name": "python",
      "nbconvert_exporter": "python",
      "pygments_lexer": "ipython3",
      "version": "3.12.5"
    }
  },
  "nbformat": 4,
  "nbformat_minor": 0
}