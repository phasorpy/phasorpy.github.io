{
  "cells": [
    {
      "cell_type": "markdown",
      "metadata": {},
      "source": [
        "\n# Benchmark phasor_from_signal\n\nBenchmark the ``phasor_from_signal`` function.\n\nThe :doc:`/api/phasor` module provides two functions to calculate phasor\ncoordinates from time-resolved or spectral signals:\n\n- :py:func:`phasorpy.phasor.phasor_from_signal`,\n  implemented mostly in Cython for efficiency.\n\n- :py:func:`phasorpy.phasor.phasor_from_signal_fft`,\n  a pure Python reference implementation based on ``numpy.fft.fft``.\n\nThis tutorial compares the performance of the two implementations.\n"
      ]
    },
    {
      "cell_type": "code",
      "execution_count": null,
      "metadata": {
        "collapsed": false
      },
      "outputs": [],
      "source": [
        "from timeit import timeit\n\nimport numpy\n\nfrom phasorpy.phasor import phasor_from_signal, phasor_from_signal_fft\nfrom phasorpy.utils import number_threads\n\ntry:\n    from scipy.fft import fft as scipy_fft\nexcept ImportError:\n    scipy_fft = None\n\ntry:\n    from mkl_fft._numpy_fft import fft as mkl_fft\nexcept ImportError:\n    mkl_fft = None"
      ]
    },
    {
      "cell_type": "markdown",
      "metadata": {},
      "source": [
        "## Run benchmark\n\nCreate a random signal with a size and dtype similar to real world data:\n\n"
      ]
    },
    {
      "cell_type": "code",
      "execution_count": null,
      "metadata": {
        "collapsed": false
      },
      "outputs": [],
      "source": [
        "signal = numpy.random.default_rng(1).random((384, 384, 384))\nsignal += 1.1\nsignal *= 3723  # ~12 bit\nsignal = signal.astype(numpy.uint16)  # 108 MB"
      ]
    },
    {
      "cell_type": "markdown",
      "metadata": {},
      "source": [
        "Print execution times depending on function, axis, number of harmonics,\nand number of threads:\n\n"
      ]
    },
    {
      "cell_type": "code",
      "execution_count": null,
      "metadata": {
        "collapsed": false
      },
      "outputs": [],
      "source": [
        "statement = 'func(signal, axis=axis, harmonic=harmonic, **kwargs)'\nnumber = 1  # how many times to execute statement\nref = None  # reference duration\n\n\ndef print_(descr, t):\n    print(f'    {descr:24s}{t / number:>6.3f}s {t / ref:>6.2f}')\n\n\nfor harmonic in ([1], [1, 2, 3, 4, 5, 6, 7, 8]):\n    print(f'harmonics {len(harmonic)}')\n    for axis in (-1, 0, 2):\n        print(f'  axis {axis}')\n        func = phasor_from_signal  # type: ignore\n        kwargs = {}\n        t = timeit(statement, number=number, globals=globals())\n        if ref is None:\n            ref = t\n        print_(func.__name__, t)\n\n        num_threads = number_threads(0, 6)\n        if num_threads > 1:\n            kwargs = dict(num_threads=num_threads)\n            t = timeit(statement, number=number, globals=globals())\n            print_(f'  threads {num_threads}', t)\n\n        func = phasor_from_signal_fft  # type: ignore\n        kwargs = {}\n        t = timeit(statement, number=number, globals=globals())\n        print_(func.__name__, t)\n\n        for fft_name in ('scipy_fft', 'mkl_fft'):\n            fft_func = globals()[fft_name]\n            if fft_func is None:\n                continue\n            kwargs = dict(fft_func=fft_func)\n            t = timeit(statement, number=number, globals=globals())\n            print_(f'  {fft_name}', t)"
      ]
    },
    {
      "cell_type": "markdown",
      "metadata": {},
      "source": [
        "For reference, the results on a Core i7-14700K CPU::\n\n    harmonics 1\n      axis -1\n        phasor_from_signal       0.034s   1.00\n          threads 6              0.006s   0.17\n        phasor_from_signal_fft   0.347s  10.22\n          scipy_fft              0.395s  11.62\n          mkl_fft                0.160s   4.71\n      axis 0\n        phasor_from_signal       0.162s   4.77\n          threads 6              0.037s   1.10\n        phasor_from_signal_fft   2.236s  65.80\n          scipy_fft              0.922s  27.14\n          mkl_fft                0.195s   5.73\n      axis 2\n        phasor_from_signal       0.037s   1.09\n          threads 6              0.008s   0.22\n        phasor_from_signal_fft   0.360s  10.60\n          scipy_fft              0.395s  11.62\n          mkl_fft                0.169s   4.98\n    harmonics 8\n      axis -1\n        phasor_from_signal       0.281s   8.26\n          threads 6              0.046s   1.35\n        phasor_from_signal_fft   0.367s  10.79\n          scipy_fft              0.410s  12.06\n          mkl_fft                0.180s   5.31\n      axis 0\n        phasor_from_signal       1.211s  35.63\n          threads 6              0.345s  10.16\n        phasor_from_signal_fft   2.263s  66.58\n          scipy_fft              0.936s  27.54\n          mkl_fft                0.200s   5.89\n      axis 2\n        phasor_from_signal       0.284s   8.37\n          threads 6              0.046s   1.34\n        phasor_from_signal_fft   0.377s  11.10\n          scipy_fft              0.431s  12.69\n          mkl_fft                0.185s   5.44\n\n"
      ]
    },
    {
      "cell_type": "markdown",
      "metadata": {},
      "source": [
        "## Results\n\n- The ``phasor_from_signal`` implementation is an order of magnitude faster\n  than the ``numpy.fft`` based reference implementation for single harmonics.\n- The FFT functions from ``scipy`` and ``mkl_fft`` usually outperform\n  numpy.fft.\n- Using FFT becomes more competitive when calculating larger number of\n  harmonics.\n- ``mkl_fft`` is very performant for first and last axes.\n- Computing over the last axis is significantly faster compared to the first\n  axis. That is because the samples in the last dimension are contiguous,\n  closer together in memory.\n- Using multiple threads can significantly speed up the calculation.\n\nNote that these results were obtained on a single dataset of random numbers.\n\n"
      ]
    },
    {
      "cell_type": "markdown",
      "metadata": {},
      "source": [
        "## Conclusions\n\nThe ``phasor_from_signal`` implementation is a reasonable default.\nThe ``phasor_from_signal_fft`` function may be a better choice, for example,\nwhen computing large number of harmonics with an optimized FFT function.\n\n"
      ]
    }
  ],
  "metadata": {
    "kernelspec": {
      "display_name": "Python 3",
      "language": "python",
      "name": "python3"
    },
    "language_info": {
      "codemirror_mode": {
        "name": "ipython",
        "version": 3
      },
      "file_extension": ".py",
      "mimetype": "text/x-python",
      "name": "python",
      "nbconvert_exporter": "python",
      "pygments_lexer": "ipython3",
      "version": "3.11.8"
    }
  },
  "nbformat": 4,
  "nbformat_minor": 0
}