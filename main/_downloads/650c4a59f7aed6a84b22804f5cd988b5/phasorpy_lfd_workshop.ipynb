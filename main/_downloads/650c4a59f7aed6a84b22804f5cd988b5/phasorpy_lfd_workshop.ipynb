{
  "cells": [
    {
      "cell_type": "markdown",
      "metadata": {},
      "source": [
        "\n# LFD Workshop FLIM Tutorial\n\nThe LFD Workshop FLIM tutorial adapted to PhasorPy.\n\nThis tutorial is a close adaptation of the\n[LFD Workshop computer training tutorial - FLIM section](https://www.lfd.uci.edu/workshop/2021/files/LFDWorkshop2021-ComputerTraining.pdf)\n(by E. Gratton, M. Digman, and J. Unruh)\nusing the PhasorPy library instead of the\n[Globals for Images \u00b7 SimFCS](https://www.lfd.uci.edu/globals/)\nand Excel software.\n"
      ]
    },
    {
      "cell_type": "markdown",
      "metadata": {},
      "source": [
        "Import required modules and functions:\n\n"
      ]
    },
    {
      "cell_type": "code",
      "execution_count": null,
      "metadata": {
        "collapsed": false
      },
      "outputs": [],
      "source": [
        "import numpy\n\nfrom phasorpy.datasets import fetch\nfrom phasorpy.io import read_ref\nfrom phasorpy.phasor import (\n    fraction_from_amplitude,\n    phasor_filter,\n    phasor_from_fret_donor,\n    phasor_from_lifetime,\n    phasor_from_polar,\n    phasor_to_apparent_lifetime,\n    phasor_to_polar,\n)\nfrom phasorpy.plot import (\n    PhasorPlot,\n    plot_phasor,\n    plot_phasor_image,\n    plot_polar_frequency,\n)"
      ]
    },
    {
      "cell_type": "markdown",
      "metadata": {},
      "source": [
        "## Phasor properties\n\nThe phasor is a frequency domain representation of the fluorescence\nlifetime at a single frequency. For single exponential lifetimes, this\ncompletely describes the system.\nFor multiple exponentials, the phasor represents some intensity weighted\nlinear combination of the lifetimes in the system. Therefore, given the\nphasor for a single multiexponential measurement, we cannot determine\nthe lifetimes for the system.\nNevertheless, given multiple measurements (e.g. multiple pixels in an\nimage), heterogeneity becomes obvious.\n\nTo demonstrate this effect, calculate:\n\n- the phasor at a single frequency for a combination of four exponentials:\n\n"
      ]
    },
    {
      "cell_type": "code",
      "execution_count": null,
      "metadata": {
        "collapsed": false
      },
      "outputs": [],
      "source": [
        "frequency = 80.0  # MHz\nlifetimes = [4.0, 2.0, 1.0, 0.5]  # ns\namplitudes = [0.25, 0.25, 0.25, 0.25]  # pre-exponential amplitudes\n\nphasor_single = phasor_from_lifetime(frequency, lifetimes)\nphasor_combined = phasor_from_lifetime(\n    frequency, lifetimes, amplitudes, preexponential=True\n)\n\nplot = PhasorPlot(frequency=frequency)\nplot.components(*phasor_single, fraction_from_amplitude(lifetimes, amplitudes))\nplot.plot(*phasor_single, label='single components')\nplot.plot(*phasor_combined, label='combined components')\nplot.show()"
      ]
    },
    {
      "cell_type": "markdown",
      "metadata": {},
      "source": [
        "- the multi-frequency fluorescence modulation and phase curves:\n\n"
      ]
    },
    {
      "cell_type": "code",
      "execution_count": null,
      "metadata": {
        "collapsed": false
      },
      "outputs": [],
      "source": [
        "frequencies = numpy.logspace(-1, 4, 32)\n\nphase, modulation = phasor_to_polar(\n    *phasor_from_lifetime(\n        frequencies, lifetimes, amplitudes, preexponential=True\n    )\n)\n\nplot_polar_frequency(frequencies, phase, modulation)"
      ]
    },
    {
      "cell_type": "markdown",
      "metadata": {},
      "source": [
        "- the time-domain fluorescence decay:\n\n.. todo::\n\n    Generate time-domain signal.\n\n"
      ]
    },
    {
      "cell_type": "markdown",
      "metadata": {},
      "source": [
        "## Two state equilibrium\n\nFluorescent ion indicators often exist in two distinct states with\ndifferent emission spectra and fluorescence lifetimes (and sometimes\nabsorption spectra). The lifetime may be multiexponential in both the\nfree and ion-bound state. Binding to the ion of interest shifts the\nequilibrium between these states, changing the spectral properties\nand the fluorescence lifetimes. Therefore, the free and bound states\nwill be characterized by different \"phasors\". Close to the dissociation\nconstant, the fluorescence lifetime is characterized by a linear\ncombination of the two phasors.\n\nSimulate the phasor for different combinations (relative amplitudes)\nof a 4 ns lifetime state and a 1 ns lifetime state\n(e.g. amplitude 1 = 0.2, amplitude 2 = 0.8).\n\n"
      ]
    },
    {
      "cell_type": "code",
      "execution_count": null,
      "metadata": {
        "collapsed": false
      },
      "outputs": [],
      "source": [
        "frequency = 80.0  # MHz\nlifetimes = [4.0, 1.0]  # ns\namplitudes_list = [[1.0, 0.0], [0.8, 0.2], [0.5, 0.5], [0.2, 0.8], [0.0, 1.0]]\n\nreal, imag = phasor_from_lifetime(\n    frequency, lifetimes, amplitudes_list, preexponential=True\n)"
      ]
    },
    {
      "cell_type": "markdown",
      "metadata": {},
      "source": [
        "Record S (the phasor y coordinate) and G (the phasor x coordinate)\nvalues for each combination.\n\n"
      ]
    },
    {
      "cell_type": "code",
      "execution_count": null,
      "metadata": {
        "collapsed": false
      },
      "outputs": [],
      "source": [
        "print('S:', imag)\nprint('G:', real)"
      ]
    },
    {
      "cell_type": "markdown",
      "metadata": {},
      "source": [
        "Plot S vs. G to see how the phasor changes with different combinations.\n\n"
      ]
    },
    {
      "cell_type": "code",
      "execution_count": null,
      "metadata": {
        "collapsed": false
      },
      "outputs": [],
      "source": [
        "plot_phasor(real, imag, fmt='o-', frequency=frequency)"
      ]
    },
    {
      "cell_type": "markdown",
      "metadata": {},
      "source": [
        "Questions:\n\n- When half of the population is in the 1 ns state, has the phasor moved\n  halfway between the phasors for the two states?\n- Does the position of the phasor change linearly with concentration?\n- What about with fractional intensity?\n- What information is needed to calculate concentration\n  from the position of a phasor?\n\n"
      ]
    },
    {
      "cell_type": "markdown",
      "metadata": {},
      "source": [
        "### Capillaries\n\nThe file, ``capillaries1001.ref``, contains phase and modulation data on\nthree capillaries filled with different dye solutions.\nThe extension ``.ref``, for referenced, indicates that this file has been\ncorrected for phase shifts and detection efficiency relative to a reference\nwith a known lifetime (e.g., Fluorescein).\nRead the file, calculate phasor coordinates from phase and modulation,\ndisplay the images, and plot the phasor coordinates of first and second\nharmonics:\n\n"
      ]
    },
    {
      "cell_type": "code",
      "execution_count": null,
      "metadata": {
        "collapsed": false
      },
      "outputs": [],
      "source": [
        "filename = fetch('capillaries1001.ref')\ndata = read_ref(filename)\nfrequency = 80.0  # MHz\n\nmean = data[0].values\nreal1, imag1 = phasor_from_polar(numpy.deg2rad(data[1]), data[2])  # harmonic 1\nreal2, imag2 = phasor_from_polar(numpy.deg2rad(data[3]), data[4])  # harmonic 2"
      ]
    },
    {
      "cell_type": "code",
      "execution_count": null,
      "metadata": {
        "collapsed": false
      },
      "outputs": [],
      "source": [
        "plot_phasor_image(\n    mean, [real1, real2], [imag1, imag2], title='capillaries1001.ref'\n)"
      ]
    },
    {
      "cell_type": "code",
      "execution_count": null,
      "metadata": {
        "collapsed": false
      },
      "outputs": [],
      "source": [
        "plot_phasor(\n    real1,\n    imag1,\n    frequency=frequency,\n    style='hist2d',\n    cmin=4,\n    title=f'1st Harmonics ({frequency} MHz)',\n)"
      ]
    },
    {
      "cell_type": "code",
      "execution_count": null,
      "metadata": {
        "collapsed": false
      },
      "outputs": [],
      "source": [
        "plot_phasor(\n    real2,\n    imag2,\n    frequency=frequency * 2,\n    style='hist2d',\n    cmin=4,\n    title=f'2nd Harmonics ({frequency * 2} MHz)',\n)"
      ]
    },
    {
      "cell_type": "markdown",
      "metadata": {},
      "source": [
        "The two phasor plots show the pixel phasor distribution for the first and\nsecond harmonics (for the two-photon systems these would be 80 MHz and 160\nMHz).\n\nThe calculation of the phase and modulation is strongly dependent\non the signal-to-noise.\nTherefore, it is a good idea to smooth noisy data by a moving average.\nNote that this will also reduce the spatial resolution in the phasor.\n\nIf high spatial resolution is needed, make sure to have at least 100\nphotons in each pixel of the image.\n\n"
      ]
    },
    {
      "cell_type": "code",
      "execution_count": null,
      "metadata": {
        "collapsed": false
      },
      "outputs": [],
      "source": [
        "real1, imag1 = phasor_filter(real1, imag1, method='median', repeat=2)\nreal2, imag2 = phasor_filter(real2, imag2, method='median', repeat=2)"
      ]
    },
    {
      "cell_type": "markdown",
      "metadata": {},
      "source": [
        "In addition, small amounts of room light will appear towards the lower\nleft-hand corner of the phasor (room light is uncorrelated, so it has\nzero modulation depth). This can be eliminated by setting a threshold.\n\n.. todo::\n\n    Use a ``phasor_threshold`` function?\n\n"
      ]
    },
    {
      "cell_type": "code",
      "execution_count": null,
      "metadata": {
        "collapsed": false
      },
      "outputs": [],
      "source": [
        "threshold = (mean > 20) & (real1 > 0) & (imag1 > 0) & (real2 > 0) & (imag2 > 0)\nreal1 = real1[threshold]\nimag1 = imag1[threshold]\nreal2 = real2[threshold]\nimag2 = imag2[threshold]"
      ]
    },
    {
      "cell_type": "code",
      "execution_count": null,
      "metadata": {
        "collapsed": false
      },
      "outputs": [],
      "source": [
        "plot_phasor(\n    real1,\n    imag1,\n    frequency=frequency,\n    style='hist2d',\n    cmin=4,\n    title=f'1st Harmonics ({frequency} MHz) filtered',\n)"
      ]
    },
    {
      "cell_type": "code",
      "execution_count": null,
      "metadata": {
        "collapsed": false
      },
      "outputs": [],
      "source": [
        "plot_phasor(\n    real2,\n    imag2,\n    frequency=frequency * 2,\n    style='hist2d',\n    cmin=4,\n    title=f'2nd Harmonics ({frequency * 2} MHz) filtered',\n)"
      ]
    },
    {
      "cell_type": "markdown",
      "metadata": {},
      "source": [
        "Note that if the room light is significant compared to the fluorescence\nsignal, it will bias the fluorescence phasors by pulling them toward the\nlower left-hand corner of the phasor plot, with phasors corresponding to\nlower intensity regions of the image being pulled more toward the lower\nleft-hand corner than those of higher intensity regions of the image.\n\n.. todo::\n\n    Select different components of the phasor using cursors.\n    List the phase and modulation well as the apparent phase and modulation\n    lifetimes for the selected components.\n\nAll of the capillaries contain 10 mM Tris buffer, pH 8.0.\nFluorescein has a lifetime of 4.05 ns in basic solution.\n\n- Which capillary contains Fluorescein?\n\nThe shortest lifetime capillary contains Rhodamine B, which has a\nsingle exponential lifetime around 1.5 ns in phosphate buffer at pH 7.0.\n\n- Is Rhodamine B single exponential in this solution?\n- What does the center capillary contain?\n\n.. todo::\n\n    The phasor cursors can be assigned different colors.\n    This allows to have different phasor distributions displayed\n    simultaneously.\n\n.. todo::\n\n    Move a green cursor around the phasor space to highlight\n    the pixels in the image that correspond to a specific phasor\n    distribution.\n\n.. todo::\n\n    Another feature is the mapping (linking) of the linear combination\n    (fractional intensity) of two different lifetime signatures\n    associated with two different species.\n\n    - Link the red and green cursors.\n\n.. todo::\n\n    To visualize the linear combination of the two colors (species):\n\n    - Place the 2 cursors on the part of the image to link\n      and show the linked cursor bitmap for harmonic 1.\n\n    The color bitmap shows the relative concentration of\n    the selected species.\n\nThe explanations in the last two paragraphs should help answer\nthe last question above, about the components in the middle channel.\n\n"
      ]
    },
    {
      "cell_type": "markdown",
      "metadata": {},
      "source": [
        "## Quenching, FRET\n\nThis section will discuss quenching due to FRET. The efficiency\nof energy transfer is related to the fluorescence lifetime as follows:\n\n\\begin{align}E &= 1 - \\frac{\\tau_{D}}{\\tau_{DA}}\n\n    \\tau_{DA} &= \\tau_{D} (1 - E)\\end{align}\n\nwhere $\\tau_{DA}$ is the lifetime of the donor in the presence of\nacceptor (quenched) and $\\tau_{D}$ is the lifetime of the donor\nin the absence of acceptor.\n\nCalculate the phasor for a fluorophore with a 4 ns lifetime.\nThen calculate its phasor under different efficiencies of energy transfer.\nHow does this differ from what we saw with the two-state system?\n\n"
      ]
    },
    {
      "cell_type": "code",
      "execution_count": null,
      "metadata": {
        "collapsed": false
      },
      "outputs": [],
      "source": [
        "plot = PhasorPlot(frequency=frequency, title='FRET Donor')\nplot.plot(*phasor_from_lifetime(frequency, lifetime=4.0), label='no FRET')\nplot.plot(\n    *phasor_from_lifetime(frequency, 4.0 * (1 - numpy.linspace(0.1, 1.0, 8))),\n    color='k',\n    label='FRET',\n)\nplot.show()"
      ]
    },
    {
      "cell_type": "markdown",
      "metadata": {},
      "source": [
        "If only the donor fluorophore is excited (no direct excitation of the\nacceptor), the acceptor fluorescence shows a very unusual phenomenon.\nThe fluorescence of the acceptor rises with the same time constant as\nthe quenched donor fluorescence.\nThen it decays with the characteristic lifetime of the acceptor.\nFor example, when the donor lifetime has been quenched to 0.5 ns\nand the acceptor lifetime is 4 ns, the acceptor can be simulated\nby a lifetime of 0.5 ns with amplitude of -1 and a lifetime of 4 ns with\namplitude of 1:\n\n"
      ]
    },
    {
      "cell_type": "code",
      "execution_count": null,
      "metadata": {
        "collapsed": false
      },
      "outputs": [],
      "source": [
        "plot = PhasorPlot(frequency=frequency, title='87.5% FRET efficiency')\nplot.plot(\n    *phasor_from_lifetime(frequency, lifetime=0.5), label='Donor quenched'\n)\nplot.plot(\n    *phasor_from_lifetime(\n        frequency,\n        lifetime=[4.0, 0.5],\n        fraction=[1.0, -1.0],\n        preexponential=True,\n    ),\n    label='Acceptor sensitized',\n)\nplot.show()"
      ]
    },
    {
      "cell_type": "markdown",
      "metadata": {},
      "source": [
        "Often in FRET experiments, only a fraction of the donor molecules experience\nFRET. The others continue to fluoresce with an unquenched lifetime.\nSimulate the situation where 50% of the donors remain unquenched.\nRationalize the results in terms of the quenching simulations done above\nand the two state experiments we did earlier.\n\n"
      ]
    },
    {
      "cell_type": "code",
      "execution_count": null,
      "metadata": {
        "collapsed": false
      },
      "outputs": [],
      "source": [
        "plot = PhasorPlot(frequency=frequency, title='Donors FRETing')\nplot.plot(*phasor_from_lifetime(frequency, lifetime=4.0), label='no FRET')\nplot.plot(*phasor_from_lifetime(frequency, lifetime=2.0), label='50% FRET')\nplot.plot(\n    *phasor_from_lifetime(frequency, lifetime=[4.0, 2.0], fraction=[0.5, 0.5]),\n    label='50% FRET, 50% FRETing',\n)\nplot.show()"
      ]
    },
    {
      "cell_type": "markdown",
      "metadata": {},
      "source": [
        "### CFP-YFP\n\nOpen the file ``CFPpax8651866.ref``, which contains referenced FLIM data\nfor a cell transfected with a CFP paxillin construct.\n\n"
      ]
    },
    {
      "cell_type": "code",
      "execution_count": null,
      "metadata": {
        "collapsed": false
      },
      "outputs": [],
      "source": [
        "data = read_ref(fetch('CFPpax8651866.ref'))\n\nmean1 = data[0].values\nreal1, imag1 = phasor_from_polar(numpy.deg2rad(data[1]), data[2])\n\nplot_phasor_image(mean1, real1, imag1, title='CFPpax8651866.ref')"
      ]
    },
    {
      "cell_type": "markdown",
      "metadata": {},
      "source": [
        "Open the file ``1011rac1002.ref``, which contains referenced FLIM data\nfor a cell transfected with a CFP-YFP fusion protein:\n\n"
      ]
    },
    {
      "cell_type": "code",
      "execution_count": null,
      "metadata": {
        "collapsed": false
      },
      "outputs": [],
      "source": [
        "data = read_ref(fetch('1011rac1002.ref'))\n\nmean2 = data[0].values\nreal2, imag2 = phasor_from_polar(numpy.deg2rad(data[1]), data[2])\n\nplot_phasor_image(mean2, real2, imag2, title='1011rac1002.ref')"
      ]
    },
    {
      "cell_type": "markdown",
      "metadata": {},
      "source": [
        "Plot the phasor distributions together:\n\n"
      ]
    },
    {
      "cell_type": "code",
      "execution_count": null,
      "metadata": {
        "collapsed": false
      },
      "outputs": [],
      "source": [
        "frequency = 80.0  # MHz\n\nplot = PhasorPlot(frequency=frequency, title='CFPpax8651866 and 1011rac1002')\nplot.hist2d([real1, real2], [imag1, imag2], cmap='Blues', cmin=4)\nplot.show()"
      ]
    },
    {
      "cell_type": "markdown",
      "metadata": {},
      "source": [
        "Set the intensity threshold to 32 to remove any room light\nand smooth the phasor.\n\n"
      ]
    },
    {
      "cell_type": "code",
      "execution_count": null,
      "metadata": {
        "collapsed": false
      },
      "outputs": [],
      "source": [
        "real1, imag1 = phasor_filter(real1, imag1, method='median', repeat=2)\nreal2, imag2 = phasor_filter(real2, imag2, method='median', repeat=2)\n\nthreshold = (mean1 > 32) & (real1 > 0) & (imag1 > 0)\nreal1 = real1[threshold]\nimag1 = imag1[threshold]\n\nthreshold = (mean2 > 32) & (real2 > 0) & (imag2 > 0)\nreal2 = real2[threshold]\nimag2 = imag2[threshold]\n\nplot = PhasorPlot(\n    frequency=frequency,\n    title='Filtered CFPpax8651866 (blue) and 1011rac1002 (red)',\n)\nplot.hist2d(real1, imag1, cmap='Blues', cmin=4)  # label='CFPpax8651866'\nplot.hist2d(real2, imag2, cmap='Reds', cmin=4)  # label='1011rac1002'\nplot.show()"
      ]
    },
    {
      "cell_type": "markdown",
      "metadata": {},
      "source": [
        "Load ``CFP and CFP-YFP.ref`` and ``CFP-YFP many cells with background.ref``.\nThese files were acquired using the Lambert frequency domain FLIM instrument\nand were referenced using a solution of Fluorescein at pH>9.\nThey contain fixed samples of CFP and CFP-YFP expressing cells with\nvarious amounts of background.\nSet the intensity threshold to 6202 counts, such that the background phasor\nis visible.\n\n"
      ]
    },
    {
      "cell_type": "code",
      "execution_count": null,
      "metadata": {
        "collapsed": false
      },
      "outputs": [],
      "source": [
        "frequency = 80.0  # MHz\ndata = read_ref(fetch('CFP and CFP-YFp.ref'))\n\nmean1 = data[0].values\nreal1, imag1 = phasor_from_polar(numpy.deg2rad(data[1]), data[2])\n\nplot_phasor_image(mean1, real1, imag1, title='CFP and CFP-YFp.ref')"
      ]
    },
    {
      "cell_type": "code",
      "execution_count": null,
      "metadata": {
        "collapsed": false
      },
      "outputs": [],
      "source": [
        "data = read_ref(fetch('CFP-YFP many cells with background.ref'))\n\nmean2 = data[0].values\nreal2, imag2 = phasor_from_polar(numpy.deg2rad(data[1]), data[2])\n\nplot_phasor_image(\n    mean2, real2, imag2, title='CFP-YFP many cells with background.ref'\n)"
      ]
    },
    {
      "cell_type": "code",
      "execution_count": null,
      "metadata": {
        "collapsed": false
      },
      "outputs": [],
      "source": [
        "mean = numpy.vstack((mean1, mean2))\nreal = numpy.vstack((real1, real2))\nimag = numpy.vstack((imag1, imag2))\n\nreal, imag = phasor_filter(real, imag, method='median', repeat=2)\n\nthreshold = (mean > 6202) & (real > 0) & (imag > 0)\nreal = real[threshold]\nimag = imag[threshold]\n\nplot = PhasorPlot(\n    frequency=frequency,\n    title='\"CFP and CFP-YFp\" and \"CFP-YFP many cells\"',\n)\nplot.hist2d(real, imag, cmin=1)\nplot.show()"
      ]
    },
    {
      "cell_type": "markdown",
      "metadata": {},
      "source": [
        "Before starting the analysis of the FRET trajectory, identify the phasor\nof the donor without the acceptor and the phasor of the background or\nautofluorescence.\n\nSet two cursors of size 0.03 at the phasor coordinates of\nthe unquenched donor (0.72, 0.45) and the background (0.62, 0.41):\n\n"
      ]
    },
    {
      "cell_type": "code",
      "execution_count": null,
      "metadata": {
        "collapsed": false
      },
      "outputs": [],
      "source": [
        "background_phasor = 0.6, 0.41\ndonor_phasor = 0.72, 0.45\ndonor_lifetime = numpy.mean(\n    phasor_to_apparent_lifetime(*donor_phasor, frequency)\n)\n\nplot = PhasorPlot(\n    frequency=frequency,\n    title='FRET Donor (green) and background (black)',\n    xlim=[0.45, 0.94],\n    ylim=[0.15, 0.55],\n)\nplot.hist2d(real, imag)\nplot.circle(*donor_phasor, radius=0.03, linestyle='-', color='tab:green')\nplot.circle(*background_phasor, radius=0.03, linestyle='-', color='dimgrey')\nplot.show()"
      ]
    },
    {
      "cell_type": "markdown",
      "metadata": {},
      "source": [
        "Calculate two trajectories, one for the quenching due to FRET and the other\nfor the superposition of the FRETing population with the background.\n\nThe FRET efficiency for the file with very little background is about 0.23.\nInstead, the best agreement for the file with large background is obtained\nwith the combination shown below, that results in about 0.32 FRET efficiency.\n\n"
      ]
    },
    {
      "cell_type": "code",
      "execution_count": null,
      "metadata": {
        "collapsed": false
      },
      "outputs": [],
      "source": [
        "settings = {\n    'frequency': frequency,\n    'donor_lifetime': donor_lifetime,\n    'donor_freting': 1.0,\n    'donor_background': 0.1,\n    'background_real': background_phasor[0],\n    'background_imag': background_phasor[1],\n}\n\nquenching_trajectory = phasor_from_fret_donor(\n    **settings, fret_efficiency=numpy.linspace(0.0, 1.0, 100)\n)\n\nfret1_phasor = phasor_from_fret_donor(**settings, fret_efficiency=0.23)\nfret2_phasor = phasor_from_fret_donor(**settings, fret_efficiency=0.32)\n\nsettings['donor_background'] = numpy.linspace(0.0, 100.0, 100)\nfreting1_trajectory = phasor_from_fret_donor(**settings, fret_efficiency=0.23)\nfreting2_trajectory = phasor_from_fret_donor(**settings, fret_efficiency=0.32)\n\nplot = PhasorPlot(\n    frequency=frequency,\n    title='FRET trajectories',\n    xlim=[0.45, 0.94],\n    ylim=[0.15, 0.55],\n)\nplot.hist2d(real, imag)\nplot.circle(*donor_phasor, radius=0.03, linestyle='-', color='tab:green')\nplot.circle(*background_phasor, radius=0.03, linestyle='-', color='dimgrey')\nplot.plot(*quenching_trajectory, fmt='-', color='tab:grey')\nplot.plot(*freting1_trajectory, fmt='-', color='tab:grey')\nplot.plot(*freting2_trajectory, fmt='-', color='tab:grey')\nplot.line(\n    [background_phasor[0], donor_phasor[0]],\n    [background_phasor[1], donor_phasor[1]],\n    linestyle='-',\n    color='tab:green',\n)\nplot.plot(*fret1_phasor, color='tab:grey')\nplot.plot(*fret2_phasor, color='tab:grey')\nplot.show()"
      ]
    },
    {
      "cell_type": "markdown",
      "metadata": {},
      "source": [
        "For this sample, it seems that all the cells are FRETing and that\nthe change of lifetime between the cells is due to combination with\nthe background fluorescence.\n\n"
      ]
    },
    {
      "cell_type": "markdown",
      "metadata": {},
      "source": [
        ".. todo::\n\n    Another type of plot that can be obtained is the histogram of the\n    fractional intensity, along the green line, for each file selected.\n\n    Assign component 1 and component 2 to the extremes of the lines of the\n    linear combination.\n\n"
      ]
    },
    {
      "cell_type": "markdown",
      "metadata": {},
      "source": [
        "## Comments and questions\n\nThere is a large amount of background in some of the files, which is\nabsent in other experiments.\nThis could be due to the media used for fixing the samples.\nThe spatial distribution due to FRET is always obtained at the entire\ncell level, not internal to a cell since in these samples either a cell\nexpresses one protein of the other.\n\n- What percentage of the species is FRETing in the CFP-YFP image?\n- Is the FRET efficiency high or low?\n\n"
      ]
    },
    {
      "cell_type": "markdown",
      "metadata": {},
      "source": [
        "sphinx_gallery_thumbnail_number = -1\n\n"
      ]
    }
  ],
  "metadata": {
    "kernelspec": {
      "display_name": "Python 3",
      "language": "python",
      "name": "python3"
    },
    "language_info": {
      "codemirror_mode": {
        "name": "ipython",
        "version": 3
      },
      "file_extension": ".py",
      "mimetype": "text/x-python",
      "name": "python",
      "nbconvert_exporter": "python",
      "pygments_lexer": "ipython3",
      "version": "3.11.9"
    }
  },
  "nbformat": 4,
  "nbformat_minor": 0
}