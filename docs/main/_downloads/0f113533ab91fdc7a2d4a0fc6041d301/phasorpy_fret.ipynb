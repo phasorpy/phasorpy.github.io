{
  "cells": [
    {
      "cell_type": "markdown",
      "metadata": {},
      "source": [
        "\n# F\u00f6rster Resonance Energy Transfer\n\nCalculate and plot phasor coordinates of FRET donor and acceptor channels.\n\nThe :py:func:`phasorpy.lifetime.phasor_from_fret_donor`,\n:py:func:`phasorpy.lifetime.phasor_from_fret_acceptor`, and\n:py:class:`phasorpy.plot.PhasorPlotFret` functions and classes\nare used to calculate and plot phasor coordinates of\nFRET (F\u00f6rster Resonance Energy Transfer) donor and acceptor channels\nas a function of:\n\n- laser pulse or modulation frequency\n- donor and acceptor lifetimes\n- FRET efficiency\n- fraction of donors undergoing FRET\n- fraction of directly excited acceptors (acceptor bleedthrough)\n- fraction of donor fluorescence in acceptor channel (donor bleedthrough)\n- fraction of background fluorescence\n"
      ]
    },
    {
      "cell_type": "markdown",
      "metadata": {},
      "source": [
        "Define FRET model settings used throughout this tutorial:\n\n"
      ]
    },
    {
      "cell_type": "code",
      "execution_count": null,
      "metadata": {
        "collapsed": false
      },
      "outputs": [],
      "source": [
        "settings = {\n    'frequency': 60.0,  # MHz\n    'donor_lifetime': 4.2,  # ns\n    'acceptor_lifetime': 3.0,  # ns\n    'fret_efficiency': 0.5,  # 50%\n}"
      ]
    },
    {
      "cell_type": "markdown",
      "metadata": {},
      "source": [
        "## FRET efficiency trajectories\n\nThe lifetime $\\tau_{DA}$ and fluorescence intensity $F_{DA}$\nof a FRET donor quenched by energy transfer of efficiency $E$ is given\nby $\\tau_{DA} = \\tau_{D} (1 - E)$ and $F_{DA} = F_{D} (1 - E)$,\nwhere $\\tau_{D}$ and $F_{D}$ are the donor lifetime and\nintensity in the absence of energy transfer.\n\nHence, in the absence of background fluorescence and donors not undergoing\nenergy transfer, the phasor coordinates of the donor channel at different\nFRET efficiencies lie on the universal semicircle.\nAt 100% energy transfer, the donor lifetime and fluorescence intensity are\nzero.\n\nThe sensitized emission of a FRET acceptor is phase-shifted and demodulated\nrelative to the FRET donor because of the duration of, and dissipation\nduring, relaxation and energy transfer processes.\nHence, in the absence of directly excited acceptor, donor bleedthrough,\nand background fluorescence, the phasor coordinates of the acceptor channel\nat different FRET efficiencies lie outside the universal semicircle of\nthe donor.\n\n"
      ]
    },
    {
      "cell_type": "code",
      "execution_count": null,
      "metadata": {
        "collapsed": false
      },
      "outputs": [],
      "source": [
        "from phasorpy.plot import PhasorPlotFret\n\nPhasorPlotFret(\n    **settings,\n    title='FRET efficiency trajectories',\n).show()"
      ]
    },
    {
      "cell_type": "markdown",
      "metadata": {},
      "source": [
        "## Fractions not fretting\n\nAdding fractions of donors not participating in FRET and fractions\nof directly excited acceptors (acceptor bleedthrough) pulls the\nFRET trajectories of the donor and acceptor channels towards the\nphasor coordinates of the donor and acceptor without FRET:\n\n"
      ]
    },
    {
      "cell_type": "code",
      "execution_count": null,
      "metadata": {
        "collapsed": false
      },
      "outputs": [],
      "source": [
        "PhasorPlotFret(\n    **settings,\n    donor_fretting=0.9,  # 90%\n    acceptor_bleedthrough=0.1,  # 10%\n    title='FRET efficiency trajectories with fractions not fretting',\n).show()"
      ]
    },
    {
      "cell_type": "markdown",
      "metadata": {},
      "source": [
        "## Donor bleedthrough\n\nWhen the acceptor channel contains fractions of donor fluorescence\n(donor bleedthrough), the FRET efficiency trajectory of the acceptor\nchannel shifts towards the phasor coordinates of the donor channel:\n\n"
      ]
    },
    {
      "cell_type": "code",
      "execution_count": null,
      "metadata": {
        "collapsed": false
      },
      "outputs": [],
      "source": [
        "PhasorPlotFret(\n    **settings,\n    donor_bleedthrough=0.1,  # 10%\n    title='FRET efficiency trajectories with donor bleedthrough',\n).show()"
      ]
    },
    {
      "cell_type": "markdown",
      "metadata": {},
      "source": [
        "## Background fluorescence\n\nIn the presence of background fluorescence, the FRET efficiency trajectories\nare linear combinations with the background phasor coordinates.\nAt 100% energy transfer, the donor channel only contains background\nfluorescence if all donors participate in FRET.\nAt 0% energy transfer, in the absence of donor bleedthrough and directly\nexcited acceptor, the acceptor channel only contains background fluorescence:\n\n"
      ]
    },
    {
      "cell_type": "code",
      "execution_count": null,
      "metadata": {
        "collapsed": false
      },
      "outputs": [],
      "source": [
        "PhasorPlotFret(\n    **settings,\n    donor_fretting=1.0,\n    acceptor_background=0.1,  # 10%\n    donor_background=0.1,  # 10%\n    background_real=0.5,\n    background_imag=0.2,\n    title='FRET efficiency trajectories with background',\n).show()"
      ]
    },
    {
      "cell_type": "markdown",
      "metadata": {},
      "source": [
        "## Many parameters\n\nThe phasor coordinates of the donor channel may contain fractions of:\n\n- donor not undergoing energy transfer\n- donor quenched by energy transfer\n- background fluorescence\n\nThe phasor coordinates of the acceptor channel may contain fractions of:\n\n- acceptor sensitized by energy transfer\n- directly excited acceptor\n- donor bleedthrough\n- background fluorescence\n\n"
      ]
    },
    {
      "cell_type": "code",
      "execution_count": null,
      "metadata": {
        "collapsed": false
      },
      "outputs": [],
      "source": [
        "PhasorPlotFret(\n    **settings,\n    donor_fretting=0.9,\n    donor_bleedthrough=0.1,\n    acceptor_bleedthrough=0.1,\n    acceptor_background=0.1,\n    donor_background=0.1,\n    background_real=0.5,\n    background_imag=0.2,\n    title='FRET efficiency trajectories with many parameters',\n).show()"
      ]
    },
    {
      "cell_type": "markdown",
      "metadata": {},
      "source": [
        "## Interactive plot\n\nRun the FRET phasor plot interactively::\n\n    $ python -m phasorpy fret\n\nor\n\n"
      ]
    },
    {
      "cell_type": "code",
      "execution_count": null,
      "metadata": {
        "collapsed": false
      },
      "outputs": [],
      "source": [
        "PhasorPlotFret(\n    **settings,\n    donor_fretting=0.9,\n    donor_bleedthrough=0.1,\n    interactive=True,\n    title='Interactive FRET phasor plot',\n).show()"
      ]
    },
    {
      "cell_type": "markdown",
      "metadata": {},
      "source": [
        "## Multi-frequency plot\n\nSince each component of the FRET model has a distinct frequency response,\nthe multi-frequency plots of donor and acceptor channels reveal\ncomplex patterns.\nBackground fluorescence is omitted from this example to model an\nin vitro experiment:\n\n"
      ]
    },
    {
      "cell_type": "code",
      "execution_count": null,
      "metadata": {
        "collapsed": false
      },
      "outputs": [],
      "source": [
        "import numpy\n\nfrom phasorpy.lifetime import (\n    phasor_from_fret_acceptor,\n    phasor_from_fret_donor,\n)\nfrom phasorpy.phasor import phasor_to_polar\nfrom phasorpy.plot import plot_polar_frequency\n\nfrequency = numpy.logspace(0, 4, 64).reshape(-1, 1)  # 1-10000 MHz\nfret_efficiency = numpy.array([0.05, 0.95]).reshape(1, -1)  # 5% and 95%\ndonor_lifetime = 4.2\nacceptor_lifetime = 3.0\ndonor_fretting = 0.9\ndonor_bleedthrough = 0.1\nacceptor_bleedthrough = 0.1\n\ndonor_real, donor_imag = phasor_from_fret_donor(\n    frequency,\n    donor_lifetime,\n    fret_efficiency=fret_efficiency,\n    donor_fretting=donor_fretting,\n)\n\n# phasor of acceptor channel\nacceptor_real, acceptor_imag = phasor_from_fret_acceptor(\n    frequency,\n    donor_lifetime,\n    acceptor_lifetime,\n    fret_efficiency=fret_efficiency,\n    donor_fretting=donor_fretting,\n    donor_bleedthrough=donor_bleedthrough,\n    acceptor_bleedthrough=acceptor_bleedthrough,\n)\n\nplot_polar_frequency(\n    frequency,\n    phasor_to_polar(donor_real, donor_imag)[0],\n    phasor_to_polar(donor_real, donor_imag)[1],\n    title='Donor channel',\n)"
      ]
    },
    {
      "cell_type": "code",
      "execution_count": null,
      "metadata": {
        "collapsed": false
      },
      "outputs": [],
      "source": [
        "plot_polar_frequency(\n    frequency,\n    *phasor_to_polar(acceptor_real, acceptor_imag),\n    title='Acceptor channel',\n)"
      ]
    },
    {
      "cell_type": "markdown",
      "metadata": {},
      "source": [
        "sphinx_gallery_thumbnail_number = 5\nmypy: allow-untyped-defs, allow-untyped-calls\nmypy: disable-error-code=\"arg-type\"\n\n"
      ]
    }
  ],
  "metadata": {
    "kernelspec": {
      "display_name": "Python 3",
      "language": "python",
      "name": "python3"
    },
    "language_info": {
      "codemirror_mode": {
        "name": "ipython",
        "version": 3
      },
      "file_extension": ".py",
      "mimetype": "text/x-python",
      "name": "python",
      "nbconvert_exporter": "python",
      "pygments_lexer": "ipython3",
      "version": "3.12.11"
    }
  },
  "nbformat": 4,
  "nbformat_minor": 0
}