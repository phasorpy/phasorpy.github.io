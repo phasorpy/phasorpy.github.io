{
  "cells": [
    {
      "cell_type": "markdown",
      "metadata": {},
      "source": [
        "\n# FRET efficiency image\n\nEstimate FRET efficiencies in an image using a phasor-based model.\n\nThe :py:func:`phasorpy.lifetime.phasor_from_fret_donor` function is used to\ncalculate a theoretical FRET efficiency trajectory and the\n:py:func:`phasorpy.phasor.phasor_nearest_neighbor` function is then used\nto estimate the FRET efficiencies of measured phasor coordinates in an image\nfrom the trajectory.\n"
      ]
    },
    {
      "cell_type": "markdown",
      "metadata": {},
      "source": [
        "Import required modules, functions, and classes:\n\n"
      ]
    },
    {
      "cell_type": "code",
      "execution_count": null,
      "metadata": {
        "collapsed": false
      },
      "outputs": [],
      "source": [
        "import numpy\n\nfrom phasorpy.datasets import fetch\nfrom phasorpy.io import phasor_from_simfcs_referenced\nfrom phasorpy.lifetime import (\n    phasor_from_fret_donor,\n    phasor_to_normal_lifetime,\n)\nfrom phasorpy.phasor import (\n    phasor_filter_median,\n    phasor_nearest_neighbor,\n    phasor_threshold,\n)\nfrom phasorpy.plot import (\n    PhasorPlot,\n    plot_histograms,\n    plot_image,\n    plot_phasor_image,\n)"
      ]
    },
    {
      "cell_type": "markdown",
      "metadata": {},
      "source": [
        "## Read dataset\n\nRead phasor coordinates from the\n[LFD workshop dataset](https://zenodo.org/records/8411056),\ncontaining fixed samples of CFP and CFP-YFP expressing cells.\nThe data were acquired using a Lambert frequency-domain FLIM instrument\nat 80 MHz. The phasor coordinates are already referenced:\n\n"
      ]
    },
    {
      "cell_type": "code",
      "execution_count": null,
      "metadata": {
        "collapsed": false
      },
      "outputs": [],
      "source": [
        "filename = 'CFP and CFP-YFp.ref'\nfrequency = 80.0  # MHz\n\nmean, real, imag, attrs = phasor_from_simfcs_referenced(fetch(filename))\n\nplot_phasor_image(mean, real, imag, title=filename)\n\n# Filter the phasor coordinates and set the intensity threshold\n# to 9000 counts to remove background:\n\nmean, real, imag = phasor_filter_median(mean, real, imag, repeat=2)\nmean, real, imag = phasor_threshold(\n    mean, real, imag, mean_min=9000, real_min=0, imag_min=0, open_interval=True\n)"
      ]
    },
    {
      "cell_type": "markdown",
      "metadata": {},
      "source": [
        "## FRET efficiency trajectory\n\nCalculate a theoretical FRET efficiency trajectory of phasor coordinates\nfor the CFP FRET donor:\n\n"
      ]
    },
    {
      "cell_type": "code",
      "execution_count": null,
      "metadata": {
        "collapsed": false
      },
      "outputs": [],
      "source": [
        "donor_real, donor_imag = 0.72, 0.45  # estimated pure CFP phasor coordinates\nbackground_real, background_imag = 0.6, 0.41  # estimated background phasor\n\nfret_efficiency_range = numpy.linspace(0.0, 1.0, 100)\ndonor_lifetime = phasor_to_normal_lifetime(donor_real, donor_imag, frequency)\n\nfret_trajectory = phasor_from_fret_donor(\n    frequency,\n    donor_lifetime,\n    fret_efficiency=fret_efficiency_range,\n    donor_fretting=1.0,\n    donor_background=0.1,  # 10% background signal\n    background_real=background_real,\n    background_imag=background_imag,\n)\n\nphasor_plot = PhasorPlot(\n    frequency=frequency,\n    xlim=(0.5, 1),\n    ylim=(0.2, 0.6),\n    title='FRET efficiency trajectory',\n)\nphasor_plot.hist2d(real, imag)\nphasor_plot.line([donor_real, background_real], [donor_imag, background_imag])\nphasor_plot.plot(\n    donor_real,\n    donor_imag,\n    'o',\n    color='tab:green',\n    markeredgecolor='black',\n    markersize=10,\n    zorder=10,\n    label='Donor only',\n)\nphasor_plot.plot(\n    background_real,\n    background_imag,\n    'o',\n    color='black',\n    markersize=10,\n    zorder=10,\n    label='Background',\n)\nphasor_plot.plot(\n    *fret_trajectory,\n    '-',\n    color='tab:orange',\n    linewidth=4,\n    alpha=0.8,\n    label='FRET trajectory',\n)\nphasor_plot.show()"
      ]
    },
    {
      "cell_type": "markdown",
      "metadata": {},
      "source": [
        "## Estimate FRET efficiency\n\nEstimate FRET efficiencies for each pixel in the image by finding\nthe closest phasor coordinates in the FRET efficiency trajectory:\n\n"
      ]
    },
    {
      "cell_type": "code",
      "execution_count": null,
      "metadata": {
        "collapsed": false
      },
      "outputs": [],
      "source": [
        "fret_efficiencies = phasor_nearest_neighbor(\n    real,\n    imag,\n    *fret_trajectory,\n    values=fret_efficiency_range,\n    dtype=real.dtype,\n    num_threads=4,\n)"
      ]
    },
    {
      "cell_type": "markdown",
      "metadata": {},
      "source": [
        "Visualize the spatial distribution of FRET efficiencies:\n\n"
      ]
    },
    {
      "cell_type": "code",
      "execution_count": null,
      "metadata": {
        "collapsed": false
      },
      "outputs": [],
      "source": [
        "plot_image(fret_efficiencies, title='Estimated FRET efficiency')"
      ]
    },
    {
      "cell_type": "markdown",
      "metadata": {},
      "source": [
        "Visualize the distribution of FRET efficiencies as a histogram:\n\n"
      ]
    },
    {
      "cell_type": "code",
      "execution_count": null,
      "metadata": {
        "collapsed": false
      },
      "outputs": [],
      "source": [
        "plot_histograms(\n    fret_efficiencies * 100,  # convert to percentage\n    range=(0, 35),\n    bins=35,\n    xlabel='FRET efficiency (%)',\n    ylabel='Counts',\n    title='FRET efficiency histogram',\n)"
      ]
    },
    {
      "cell_type": "markdown",
      "metadata": {},
      "source": [
        "sphinx_gallery_thumbnail_number = -2\nmypy: allow-untyped-defs, allow-untyped-calls\n\n"
      ]
    }
  ],
  "metadata": {
    "kernelspec": {
      "display_name": "Python 3",
      "language": "python",
      "name": "python3"
    },
    "language_info": {
      "codemirror_mode": {
        "name": "ipython",
        "version": 3
      },
      "file_extension": ".py",
      "mimetype": "text/x-python",
      "name": "python",
      "nbconvert_exporter": "python",
      "pygments_lexer": "ipython3",
      "version": "3.13.6"
    }
  },
  "nbformat": 4,
  "nbformat_minor": 0
}