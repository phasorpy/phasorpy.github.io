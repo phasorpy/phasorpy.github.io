{
  "cells": [
    {
      "cell_type": "markdown",
      "metadata": {},
      "source": [
        "\n# Benchmark phasor_from_signal\n\nBenchmark the ``phasor_from_signal`` function.\n\nThe :py:func:`phasorpy.phasor.phasor_from_signal` function to calculate phasor\ncoordinates from time-resolved or spectral signals can operate in two modes:\n\n- using an internal Cython function optimized for calculating a small number\n  of harmonics, optionally using multiple threads.\n\n- using a real forward Fast Fourier Transform (FFT), ``numpy.fft.rfft`` or\n  a drop-in replacement function like ``scipy.fft.rfft``\n  or ``mkl_fft.interfaces.numpy_fft.rfft``.\n\nThis tutorial compares the performance of the two modes.\n\nImport required modules and functions:\n"
      ]
    },
    {
      "cell_type": "code",
      "execution_count": null,
      "metadata": {
        "collapsed": false
      },
      "outputs": [],
      "source": [
        "from timeit import timeit\n\nimport numpy\nfrom numpy.fft import rfft as numpy_fft  # noqa\n\nfrom phasorpy.phasor import phasor_from_signal  # noqa\nfrom phasorpy.utils import number_threads\n\ntry:\n    from scipy.fft import rfft as scipy_fft\nexcept ImportError:\n    scipy_fft = None\n\ntry:\n    from mkl_fft.interfaces.numpy_fft import rfft as mkl_fft\nexcept ImportError:\n    mkl_fft = None"
      ]
    },
    {
      "cell_type": "markdown",
      "metadata": {},
      "source": [
        "## Run benchmark\n\nCreate a random signal with a size and dtype similar to real world data:\n\n"
      ]
    },
    {
      "cell_type": "code",
      "execution_count": null,
      "metadata": {
        "collapsed": false
      },
      "outputs": [],
      "source": [
        "signal = numpy.random.default_rng(1).random((384, 384, 384))\nsignal += 1.1\nsignal *= 3723  # ~12 bit\nsignal = signal.astype(numpy.uint16)  # 108 MB\nsignal[signal < 0.05] = 0.0  # 5% no signal"
      ]
    },
    {
      "cell_type": "markdown",
      "metadata": {},
      "source": [
        "Print execution times depending on FFT function, axis, number of harmonics,\nand number of threads:\n\n"
      ]
    },
    {
      "cell_type": "code",
      "execution_count": null,
      "metadata": {
        "collapsed": false
      },
      "outputs": [],
      "source": [
        "statement = \"\"\"\nphasor_from_signal(signal, axis=axis, harmonic=harmonic, **kwargs)\n\"\"\"\nnumber = 1  # how many times to execute statement\nref = None  # reference duration\n\n\ndef print_(descr, t):\n    print(f'    {descr:20s}{t / number:>6.3f}s {t / ref:>6.2f}')\n\n\nfor harmonic in ([1], [1, 2, 3, 4, 5, 6, 7, 8]):\n    print(f'harmonics {len(harmonic)}')\n    for axis in (-1, 0, 2):\n        print(f'  axis {axis}')\n        kwargs = {'use_fft': False, 'num_threads': 1}\n        t = timeit(statement, number=number, globals=globals())\n        if ref is None:\n            ref = t\n        print_('not_fft', t)\n\n        num_threads = number_threads(0, 6)\n        if num_threads > 1:\n            kwargs = {'use_fft': False, 'num_threads': num_threads}\n            t = timeit(statement, number=number, globals=globals())\n            print_(f'not_fft ({num_threads} threads)', t)\n\n        for fft_name in ('numpy_fft', 'scipy_fft', 'mkl_fft'):\n            fft_func = globals()[fft_name]\n            if fft_func is None:\n                continue\n            kwargs = {'use_fft': True, 'rfft': fft_func}\n            t = timeit(statement, number=number, globals=globals())\n            print_(f'{fft_name}', t)"
      ]
    },
    {
      "cell_type": "markdown",
      "metadata": {},
      "source": [
        "For reference, the results on a Core i7-14700K CPU, Windows 11,\nPython 3.13.3, numpy 2.2.6, scipy 1.15.3, mkl-fft 1.3.14::\n\n    harmonics 1\n      axis -1\n        not_fft              0.036s   1.00\n        not_fft (6 threads)  0.006s   0.17\n        numpy_fft            0.270s   7.60\n        scipy_fft            0.236s   6.64\n        mkl_fft              0.114s   3.20\n      axis 0\n        not_fft              0.139s   3.90\n        not_fft (6 threads)  0.028s   0.78\n        numpy_fft            0.591s  16.63\n        scipy_fft            0.509s  14.32\n        mkl_fft              0.148s   4.18\n      axis 2\n        not_fft              0.037s   1.03\n        not_fft (6 threads)  0.006s   0.16\n        numpy_fft            0.265s   7.47\n        scipy_fft            0.239s   6.72\n        mkl_fft              0.117s   3.29\n    harmonics 8\n      axis -1\n        not_fft              0.284s   8.00\n        not_fft (6 threads)  0.040s   1.13\n        numpy_fft            0.279s   7.84\n        scipy_fft            0.247s   6.94\n        mkl_fft              0.129s   3.64\n      axis 0\n        not_fft              1.120s  31.52\n        not_fft (6 threads)  0.280s   7.88\n        numpy_fft            0.679s  19.11\n        scipy_fft            0.525s  14.78\n        mkl_fft              0.165s   4.65\n      axis 2\n        not_fft              0.285s   8.03\n        not_fft (6 threads)  0.039s   1.10\n        numpy_fft            0.278s   7.84\n        scipy_fft            0.243s   6.85\n        mkl_fft              0.131s   3.68\n\n"
      ]
    },
    {
      "cell_type": "markdown",
      "metadata": {},
      "source": [
        "## Results\n\n- Using the Cython implementation is significantly faster than using the\n  ``numpy.fft`` based implementation for single harmonics.\n- Using multiple threads can significantly speed up the Cython mode.\n- The FFT functions from ``scipy`` and ``mkl_fft`` outperform numpy.fft.\n  Specifically, ``mkl_fft`` is very performant.\n- Using FFT becomes more competitive when calculating larger number of\n  harmonics.\n- Computing over the last axis is significantly faster compared to the first\n  axis. That is because the samples in the last dimension are contiguous,\n  closer together in memory.\n\nNote that these results were obtained on a single dataset of random numbers.\n\n"
      ]
    },
    {
      "cell_type": "markdown",
      "metadata": {},
      "source": [
        "## Conclusions\n\nUsing the Cython implementation is a reasonable default when calculating\na few harmonics. Using FFT is a better choice when computing large number\nof harmonics, especially with an optimized FFT function.\n\n"
      ]
    },
    {
      "cell_type": "code",
      "execution_count": null,
      "metadata": {
        "collapsed": false
      },
      "outputs": [],
      "source": [
        "# mypy: allow-untyped-defs, allow-untyped-calls\n# mypy: disable-error-code=\"arg-type\""
      ]
    }
  ],
  "metadata": {
    "kernelspec": {
      "display_name": "Python 3",
      "language": "python",
      "name": "python3"
    },
    "language_info": {
      "codemirror_mode": {
        "name": "ipython",
        "version": 3
      },
      "file_extension": ".py",
      "mimetype": "text/x-python",
      "name": "python",
      "nbconvert_exporter": "python",
      "pygments_lexer": "ipython3",
      "version": "3.13.7"
    }
  },
  "nbformat": 4,
  "nbformat_minor": 0
}