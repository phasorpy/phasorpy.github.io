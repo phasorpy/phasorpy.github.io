{
  "cells": [
    {
      "cell_type": "markdown",
      "metadata": {},
      "source": [
        "\n# Component analysis\n\nAn introduction to component analysis in phasor space.\n"
      ]
    },
    {
      "cell_type": "markdown",
      "metadata": {},
      "source": [
        "Import required modules, functions, and classes:\n\n"
      ]
    },
    {
      "cell_type": "code",
      "execution_count": null,
      "metadata": {
        "collapsed": false
      },
      "outputs": [],
      "source": [
        "import math\n\nimport matplotlib.animation as animation\nimport matplotlib.pyplot as plt\nimport numpy\n\nfrom phasorpy.components import (\n    graphical_component_analysis,\n    two_fractions_from_phasor,\n)\nfrom phasorpy.phasor import phasor_from_lifetime\nfrom phasorpy.plot import PhasorPlot\n\nnumpy.random.seed(42)\ncomponent_style = {\n    'linestyle': '-',\n    'marker': 'o',\n    'color': 'tab:blue',\n    'fontsize': 14,\n}"
      ]
    },
    {
      "cell_type": "markdown",
      "metadata": {},
      "source": [
        "## Fractions of two components\n\nThe phasor coordinates of combinations of two lifetime components lie on\nthe line between the two components. For example, a combination with\n60% contribution (fraction 0.6) of a component A with lifetime 1.0 ns and\n40% contribution (fraction 0.4) of a component B with lifetime 8.0 ns\nat 80 MHz:\n\n"
      ]
    },
    {
      "cell_type": "code",
      "execution_count": null,
      "metadata": {
        "collapsed": false
      },
      "outputs": [],
      "source": [
        "frequency = 80.0\ncomponent_lifetimes = [1.0, 8.0]\ncomponent_fractions = [0.6, 0.4]\n\ncomponents_real, components_imag = phasor_from_lifetime(\n    frequency, component_lifetimes\n)\n\nplot = PhasorPlot(frequency=frequency, title='Combination of two components')\nplot.components(\n    components_real,\n    components_imag,\n    component_fractions,\n    labels=['A', 'B'],\n    **component_style,\n)\nplot.show()"
      ]
    },
    {
      "cell_type": "markdown",
      "metadata": {},
      "source": [
        "If the location of both components is known, their contributions (fractions)\nto the phasor point that lies on the line between the components\ncan be calculated:\n\n"
      ]
    },
    {
      "cell_type": "code",
      "execution_count": null,
      "metadata": {
        "collapsed": false
      },
      "outputs": [],
      "source": [
        "real, imag = phasor_from_lifetime(\n    frequency, component_lifetimes, component_fractions\n)\n\nfraction_of_first_component = two_fractions_from_phasor(\n    real, imag, components_real, components_imag\n)\n\nassert math.isclose(fraction_of_first_component, component_fractions[0])"
      ]
    },
    {
      "cell_type": "markdown",
      "metadata": {},
      "source": [
        "## Distribution of fractions of two components\n\nPhasor coordinates can have different contributions of two components with\nknown phasor coordinates:\n\n"
      ]
    },
    {
      "cell_type": "code",
      "execution_count": null,
      "metadata": {
        "collapsed": false
      },
      "outputs": [],
      "source": [
        "real, imag = numpy.random.multivariate_normal(\n    (real, imag), [[5e-3, 1e-3], [1e-3, 1e-3]], (100, 100)\n).T\n\nplot = PhasorPlot(\n    frequency=frequency, title='Distribution of fractions of two components'\n)\nplot.hist2d(real, imag, cmap='Greys')\nplot.components(\n    components_real, components_imag, labels=['A', 'B'], **component_style\n)\nplot.show()"
      ]
    },
    {
      "cell_type": "markdown",
      "metadata": {},
      "source": [
        "If the phasor coordinates of two components contributing to multiple\nphasor coordinates are known, their fractional contributions to each phasor\ncoordinate can be calculated by projecting the phasor coordinate onto\nthe line between the components. The fractions are plotted as histograms:\n\n"
      ]
    },
    {
      "cell_type": "code",
      "execution_count": null,
      "metadata": {
        "collapsed": false
      },
      "outputs": [],
      "source": [
        "fraction_of_first_component = two_fractions_from_phasor(\n    real, imag, components_real, components_imag\n)\n\nfig, ax = plt.subplots()\nax.hist(\n    fraction_of_first_component.flatten(),\n    range=(0, 1),\n    bins=100,\n    alpha=0.75,\n    label='A',\n)\nax.hist(\n    1.0 - fraction_of_first_component.flatten(),\n    range=(0, 1),\n    bins=100,\n    alpha=0.75,\n    label='B',\n)\nax.set_title('Histograms of fractions of two components')\nax.set_xlabel('Fraction')\nax.set_ylabel('Counts')\nax.legend()\nplt.tight_layout()\nplt.show()"
      ]
    },
    {
      "cell_type": "markdown",
      "metadata": {},
      "source": [
        "## Graphical solution for contributions of two components\n\nThe :py:func:`phasorpy.components.graphical_component_analysis`\nfunction for two components counts the number of phasor coordinates\nthat fall within a radius at given fractions along the line between\nthe components.\nCompare the plot of counts vs fraction to the previous histogram:\n\n"
      ]
    },
    {
      "cell_type": "code",
      "execution_count": null,
      "metadata": {
        "collapsed": false
      },
      "outputs": [],
      "source": [
        "radius = 0.025\nfractions = numpy.linspace(0.0, 1.0, 20)\n\ncounts = graphical_component_analysis(\n    real,\n    imag,\n    components_real,\n    components_imag,\n    fractions=fractions,\n    radius=radius,\n)\n\nfig, ax = plt.subplots()\nax.plot(fractions, counts[0], '-', label='A vs B')\nax.set_title('Graphical solution for contributions of two components')\nax.set_xlabel('Fraction')\nax.set_ylabel('Counts')\nax.legend()\nplt.show()"
      ]
    },
    {
      "cell_type": "markdown",
      "metadata": {},
      "source": [
        "## Graphical solution for contributions of three components\n\nThe graphical solution can similarly be applied to the contributions of\nthree components.\n\n"
      ]
    },
    {
      "cell_type": "code",
      "execution_count": null,
      "metadata": {
        "collapsed": false
      },
      "outputs": [],
      "source": [
        "component_lifetimes = [1.0, 4.0, 15.0]\ncomponents_real, components_imag = phasor_from_lifetime(\n    frequency, component_lifetimes\n)\n\nplot = PhasorPlot(\n    frequency=frequency,\n    title='Distribution of three known components',\n)\nplot.hist2d(real, imag, cmap='Greys')\nplot.components(\n    components_real, components_imag, labels=['A', 'B', 'C'], **component_style\n)\nplot.show()"
      ]
    },
    {
      "cell_type": "markdown",
      "metadata": {},
      "source": [
        "The results of the graphical component analysis are plotted as\nhistograms for each component pair:\n\n"
      ]
    },
    {
      "cell_type": "code",
      "execution_count": null,
      "metadata": {
        "collapsed": false
      },
      "outputs": [],
      "source": [
        "counts = graphical_component_analysis(\n    real,\n    imag,\n    components_real,\n    components_imag,\n    fractions=fractions,\n    radius=radius,\n)\n\nfig, ax = plt.subplots()\nax.plot(fractions, counts[0], '-', label='A vs B')\nax.plot(fractions, counts[1], '-', label='A vs C')\nax.plot(fractions, counts[2], '-', label='B vs C')\nax.set_title('Graphical solution for contributions of three components')\nax.set_xlabel('Fraction')\nax.set_ylabel('Counts')\nax.legend()\nplt.show()"
      ]
    },
    {
      "cell_type": "markdown",
      "metadata": {},
      "source": [
        "The graphical method for resolving the contribution of three components\n(pairwise) to a phasor coordinate is based on the quantification of moving\ncircular cursors along the line between the components, demonstrated in the\nfollowing animation for component A vs B.\nFor the full analysis, the process is repeated for the other combinations\nof components, A vs C and B vs C:\n\n"
      ]
    },
    {
      "cell_type": "code",
      "execution_count": null,
      "metadata": {
        "collapsed": false
      },
      "outputs": [],
      "source": [
        "fig, (ax, hist) = plt.subplots(nrows=2, ncols=1, figsize=(5.5, 8))\n\nplot = PhasorPlot(\n    frequency=frequency,\n    ax=ax,\n    title='Graphical solution for contribution of A vs B',\n)\nplot.hist2d(real, imag, cmap='Greys')\nplot.components(\n    components_real[:2],\n    components_imag[:2],\n    labels=['A', 'B'],\n    **component_style,\n)\nplot.components(\n    components_real[2], components_imag[2], labels=['C'], **component_style\n)\n\nhist.set_xlim(0, 1)\nhist.set_xlabel('Fraction')\nhist.set_ylabel('Counts')\n\ndirection_real = components_real[0] - components_real[1]\ndirection_imag = components_imag[0] - components_imag[1]\n\nplots = []\nfor i in range(fractions.size):\n    cursor_real = components_real[1] + fractions[i] * direction_real\n    cursor_imag = components_imag[1] + fractions[i] * direction_imag\n    plot_lines = plot.plot(\n        [cursor_real, components_real[2]],\n        [cursor_imag, components_imag[2]],\n        '-',\n        linewidth=plot.dataunit_to_point * radius * 2 + 5,\n        solid_capstyle='round',\n        color='red',\n        alpha=0.5,\n    )\n    hist_artists = plt.plot(\n        fractions[: i + 1], counts[0][: i + 1], linestyle='-', color='tab:blue'\n    )\n    plots.append(plot_lines + hist_artists)\n\n_ = animation.ArtistAnimation(fig, plots, interval=100, blit=True)\nplt.tight_layout()\nplt.show()"
      ]
    },
    {
      "cell_type": "markdown",
      "metadata": {},
      "source": [
        "sphinx_gallery_thumbnail_number = 5\nmypy: allow-untyped-defs, allow-untyped-calls\nmypy: disable-error-code=\"arg-type\"\n\n"
      ]
    }
  ],
  "metadata": {
    "kernelspec": {
      "display_name": "Python 3",
      "language": "python",
      "name": "python3"
    },
    "language_info": {
      "codemirror_mode": {
        "name": "ipython",
        "version": 3
      },
      "file_extension": ".py",
      "mimetype": "text/x-python",
      "name": "python",
      "nbconvert_exporter": "python",
      "pygments_lexer": "ipython3",
      "version": "3.12.7"
    }
  },
  "nbformat": 4,
  "nbformat_minor": 0
}