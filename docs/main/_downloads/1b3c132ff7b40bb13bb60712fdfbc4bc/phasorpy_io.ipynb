{
  "cells": [
    {
      "cell_type": "markdown",
      "metadata": {},
      "source": [
        "\n# File input/output\n\nRead and write phasor-related data from and to various file formats.\n\nThe :py:mod:`phasorpy.io` module provides functions to read phasor\ncoordinates, TCSPC time-delay histograms, cross-correlation phase histograms,\nhyperspectral image stacks, lifetime images, and relevant metadata from\nvarious file formats used in bio-imaging.\nThe module also includes functions to write phasor coordinates to OME-TIFF\nand SimFCS Referenced files.\n"
      ]
    },
    {
      "cell_type": "markdown",
      "metadata": {},
      "source": [
        "Import required modules and functions:\n\n"
      ]
    },
    {
      "cell_type": "code",
      "execution_count": null,
      "metadata": {
        "collapsed": false
      },
      "outputs": [],
      "source": [
        "import math\nimport os\nfrom tempfile import TemporaryDirectory\n\nimport numpy\nfrom numpy.testing import assert_allclose\n\nfrom phasorpy.filter import phasor_filter_median, phasor_threshold\nfrom phasorpy.lifetime import phasor_calibrate, phasor_to_apparent_lifetime\nfrom phasorpy.phasor import phasor_from_signal, phasor_transform\nfrom phasorpy.plot import (\n    plot_histograms,\n    plot_phasor,\n    plot_phasor_image,\n    plot_signal_image,\n)"
      ]
    },
    {
      "cell_type": "markdown",
      "metadata": {},
      "source": [
        "## Sample files\n\nPhasorPy provides access to curated sample files in various formats\nthat are shared publicly on Zenodo, Figshare, and GitHub repositories.\nThe files can be accessed using the :py:func:`phasorpy.datasets.fetch`\nfunction, which transparently downloads files and caches them locally.\nThe function returns the path to the downloaded file:\n\n"
      ]
    },
    {
      "cell_type": "code",
      "execution_count": null,
      "metadata": {
        "collapsed": false
      },
      "outputs": [],
      "source": [
        "from phasorpy.datasets import fetch  # isort: skip\n\nfilename = fetch('FLIM_testdata.lif')\nprint(filename)"
      ]
    },
    {
      "cell_type": "markdown",
      "metadata": {},
      "source": [
        "Consider contributing datasets to the [PhasorPy Community on Zenodo](https://zenodo.org/communities/phasorpy/).\n\n"
      ]
    },
    {
      "cell_type": "markdown",
      "metadata": {},
      "source": [
        "## Leica LIF and XLEF\n\nLeica image files (LIF and XLEF) are written by Leica LAS X software.\nThey contain collections of multi-dimensional images and metadata from\na variety of microscopy acquisition and analysis modes.\n\nPhasorPy currently supports reading hyperspectral images,\nphasor coordinates, and lifetime images from Leica image files via the\n[liffile](https://github.com/cgohlke/liffile/) library.\n\n### LIF FLIM\n\nLeica image files, acquired on a FALCON microscope and analyzed with LAS X\nsoftware, contain calculated phasor coordinates, lifetime images, and\nrelevant metadata. The :py:func:`phasorpy.io.phasor_from_lif` and\n:py:func:`phasorpy.io.lifetime_from_lif` functions are used to read those\ndata from the [FLIM_testdata dataset](https://dx.doi.org/10.6084/m9.figshare.22336594.v1):\n\n"
      ]
    },
    {
      "cell_type": "code",
      "execution_count": null,
      "metadata": {
        "collapsed": false
      },
      "outputs": [],
      "source": [
        "from phasorpy.io import lifetime_from_lif, phasor_from_lif\n\nfilename = 'FLIM_testdata.lif'\n\nmean, real, imag, attrs = phasor_from_lif(fetch(filename))\n\nplot_phasor_image(mean, real, imag, title=filename)"
      ]
    },
    {
      "cell_type": "markdown",
      "metadata": {},
      "source": [
        "The returned mean intensity and uncalibrated phasor coordinates are\nNumPy arrays. ``attrs`` is a dictionary holding metadata, including the\nauto-reference phase (in degrees) and modulation for all image channels,\nas well as the fundamental laser frequency (in MHz):\n\n"
      ]
    },
    {
      "cell_type": "code",
      "execution_count": null,
      "metadata": {
        "collapsed": false
      },
      "outputs": [],
      "source": [
        "frequency = attrs['frequency']\nchannel_0 = attrs['flim_phasor_channels'][0]\nreference_phase = channel_0['AutomaticReferencePhase']\nreference_modulation = channel_0['AutomaticReferenceAmplitude']\nintensity_min = channel_0['IntensityThreshold'] / attrs['samples']"
      ]
    },
    {
      "cell_type": "markdown",
      "metadata": {},
      "source": [
        "These metadata are used to calibrate and threshold the phasor coordinates:\n\n"
      ]
    },
    {
      "cell_type": "code",
      "execution_count": null,
      "metadata": {
        "collapsed": false
      },
      "outputs": [],
      "source": [
        "real, imag = phasor_transform(\n    real, imag, -math.radians(reference_phase), 1 / reference_modulation\n)\n\nmean, real, imag = phasor_threshold(mean, real, imag, mean_min=intensity_min)\n\nplot_phasor(\n    real,\n    imag,\n    frequency=frequency,\n    cmin=10,\n    title=f'{filename} ({frequency} MHz)',\n)"
      ]
    },
    {
      "cell_type": "markdown",
      "metadata": {},
      "source": [
        "Apparent single lifetimes are calculated from the calibrated phasor\ncoordinates and compared to the \"Fast FLIM\" lifetimes (average photon\narrival times) calculated by LAS X software. The Fast FLIM lifetimes are\ncorrected for the IRF position, which is extracted from metadata:\n\n"
      ]
    },
    {
      "cell_type": "code",
      "execution_count": null,
      "metadata": {
        "collapsed": false
      },
      "outputs": [],
      "source": [
        "phase_lifetime, modulation_lifetime = phasor_to_apparent_lifetime(\n    real, imag, frequency\n)\n\nfastflim_lifetime, _, _, attrs = lifetime_from_lif(fetch(filename))\nfastflim_lifetime[numpy.isnan(mean)] = numpy.nan\n\nfrequency = attrs['frequency']\nreference = attrs['flim_phasor_channels'][0]['AutomaticReferencePhase']\nfastflim_lifetime -= math.radians(reference) / (2 * math.pi) / frequency * 1000\n\nplot_histograms(\n    phase_lifetime,\n    modulation_lifetime,\n    fastflim_lifetime,\n    range=(0, 10),\n    bins=100,\n    alpha=0.6,\n    xlabel='Lifetime (ns)',\n    ylabel='Count',\n    labels=[\n        'Phase lifetime',\n        'Modulation lifetime',\n        'Fast FLIM lifetime',\n    ],\n    title='Lifetime histograms',\n)"
      ]
    },
    {
      "cell_type": "markdown",
      "metadata": {},
      "source": [
        "The apparent single lifetimes from phase and modulation do not exactly match\nand the Fast FLIM lifetimes are in between them.\nMost likely there is more than one lifetime component in the sample.\n\n"
      ]
    },
    {
      "cell_type": "markdown",
      "metadata": {},
      "source": [
        "<div class=\"alert alert-info\"><h4>Note</h4><p>Reading of FLIM/TCSPC histograms from LIF-FLIM files is currently not\n  supported because the storage scheme is undocumented or patent-pending.\n  However, TTTR records can be exported to PTU format using LAS X software.</p></div>\n\n"
      ]
    },
    {
      "cell_type": "markdown",
      "metadata": {},
      "source": [
        "### LIF hyperspectral\n\nThe :py:func:`phasorpy.io.signal_from_lif` function is used to read an\nimage stack from the [Convallaria hyperspectral dataset](https://zenodo.org/records/14976703) acquired at 29 emission wavelengths:\n\n"
      ]
    },
    {
      "cell_type": "code",
      "execution_count": null,
      "metadata": {
        "collapsed": false
      },
      "outputs": [],
      "source": [
        "from phasorpy.io import signal_from_lif\n\nfilename = 'Convalaria_LambdaScan.lif'\n\nsignal = signal_from_lif(fetch(filename))\n\nplot_signal_image(signal, vmin=0, xlabel='wavelength (nm)', title=filename)"
      ]
    },
    {
      "cell_type": "markdown",
      "metadata": {},
      "source": [
        "Emission wavelengths (in nm) are available in the coordinates of the\nchannel axis:\n\n"
      ]
    },
    {
      "cell_type": "code",
      "execution_count": null,
      "metadata": {
        "collapsed": false
      },
      "outputs": [],
      "source": [
        "print(signal.coords['C'].values.astype(int))"
      ]
    },
    {
      "cell_type": "markdown",
      "metadata": {},
      "source": [
        "Plot the first harmonic phasor coordinates after applying a median filter:\n\n"
      ]
    },
    {
      "cell_type": "code",
      "execution_count": null,
      "metadata": {
        "collapsed": false
      },
      "outputs": [],
      "source": [
        "plot_phasor(\n    *phasor_threshold(\n        *phasor_filter_median(*phasor_from_signal(signal)), mean_min=1\n    )[1:],\n    allquadrants=True,\n    title=filename,\n)"
      ]
    },
    {
      "cell_type": "markdown",
      "metadata": {},
      "source": [
        "## PicoQuant PTU\n\nPicoQuant PTU files are written by PicoQuant SymPhoTime, Leica LAS X, and\nother software. The files contain time-correlated single-photon\ncounting (TCSPC) measurement data and instrumentation parameters.\n\nPhasorPy supports reading TCSPC histograms from PTU files acquired in T3\nimaging mode via the [ptufile](https://github.com/cgohlke/ptufile/)\nlibrary.\n\nThe :py:func:`phasorpy.io.signal_from_ptu` function is used to read\nthe TCSPC histogram from a PTU file exported from the [FLIM_testdata LIF\ndataset](https://dx.doi.org/10.6084/m9.figshare.22336594.v1).\nFor phasor analysis, periods containing multiple photons must have all\ntheir photons discarded before exporting to PTU format. In the Leica\nLAS X software, select the \"FLIM\" tab, click on the \"Phasor\" button,\nand under \"Specialist Settings\" select the option \"Standard (High Speed)\".\nThe first channel in the first frame is read from the PTU file:\n\n"
      ]
    },
    {
      "cell_type": "code",
      "execution_count": null,
      "metadata": {
        "collapsed": false
      },
      "outputs": [],
      "source": [
        "from phasorpy.io import signal_from_ptu\n\nfilename = 'FLIM_testdata.lif.filtered.ptu'\n\nsignal = signal_from_ptu(fetch(filename), channel=0, frame=0)\n\nplot_signal_image(signal, xlabel='delay-time (ns)', title=filename)"
      ]
    },
    {
      "cell_type": "markdown",
      "metadata": {},
      "source": [
        "The returned ``signal`` is an [xarray.DataArray](https://docs.xarray.dev/en/stable/generated/xarray.DataArray.html)\nholding the TCSPC histogram as a NumPy array, and metadata as a\ndictionary in the ``attrs`` property.\nThe metadata includes all PTU tags and the fundamental laser frequency,\nwhich is needed to interpret the phasor coordinates.\nThe reference phase and modulation previously loaded from the LIF-FLIM file\nare again used to calibrate the phasor coordinates. The same intensity\nthreshold is applied:\n\n"
      ]
    },
    {
      "cell_type": "code",
      "execution_count": null,
      "metadata": {
        "collapsed": false
      },
      "outputs": [],
      "source": [
        "frequency = signal.attrs['frequency']\nassert frequency == attrs['frequency']  # frequency matches LIF metadata\n\nmean, real, imag = phasor_from_signal(signal)\n\nreal, imag = phasor_transform(\n    real, imag, -math.radians(reference_phase), 1 / reference_modulation\n)\n\nmean, real, imag = phasor_threshold(mean, real, imag, mean_min=intensity_min)\n\nplot_phasor(\n    real,\n    imag,\n    frequency=frequency,\n    cmin=10,\n    title=f'{filename} ({frequency} MHz)',\n)"
      ]
    },
    {
      "cell_type": "markdown",
      "metadata": {},
      "source": [
        "Compare the apparent single lifetimes calculated from the PTU file with the\nlifetimes previously read from the LIF-FLIM file:\n\n"
      ]
    },
    {
      "cell_type": "code",
      "execution_count": null,
      "metadata": {
        "collapsed": false
      },
      "outputs": [],
      "source": [
        "plot_histograms(\n    phasor_to_apparent_lifetime(real, imag, frequency)[0],\n    phase_lifetime,\n    range=(0, 10),\n    bins=100,\n    alpha=0.6,\n    xlabel='Lifetime (ns)',\n    ylabel='Count',\n    labels=['Phase lifetime from PTU', 'Phase lifetime from LIF'],\n    title='Lifetime histograms',\n)"
      ]
    },
    {
      "cell_type": "markdown",
      "metadata": {},
      "source": [
        "## Zeiss CZI\n\nCarl Zeiss image files (CZI) are written by Zeiss ZEN software.\nThey contain images and metadata from a variety of microscopy acquisition\nand analysis modes, including hyperspectral imaging.\n\nPhasorPy does not currently support reading CZI files.\nHowever, hyperspectral images can be read from CZI files using, for example,\nthe [pylibCZIrw](https://github.com/ZEISS/pylibczirw/) or\n[BioIO](https://github.com/bioio-devs/bioio) libraries. Another option is\nto export CZI files as LSM using the ZEN software.\n\n"
      ]
    },
    {
      "cell_type": "markdown",
      "metadata": {},
      "source": [
        "## Zeiss LSM\n\nCarl Zeiss LSM files, a predecessor of the CZI format, are written by\nZeiss ZEN software. They contain images and metadata from laser-scanning\nmicroscopy.\n\nPhasorPy supports reading hyperspectral image data from Zeiss LSM files\nvia the [tifffile](https://github.com/cgohlke/tifffile/) library.\n\nThe :py:func:`phasorpy.io.signal_from_lsm` function is used to read\na hyperspectral dataset with 30 emission wavelengths:\n\n"
      ]
    },
    {
      "cell_type": "code",
      "execution_count": null,
      "metadata": {
        "collapsed": false
      },
      "outputs": [],
      "source": [
        "from phasorpy.io import signal_from_lsm\n\nfilename = 'paramecium.lsm'\n\nsignal = signal_from_lsm(fetch('paramecium.lsm'))\n\nplot_signal_image(signal, xlabel='wavelength (nm)', title=filename)"
      ]
    },
    {
      "cell_type": "markdown",
      "metadata": {},
      "source": [
        "Emission wavelengths (in nm) are available in the coordinates of the\nchannel axis:\n\n"
      ]
    },
    {
      "cell_type": "code",
      "execution_count": null,
      "metadata": {
        "collapsed": false
      },
      "outputs": [],
      "source": [
        "print(signal.coords['C'].values.astype(int))"
      ]
    },
    {
      "cell_type": "markdown",
      "metadata": {},
      "source": [
        "Plot the first harmonic phasor coordinates after applying a median filter:\n\n"
      ]
    },
    {
      "cell_type": "code",
      "execution_count": null,
      "metadata": {
        "collapsed": false
      },
      "outputs": [],
      "source": [
        "plot_phasor(\n    *phasor_threshold(\n        *phasor_filter_median(*phasor_from_signal(signal)), mean_min=1\n    )[1:],\n    allquadrants=True,\n    title=filename,\n)"
      ]
    },
    {
      "cell_type": "markdown",
      "metadata": {},
      "source": [
        "## Becker & Hickl SDT\n\nSDT files are written by Becker & Hickl software.\nThey may contain TCSPC histograms and metadata from laser-scanning\nmicroscopy.\n\nPhasorPy supports reading TCSPC histograms from SDT files via the\n[sdtfile](https://github.com/cgohlke/sdtfile/) library.\n\nThe :py:func:`phasorpy.io.signal_from_sdt` function is used to read a\nTCSPC histogram from a SDT file:\n\n"
      ]
    },
    {
      "cell_type": "code",
      "execution_count": null,
      "metadata": {
        "collapsed": false
      },
      "outputs": [],
      "source": [
        "from phasorpy.io import signal_from_sdt\n\nfilename = 'tcspc.sdt'\n\nsignal = signal_from_sdt(fetch(filename))\n\nplot_signal_image(signal, xlabel='delay-time (ns)', title=filename)"
      ]
    },
    {
      "cell_type": "markdown",
      "metadata": {},
      "source": [
        "Plot the uncalibrated phasor coordinates:\n\n"
      ]
    },
    {
      "cell_type": "code",
      "execution_count": null,
      "metadata": {
        "collapsed": false
      },
      "outputs": [],
      "source": [
        "frequency = signal.attrs['frequency']\n\nplot_phasor(\n    *phasor_from_signal(signal)[1:],\n    allquadrants=True,\n    style='hist2d',\n    title=f'{filename} ({frequency:.1f} MHz)',\n)"
      ]
    },
    {
      "cell_type": "markdown",
      "metadata": {},
      "source": [
        ".. todo::\n  No accompanying IRF dataset is available to calibrate the phasor\n  coordinates.\n\n"
      ]
    },
    {
      "cell_type": "markdown",
      "metadata": {},
      "source": [
        "## FLIMbox FBD\n\nFLIMbox data files, FBD, are written by SimFCS and ISS software.\nThey contain encoded cross-correlation phase histograms from digital\nfrequency-domain measurements acquired with a FLIMbox device.\nNewer file versions also contain metadata.\n\nThe FBD file format is undocumented, not standardized, and files are\nfrequently found corrupted. Therefore, it is recommended to export FLIMbox\nfiles to another format from the software used to acquire the data.\n\nPhasorPy supports reading some FLIMbox FBD files via the\n[lfdfiles](https://github.com/cgohlke/lfdfiles/) library.\n\nThe :py:func:`phasorpy.io.signal_from_fbd` function is used to read\na phase histograms from the\n[Convallaria FBD dataset](https://zenodo.org/records/14026720), which was\nacquired at the second harmonic. The dataset is a time series of two\nchannels. Since the photon count is low and the second channel empty,\nonly the first channel is read and the time-axis integrated:\n\n"
      ]
    },
    {
      "cell_type": "code",
      "execution_count": null,
      "metadata": {
        "collapsed": false
      },
      "outputs": [],
      "source": [
        "from phasorpy.io import signal_from_fbd\n\nfilename = 'Convallaria_$EI0S.fbd'\n\nsignal = signal_from_fbd(fetch(filename), frame=-1, channel=0)\n\nfrequency = signal.attrs['frequency'] * signal.attrs['harmonic']\n\nplot_signal_image(\n    signal, xlabel='cross-correlation phase (rad)', title=filename\n)"
      ]
    },
    {
      "cell_type": "markdown",
      "metadata": {},
      "source": [
        "The measurement of a solution of Rhodamine 110 with known lifetime of 4 ns\nis used as a calibration reference:\n\n"
      ]
    },
    {
      "cell_type": "code",
      "execution_count": null,
      "metadata": {
        "collapsed": false
      },
      "outputs": [],
      "source": [
        "reference_filename = 'Calibration_Rhodamine110_$EI0S.fbd'\n\nreference_signal = signal_from_fbd(\n    fetch(reference_filename), frame=-1, channel=0\n)\nreference_lifetime = 4.0\n\nplot_signal_image(\n    reference_signal,\n    xlabel='cross-correlation phase (rad)',\n    title=reference_filename,\n)"
      ]
    },
    {
      "cell_type": "markdown",
      "metadata": {},
      "source": [
        "Phasor coordinates are calculated from the signal and calibrated with\nthe reference signal:\n\n"
      ]
    },
    {
      "cell_type": "code",
      "execution_count": null,
      "metadata": {
        "collapsed": false
      },
      "outputs": [],
      "source": [
        "mean, real, imag = phasor_from_signal(signal)\n\nreal, imag = phasor_calibrate(\n    real,\n    imag,\n    *phasor_from_signal(reference_signal),\n    frequency,\n    reference_lifetime,\n)\n\nplot_phasor(\n    *phasor_threshold(\n        *phasor_filter_median(mean, real, imag, repeat=3), mean_min=1\n    )[1:],\n    frequency=frequency,\n    title=f'{filename} ({frequency} MHz)',\n)"
      ]
    },
    {
      "cell_type": "markdown",
      "metadata": {},
      "source": [
        "## FLIM LABS JSON\n\nFLIM LABS JSON files are written by FLIM Studio software.\nThey contain multi-channel TCSPC histogram images, optional calibrated\nmulti-harmonic phasor coordinates, and metadata from digital frequency-domain\nmeasurements.\n\nThe :py:func:`phasorpy.io.signal_from_flimlabs_json` function is used to\nread a TCSPC histogram from the [Convallaria FLIM LABS dataset](https://zenodo.org/records/15007900), which contains a single channel:\n\n"
      ]
    },
    {
      "cell_type": "code",
      "execution_count": null,
      "metadata": {
        "collapsed": false
      },
      "outputs": [],
      "source": [
        "from phasorpy.io import signal_from_flimlabs_json\n\nchannel = 0\nfilename = 'Convallaria_m2_1740751781_phasor_ch1.json'\n\nsignal = signal_from_flimlabs_json(fetch(filename), channel=channel)\n\nplot_signal_image(signal, xlabel='delay-time (ns)', title=filename)"
      ]
    },
    {
      "cell_type": "markdown",
      "metadata": {},
      "source": [
        "Phasor coordinates are calculated from the TCSPC histogram at three\nharmonics and calibrated using the metadata in ``signal.attrs`` and the\nTCSPC histogram from the measurement of a Fluorescein solution of known\nlifetime:\n\n"
      ]
    },
    {
      "cell_type": "code",
      "execution_count": null,
      "metadata": {
        "collapsed": false
      },
      "outputs": [],
      "source": [
        "harmonic = [1, 2, 3]\nfrequency = signal.attrs['frequency']\nreference_lifetime = signal.attrs['flimlabs_header']['tau_ns']\n\nmean, real, imag = phasor_from_signal(signal, harmonic=harmonic)\n\nreference_mean, reference_real, reference_imag = phasor_from_signal(\n    signal_from_flimlabs_json(\n        fetch('Fluorescein_Calibration_m2_1740751189_imaging.json'),\n        channel=channel,\n    ),\n    harmonic=harmonic,\n)\n\nreal, imag = phasor_calibrate(\n    real,\n    imag,\n    reference_mean,\n    reference_real,\n    reference_imag,\n    frequency,\n    reference_lifetime,\n    harmonic=harmonic,\n)"
      ]
    },
    {
      "cell_type": "markdown",
      "metadata": {},
      "source": [
        "Plot the second harmonic phasor coordinates:\n\n"
      ]
    },
    {
      "cell_type": "code",
      "execution_count": null,
      "metadata": {
        "collapsed": false
      },
      "outputs": [],
      "source": [
        "plot_phasor(\n    real[1],\n    imag[1],\n    frequency=frequency * 2,\n    cmin=10,\n    title=f'{filename} ({frequency * 2:.1f} MHz)',\n)"
      ]
    },
    {
      "cell_type": "markdown",
      "metadata": {},
      "source": [
        "Newer versions of the FLIM LABS JSON files may also contain calibrated\nphasor coordinates, possibly at multiple harmonics, which can be read\nusing the :py:func:`phasorpy.io.phasor_from_flimlabs_json` function:\n\n"
      ]
    },
    {
      "cell_type": "code",
      "execution_count": null,
      "metadata": {
        "collapsed": false
      },
      "outputs": [],
      "source": [
        "from phasorpy.io import phasor_from_flimlabs_json\n\nmean_fromfile, real_fromfile, imag_fromfile, attrs = phasor_from_flimlabs_json(\n    fetch(filename), channel=channel, harmonic='all'\n)\n\nassert attrs['harmonic'] == [1, 2, 3]\nassert_allclose(mean, mean_fromfile, atol=1e-3)\nassert_allclose(real, real_fromfile, atol=1e-3, equal_nan=True)\nassert_allclose(imag, imag_fromfile, atol=1e-3, equal_nan=True)"
      ]
    },
    {
      "cell_type": "markdown",
      "metadata": {},
      "source": [
        "The reference phase, modulation, and lifetime used to calibrate the phasor\ncoordinates may also be found in an accompanying JSON file:\n\n"
      ]
    },
    {
      "cell_type": "code",
      "execution_count": null,
      "metadata": {
        "collapsed": false
      },
      "outputs": [],
      "source": [
        "import json\n\nwith open(\n    fetch('Fluorescein_Calibration_m2_1740751189_imaging_calibration.json'),\n    'rb',\n) as fh:\n    attrs = json.load(fh)\n\ncalibration = numpy.asarray(attrs['calibrations'][channel])\nreference_phase = -calibration[:, 0, None, None]\nreference_modulation = 1 / calibration[:, 1, None, None]\nreference_lifetime = attrs['tau_ns']\nfrequency = attrs['frequency_mhz']"
      ]
    },
    {
      "cell_type": "markdown",
      "metadata": {},
      "source": [
        "## ISS IFLI\n\nIFLI files are written by ISS VistaVision software. They contain calibrated\nphasor coordinates from analog or digital frequency-domain fluorescence\nlifetime measurements.\nIFLI datasets can be up to 9-dimensional in the order of mean/real/imag,\nfrequency, position, emission wavelength, time, channel, Z, Y, and X.\n\nPhasorPy supports reading ISS IFLI files via the\n[lfdfiles](https://github.com/cgohlke/lfdfiles/) library.\n\nThe :py:func:`phasorpy.io.phasor_from_ifli` function is used to read\ncalibrated phasor coordinates from a measurement of mouse liver fed with\nWestern diet. Select the second channel and first three harmonics:\n\n"
      ]
    },
    {
      "cell_type": "code",
      "execution_count": null,
      "metadata": {
        "collapsed": false
      },
      "outputs": [],
      "source": [
        "from phasorpy.io import phasor_from_ifli\n\nfilename = 'NADHandSHG.ifli'\n\nmean, real, imag, attrs = phasor_from_ifli(\n    fetch(filename),\n    harmonic='all',\n    channel=1,  # NADH channel\n)\n\nplot_phasor_image(mean, real, imag, title=filename)"
      ]
    },
    {
      "cell_type": "markdown",
      "metadata": {},
      "source": [
        "The first channel in the file contains an SHG image with phasor coordinates\nabout zero:\n\n"
      ]
    },
    {
      "cell_type": "code",
      "execution_count": null,
      "metadata": {
        "collapsed": false
      },
      "outputs": [],
      "source": [
        "assert (\n    phasor_from_ifli(\n        fetch(filename), harmonic='all', channel=0  # SHG channel\n    )[1].mean()\n    < 1e-2\n)"
      ]
    },
    {
      "cell_type": "markdown",
      "metadata": {},
      "source": [
        "The ``attrs`` dictionary holds metadata including the fundamental laser\nfrequency, the harmonics in the phasor coordinates, and the reference phasor\ncoordinates used for calibration:\n\n"
      ]
    },
    {
      "cell_type": "code",
      "execution_count": null,
      "metadata": {
        "collapsed": false
      },
      "outputs": [],
      "source": [
        "frequency = attrs['frequency']\nharmonic = attrs['harmonic']\nreference_phasor = attrs['ifli_header']['RefDCPhasor']\nreference_lifetime = attrs['ifli_header']['RefLifetime']"
      ]
    },
    {
      "cell_type": "markdown",
      "metadata": {},
      "source": [
        "Plot the first harmonic phasor coordinates after applying a median filter:\n\n"
      ]
    },
    {
      "cell_type": "code",
      "execution_count": null,
      "metadata": {
        "collapsed": false
      },
      "outputs": [],
      "source": [
        "plot_phasor(\n    *phasor_filter_median(mean, real[0], imag[0], repeat=2)[1:],\n    frequency=frequency,\n    cmin=10,\n    title=f'{filename} ({frequency:.2f} MHz)',\n)"
      ]
    },
    {
      "cell_type": "markdown",
      "metadata": {},
      "source": [
        "Three main lifetime components are expected in the sample: free\nNADH (~0.4 ns), bound NADH (3.4 ns), and a long lifetime species (~8 ns).\nIt appears the calibration is off in this sample.\n\n"
      ]
    },
    {
      "cell_type": "markdown",
      "metadata": {},
      "source": [
        "## SimFCS REF and R64\n\nReferenced files, REF and R64, are written by the SimFCS software and\nsupported in several other software.\nThe files most commonly contain a square-sized average intensity image and\nthe calibrated phasor coordinates of the first two harmonics.\n\nPhasorPy supports reading and writing SimFCS Referenced files via the\n[lfdfiles](https://github.com/cgohlke/lfdfiles/) library.\n\nThe :py:func:`phasorpy.io.phasor_from_simfcs_referenced` function is used\nto read calibrated phasor coordinates from a REF file\nfrom the [LFD workshop dataset](https://zenodo.org/records/8411056):\n\n"
      ]
    },
    {
      "cell_type": "code",
      "execution_count": null,
      "metadata": {
        "collapsed": false
      },
      "outputs": [],
      "source": [
        "from phasorpy.io import phasor_from_simfcs_referenced\n\nfilename = 'capillaries1001.ref'\n\nmean, real, imag, attrs = phasor_from_simfcs_referenced(\n    fetch(filename), harmonic='all'\n)\n\nplot_phasor_image(mean, real, imag, title=filename)"
      ]
    },
    {
      "cell_type": "markdown",
      "metadata": {},
      "source": [
        "Plot the first harmonic phasor coordinates after applying a median filter.\nSince SimFCS Referenced files do not contain metadata, the frequency and\nharmonics must be known by the user:\n\n"
      ]
    },
    {
      "cell_type": "code",
      "execution_count": null,
      "metadata": {
        "collapsed": false
      },
      "outputs": [],
      "source": [
        "frequency = 80.0  # MHz\nharmonic = [1, 2]\n\nplot_phasor(\n    *phasor_threshold(\n        *phasor_filter_median(mean, real[0], imag[0]),\n        mean_min=25,\n        real_min=1e-3,\n    )[1:],\n    frequency=frequency,\n    cmin=2,\n    title=f'{filename} ({frequency:.2f} MHz)',\n)"
      ]
    },
    {
      "cell_type": "markdown",
      "metadata": {},
      "source": [
        "The :py:func:`phasorpy.io.phasor_to_simfcs_referenced` function is used\nto write calibrated phasor coordinates to R64 files in a temporary directory.\nImages with more than two dimensions or larger than square size are\nchunked to square-sized images and saved to separate files.\nImages or chunks with less than two dimensions or smaller than square size\nare padded with NaN values:\n\n"
      ]
    },
    {
      "cell_type": "code",
      "execution_count": null,
      "metadata": {
        "collapsed": false
      },
      "outputs": [],
      "source": [
        "from phasorpy.io import phasor_to_simfcs_referenced\n\nwith TemporaryDirectory() as tmpdir:\n\n    filename = os.path.join(tmpdir, 'capillaries1001.r64')\n    phasor_to_simfcs_referenced(filename, mean, real, imag, size=160)\n\n    # print file names\n    filenames = sorted(os.listdir(tmpdir))\n    for filename in filenames:\n        print(filename)\n\n    # verify the first harmonic phasor coordinates in the last file\n    assert_allclose(\n        phasor_from_simfcs_referenced(os.path.join(tmpdir, filenames[-1]))[1],\n        numpy.pad(real[0, 160:, 160:], (0, 64), constant_values=numpy.nan),\n        atol=1e-3,\n        equal_nan=True,\n    )"
      ]
    },
    {
      "cell_type": "markdown",
      "metadata": {},
      "source": [
        "## PhasorPy OME-TIFF\n\nPhasorPy can store phasor coordinates and select metadata in\n[OME-TIFF](https://ome-model.readthedocs.io/en/stable/ome-tiff/)\nformatted files, which are compatible with Bio-Formats, Fiji, and other\nsoftware. The implementation is based on the\n[tifffile](https://github.com/cgohlke/tifffile/) library.\n\nCompared to the SimFCS R64 format, OME-TIFF offers several advantages.\nIt can store higher-dimensional, higher-precision images of any size,\nany number of harmonics, and selected metadata.\n\nPhasorPy OME-TIFF files are intended for temporarily exchanging phasor\ncoordinates with other software, not as a long-term storage solution.\nAlways preserve original data files in their native formats.\n\nThe :py:func:`phasorpy.io.phasor_to_ometiff` and\n:py:func:`phasorpy.io.phasor_from_ometiff` functions are used to write and\nread back calibrated phasor coordinates to/from PhasorPy OME-TIFF files:\n\n"
      ]
    },
    {
      "cell_type": "code",
      "execution_count": null,
      "metadata": {
        "collapsed": false
      },
      "outputs": [],
      "source": [
        "from phasorpy.io import phasor_from_ometiff, phasor_to_ometiff\n\nwith TemporaryDirectory() as tmpdir:\n\n    filename = os.path.join(tmpdir, 'capillaries1001.ome.tif')\n\n    phasor_to_ometiff(\n        filename,\n        mean,\n        real,\n        imag,\n        frequency=frequency,\n        dims='YX',\n        description='Written by PhasorPy',\n    )\n\n    mean1, real1, imag1, attrs = phasor_from_ometiff(filename, harmonic='all')\n    assert_allclose(mean, mean1)\n    assert attrs['frequency'] == frequency\n    assert attrs['harmonic'] == [1, 2]\n    assert attrs['description'] == 'Written by PhasorPy'"
      ]
    },
    {
      "cell_type": "markdown",
      "metadata": {},
      "source": [
        "## Alternative import methods\n\nWhile PhasorPy provides many functions to read phasor-related data and\nmetadata from file formats commonly used in the field, it is by no means\nrequired to use those functions.\nInstead, any other means that yields image stacks in NumPy array compatible\nform can be used (for example) for advanced use cases, or when a file\nformat is not supported by PhasorPy.\n\nFor example, most imaging software can export image data to generic\nTIFF files.\nThe [tifffile](https://github.com/cgohlke/tifffile/) library is used to\nread a TCSPC histogram exported to a TIFF file by ImSpector software:\n\n"
      ]
    },
    {
      "cell_type": "code",
      "execution_count": null,
      "metadata": {
        "collapsed": false
      },
      "outputs": [],
      "source": [
        "from tifffile import imread\n\nfilename = 'Embryo.tif'\n\nimage_stack = imread(fetch(filename))"
      ]
    },
    {
      "cell_type": "markdown",
      "metadata": {},
      "source": [
        "Since the image stack array contains no domain-specific metadata, the\nfundamental frequency and the axis over which to calculate phasor\ncoordinates must be known. In this case, the TCSPC histogram bins are in\nthe first array dimension:\n\n"
      ]
    },
    {
      "cell_type": "code",
      "execution_count": null,
      "metadata": {
        "collapsed": false
      },
      "outputs": [],
      "source": [
        "plot_signal_image(image_stack, axis=0, xlabel='index', title=filename)\n\nmean, real, imag = phasor_from_signal(image_stack, axis=0)"
      ]
    },
    {
      "cell_type": "markdown",
      "metadata": {},
      "source": [
        "Plot the uncalibrated phasor coordinates:\n\n"
      ]
    },
    {
      "cell_type": "code",
      "execution_count": null,
      "metadata": {
        "collapsed": false
      },
      "outputs": [],
      "source": [
        "plot_phasor(real, imag, frequency=80.0, allquadrants=True, title=filename)"
      ]
    },
    {
      "cell_type": "markdown",
      "metadata": {},
      "source": [
        "sphinx_gallery_thumbnail_number = 11\nmypy: allow-untyped-defs, allow-untyped-calls\nmypy: disable-error-code=\"arg-type\"\n\n"
      ]
    }
  ],
  "metadata": {
    "kernelspec": {
      "display_name": "Python 3",
      "language": "python",
      "name": "python3"
    },
    "language_info": {
      "codemirror_mode": {
        "name": "ipython",
        "version": 3
      },
      "file_extension": ".py",
      "mimetype": "text/x-python",
      "name": "python",
      "nbconvert_exporter": "python",
      "pygments_lexer": "ipython3",
      "version": "3.13.7"
    }
  },
  "nbformat": 4,
  "nbformat_minor": 0
}