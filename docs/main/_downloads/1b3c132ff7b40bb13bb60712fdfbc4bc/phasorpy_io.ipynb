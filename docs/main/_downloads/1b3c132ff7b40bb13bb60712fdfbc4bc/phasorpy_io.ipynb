{
  "cells": [
    {
      "cell_type": "markdown",
      "metadata": {},
      "source": [
        "\n# File input/output\n\nRead and write phasor related data from and to various file formats.\n\nThe :py:mod:`phasorpy.io` module provides functions to read phasor\ncoordinates, FLIM/TCSPC histograms, hyperspectral image stacks, lifetime\nimages, and relevant metadata from various file formats used in bio-imaging.\nThe module also includes functions to write phasor coordinates to OME-TIFF\nand SimFCS referenced files.\n"
      ]
    },
    {
      "cell_type": "markdown",
      "metadata": {},
      "source": [
        "<div class=\"alert alert-info\"><h4>Note</h4><p>This tutorial is work in progress.\n  Not all supported file formats are included yet.</p></div>\n\n"
      ]
    },
    {
      "cell_type": "markdown",
      "metadata": {},
      "source": [
        "Import required modules and functions.\nDefine a helper function to compare image histograms:\n\n"
      ]
    },
    {
      "cell_type": "code",
      "execution_count": null,
      "metadata": {
        "collapsed": false
      },
      "outputs": [],
      "source": [
        "import math\n\nimport numpy\nfrom matplotlib import pyplot\n\nfrom phasorpy.phasor import (\n    phasor_from_signal,\n    phasor_threshold,\n    phasor_to_apparent_lifetime,\n    phasor_transform,\n)\nfrom phasorpy.plot import plot_phasor, plot_phasor_image, plot_signal_image\n\n\ndef plot_histograms(\n    *images, title=None, xlabel=None, ylabel=None, labels=None, **kwargs\n):\n    # TODO: replace by future phasorpy.plot.plot_histograms\n    if labels is None:\n        labels = [None] * len(images)\n    fig, ax = pyplot.subplots()\n    for image, label in zip(images, labels):\n        ax.hist(image.flatten(), label=label, **kwargs)\n    ax.set_title(title)\n    ax.set_xlabel(xlabel)\n    ax.set_ylabel(ylabel)\n    ax.legend()\n    pyplot.tight_layout()\n    pyplot.show()"
      ]
    },
    {
      "cell_type": "markdown",
      "metadata": {},
      "source": [
        "## Sample files\n\nPhasorPy provides access to sample files in various formats shared publicly\non Zenodo, Figshare, or GitHub.\nThe files in these repositories are accessed using the\n:py:func:`phasorpy.datasets.fetch` function, which transparently downloads\nfiles if they were not already downloaded before. The function returns\nthe path to the downloaded file:\n\n"
      ]
    },
    {
      "cell_type": "code",
      "execution_count": null,
      "metadata": {
        "collapsed": false
      },
      "outputs": [],
      "source": [
        "from phasorpy.datasets import fetch\n\nfilename = fetch('FLIM_testdata.lif')\nprint(filename)"
      ]
    },
    {
      "cell_type": "markdown",
      "metadata": {},
      "source": [
        "Consider sharing datasets with the [PhasorPy community on Zenodo](https://zenodo.org/communities/phasorpy/).\n\n"
      ]
    },
    {
      "cell_type": "markdown",
      "metadata": {},
      "source": [
        "## Leica LIF and XLEF\n\nLeica image files (LIF and XLEF) are written by Leica LAS X software.\nThey contain collections of multi-dimensional images and metadata from\na variety of microscopy acquisition and analysis modes.\nThe PhasorPy library currently supports reading hyperspectral images,\nphasor coordinates, and lifetime images from Leica image files.\nThe implementation is based on the\n[liffile](https://github.com/cgohlke/liffile/) library.\n\nLIF-FLIM files that were analyzed with the LAS X software contain\ncalculated phasor coordinates, lifetime images, and relevant metadata.\nThe :py:func:`phasorpy.io.phasor_from_lif` and\n:py:func:`phasorpy.io.lifetime_from_lif` functions are used to read those\ndata from the [FLIM_testdata](https://dx.doi.org/10.6084/m9.figshare.22336594.v1) dataset:\n\n"
      ]
    },
    {
      "cell_type": "code",
      "execution_count": null,
      "metadata": {
        "collapsed": false
      },
      "outputs": [],
      "source": [
        "from phasorpy.io import lifetime_from_lif, phasor_from_lif\n\nfilename = 'FLIM_testdata.lif'\nmean, real, imag, attrs = phasor_from_lif(fetch(filename))\n\nplot_phasor_image(mean, real, imag, title=filename)"
      ]
    },
    {
      "cell_type": "markdown",
      "metadata": {},
      "source": [
        "The returned mean intensity and uncalibrated phasor coordinates are\nnumpy arrays. ``attrs`` is a dictionary containing metadata, including the\nauto-reference phase (in degrees) and modulation for all image channels,\nas well as the fundamental laser frequency (in MHz):\n\n"
      ]
    },
    {
      "cell_type": "code",
      "execution_count": null,
      "metadata": {
        "collapsed": false
      },
      "outputs": [],
      "source": [
        "frequency = attrs['frequency']\nchannel_0 = attrs['flim_phasor_channels'][0]\nreference_phase = channel_0['AutomaticReferencePhase']\nreference_modulation = channel_0['AutomaticReferenceAmplitude']\nintensity_min = channel_0['IntensityThreshold'] / attrs['samples']"
      ]
    },
    {
      "cell_type": "markdown",
      "metadata": {},
      "source": [
        "These metadata are used to calibrate and threshold the phasor coordinates:\n\n"
      ]
    },
    {
      "cell_type": "code",
      "execution_count": null,
      "metadata": {
        "collapsed": false
      },
      "outputs": [],
      "source": [
        "real, imag = phasor_transform(\n    real, imag, -math.radians(reference_phase), 1 / reference_modulation\n)\n\nmean, real, imag = phasor_threshold(mean, real, imag, mean_min=intensity_min)\n\nplot_phasor(\n    real,\n    imag,\n    frequency=frequency,\n    title=f'{filename} ({frequency} MHz)',\n    cmin=10,\n)"
      ]
    },
    {
      "cell_type": "markdown",
      "metadata": {},
      "source": [
        "Apparent single lifetimes are calculated from the calibrated phasor\ncoordinates and compared to the lifetimes calculated by LAS X software:\n\n"
      ]
    },
    {
      "cell_type": "code",
      "execution_count": null,
      "metadata": {
        "collapsed": false
      },
      "outputs": [],
      "source": [
        "phase_lifetime, modulation_lifetime = phasor_to_apparent_lifetime(\n    real, imag, frequency\n)\n\nfitted_lifetime = lifetime_from_lif(fetch(filename))[0]\nfitted_lifetime[numpy.isnan(mean)] = numpy.nan\n\nplot_histograms(\n    phase_lifetime,\n    modulation_lifetime,\n    fitted_lifetime,\n    range=(0, 10),\n    bins=100,\n    alpha=0.66,\n    title='Lifetime histograms',\n    xlabel='Lifetime (ns)',\n    ylabel='Counts',\n    labels=[\n        'Phase lifetime',\n        'Modulation lifetime',\n        'Fitted lifetimes from LIF',\n    ],\n)"
      ]
    },
    {
      "cell_type": "markdown",
      "metadata": {},
      "source": [
        "The apparent single lifetimes from phase and modulation do not exactly match.\nMost likely there is more than one lifetime component in the sample.\nThis could also explain the difference from the lifetimes fitted by the\nLAS X software.\n\n"
      ]
    },
    {
      "cell_type": "markdown",
      "metadata": {},
      "source": [
        "<div class=\"alert alert-info\"><h4>Note</h4><p>FLIM/TCSPC histograms cannot currently be read directly from\n  LIF-FLIM files since the storage scheme for those data is undocumented\n  or patent-pending. However, TTTR records can be exported from LIF-FLIM\n  files to PicoQuant PTU format by the LAS X software.</p></div>\n\n"
      ]
    },
    {
      "cell_type": "markdown",
      "metadata": {},
      "source": [
        ".. todo::\n  No public, hyperspectral dataset in LIF format is currently available\n  for demonstrating the :py:func:`phasorpy.io.signal_from_lif` function.\n\n"
      ]
    },
    {
      "cell_type": "markdown",
      "metadata": {},
      "source": [
        "## PicoQuant PTU\n\nPicoQuant PTU files are written by PicoQuant SymPhoTime, Leica LAS X, and\nother software. The files contain time-correlated single-photon\ncounting (TCSPC) measurement data and instrumentation parameters.\nThe PhasorPy library supports reading TCSPC histograms from PicoQuant PTU\nfiles acquired in T3 imaging mode. The implementation is based on the\n[ptufile](https://github.com/cgohlke/ptufile/) library.\n\nThe :py:func:`phasorpy.io.signal_from_ptu` function is used to read\nthe TCSPC histogram from a PTU file exported from the [FLIM_testdata](https://dx.doi.org/10.6084/m9.figshare.22336594.v1) dataset.\nThe function by default returns a 5-dimensional image with dimension order\nTYXCH. Channel and frames are specified to reduce the dimensionality:\n\n"
      ]
    },
    {
      "cell_type": "code",
      "execution_count": null,
      "metadata": {
        "collapsed": false
      },
      "outputs": [],
      "source": [
        "from phasorpy.io import signal_from_ptu\n\nfilename = 'FLIM_testdata.lif.ptu'\nsignal = signal_from_ptu(fetch(filename), channel=0, frame=0, keepdims=False)\n\nplot_signal_image(signal, title=filename)"
      ]
    },
    {
      "cell_type": "markdown",
      "metadata": {},
      "source": [
        "The TCSPC histogram contains more photons than the phasor intensity image\nstored in the LIF-FLIM file. The LAS X software likely applies a filter to\nthe TCSPC histogram before phasor analysis.\n\nThe returned ``signal`` is an [xarray.DataArray](https://docs.xarray.dev/en/stable/generated/xarray.DataArray.html)\ncontaining the TCSPC histogram as a numpy array, and metadata as a\ndictionary in the ``attrs`` property.\nThe metadata includes all PTU tags and the fundamental laser frequency,\nwhich is needed to interpret the phasor coordinates.\nThe reference phase and modulation previously loaded from the LIF-FLIM file\nis again used to calibrate the phasor coordinates. The same intensity\nthreshold is applied:\n\n"
      ]
    },
    {
      "cell_type": "code",
      "execution_count": null,
      "metadata": {
        "collapsed": false
      },
      "outputs": [],
      "source": [
        "frequency = signal.attrs['frequency']\nassert frequency == attrs['frequency']  # frequency matches LIF metadata\n\nmean, real, imag = phasor_from_signal(signal)\n\nreal, imag = phasor_transform(\n    real, imag, -math.radians(reference_phase), 1 / reference_modulation\n)\n\nmean, real, imag = phasor_threshold(mean, real, imag, mean_min=intensity_min)\n\nplot_phasor(\n    real,\n    imag,\n    frequency=frequency,\n    title=f'{filename} ({frequency} MHz)',\n    cmin=10,\n)"
      ]
    },
    {
      "cell_type": "markdown",
      "metadata": {},
      "source": [
        "Compare the apparent single lifetimes calculated from the PTU with the\nlifetimes previously read from the LIF-FLIM file:\n\n"
      ]
    },
    {
      "cell_type": "code",
      "execution_count": null,
      "metadata": {
        "collapsed": false
      },
      "outputs": [],
      "source": [
        "plot_histograms(\n    phasor_to_apparent_lifetime(real, imag, frequency)[0],\n    phase_lifetime,\n    range=(0, 10),\n    bins=100,\n    alpha=0.66,\n    title='Lifetime histograms',\n    xlabel='Lifetime (ns)',\n    ylabel='Counts',\n    labels=['Phase lifetime from PTU', 'Phase lifetime from LIF'],\n)"
      ]
    },
    {
      "cell_type": "markdown",
      "metadata": {},
      "source": [
        "## Zeiss CZI\n\nCarl Zeiss image files (CZI) are written by Zeiss ZEN software.\nThey contain images and metadata from a variety of microscopy acquisition\nand analysis modes, including hyperspectral imaging.\nPhasorPy does not currently support reading CZI files.\nHowever, hyperspectral images can be read from CZI files using, for example,\nthe [pylibCZIrw](https://github.com/ZEISS/pylibczirw/) or\n[BioIO](https://github.com/bioio-devs/bioio) libraries.\n\n"
      ]
    },
    {
      "cell_type": "markdown",
      "metadata": {},
      "source": [
        "## Zeiss LSM\n\n.. todo::\n  Read hyperspectral image stack from Zeiss LSM file.\n\n"
      ]
    },
    {
      "cell_type": "markdown",
      "metadata": {},
      "source": [
        "## Becker & Hickl SDT\n\n.. todo::\n  Read TCSPC histogram from Becker & Hickl SDT file.\n\n"
      ]
    },
    {
      "cell_type": "markdown",
      "metadata": {},
      "source": [
        "## FLIMbox FBD\n\n.. todo::\n  Read TCSPC histogram from FLIMbox FBD file.\n\n"
      ]
    },
    {
      "cell_type": "markdown",
      "metadata": {},
      "source": [
        "## FLIM LABS JSON\n\n.. todo::\n  Read TCSPC histogram from FLIM LABS JSON file.\n\n"
      ]
    },
    {
      "cell_type": "markdown",
      "metadata": {},
      "source": [
        "## ISS VistaVision IFLI\n\n.. todo::\n  Read phasor coordinates from ISS VistaVision IFLI file.\n\n"
      ]
    },
    {
      "cell_type": "markdown",
      "metadata": {},
      "source": [
        "## SimFCS REF and R64\n\n.. todo::\n  Read and write phasor coordinates from and to SimFCS referenced files.\n\n"
      ]
    },
    {
      "cell_type": "markdown",
      "metadata": {},
      "source": [
        "## PhasorPy OME-TIFF\n\n.. todo::\n Read and write phasor coordinates from and to PhasorPy OME-TIFF files.\n\n"
      ]
    },
    {
      "cell_type": "markdown",
      "metadata": {},
      "source": [
        "sphinx_gallery_thumbnail_number = 3\nmypy: allow-untyped-defs, allow-untyped-calls\nmypy: disable-error-code=\"arg-type\"\n\n"
      ]
    }
  ],
  "metadata": {
    "kernelspec": {
      "display_name": "Python 3",
      "language": "python",
      "name": "python3"
    },
    "language_info": {
      "codemirror_mode": {
        "name": "ipython",
        "version": 3
      },
      "file_extension": ".py",
      "mimetype": "text/x-python",
      "name": "python",
      "nbconvert_exporter": "python",
      "pygments_lexer": "ipython3",
      "version": "3.12.9"
    }
  },
  "nbformat": 4,
  "nbformat_minor": 0
}