{
  "cells": [
    {
      "cell_type": "markdown",
      "metadata": {},
      "source": [
        "\n# Principal component analysis\n\nProject multi-harmonic phasor coordinates onto principal plane.\n\nThe :py:func:`phasorpy.phasor.phasor_to_principal_plane` function is used\nto project multi-harmonic phasor coordinates onto a plane, along which\ncoordinate axes the phasor coordinates have the largest variations\n(the first two axes of a Principal Component Analysis).\n"
      ]
    },
    {
      "cell_type": "markdown",
      "metadata": {},
      "source": [
        "Import required modules, functions, and classes. Define a helper function:\n\n"
      ]
    },
    {
      "cell_type": "code",
      "execution_count": null,
      "metadata": {
        "collapsed": false
      },
      "outputs": [],
      "source": [
        "import numpy\n\nfrom phasorpy.phasor import (\n    phasor_from_lifetime,\n    phasor_semicircle,\n    phasor_to_apparent_lifetime,\n    phasor_to_principal_plane,\n)\nfrom phasorpy.plot import PhasorPlot\n\n\ndef distribution(values, stddev=0.05, samples=100):\n    return numpy.ascontiguousarray(\n        numpy.vstack(\n            [numpy.random.normal(value, stddev, samples) for value in values]\n        ).T\n    )\n\n\nnumpy.random.seed(42)"
      ]
    },
    {
      "cell_type": "markdown",
      "metadata": {},
      "source": [
        "## Overlapping phasor distributions\n\nThe phasor coordinates of different multi-exponential decays may be\noverlapping, indistinguishable at a certain frequency:\n\n"
      ]
    },
    {
      "cell_type": "code",
      "execution_count": null,
      "metadata": {
        "collapsed": false
      },
      "outputs": [],
      "source": [
        "frequency = [80, 160, 240, 320, 400]\n\n# create two distributions of phasor coordinates overlapping at 80 MHz\nreal0, imag0 = phasor_from_lifetime(\n    frequency,\n    lifetime=distribution([0.5, 4.0]),\n    fraction=distribution([0.4, 0.6]),\n)\nreal1, imag1 = phasor_from_lifetime(\n    frequency,\n    lifetime=distribution([1.0, 8.0]),\n    fraction=distribution([0.6, 0.4]),\n)\n# merge the two distributions\nreal = numpy.hstack([real0, real1])\nimag = numpy.hstack([imag0, imag1])\n\nplot = PhasorPlot(\n    frequency=frequency[0],\n    title=f'Overlapping phasor distributions ({frequency[0]} MHz)',\n)\nplot.plot(real[0], imag[0], '.')\nplot.show()"
      ]
    },
    {
      "cell_type": "markdown",
      "metadata": {},
      "source": [
        "The distributions are better distinguishable at other frequencies:\n\n"
      ]
    },
    {
      "cell_type": "code",
      "execution_count": null,
      "metadata": {
        "collapsed": false
      },
      "outputs": [],
      "source": [
        "plot = PhasorPlot(\n    frequency=frequency[2],\n    title=f'Phasor distributions ({frequency[2]} MHz)',\n)\nplot.plot(real[2], imag[2], '.')\nplot.show()"
      ]
    },
    {
      "cell_type": "markdown",
      "metadata": {},
      "source": [
        "## Project onto principal plane\n\nThe projection of the multi-harmonic phasor coordinates onto the\nprincipal plane should give an overall good representation of the\ndistribution.\n\nThe transformation matrix can be used to project other multi-harmonic\nphasor coordinates onto the same plane, for example the universal\nsemicircle:\n\n"
      ]
    },
    {
      "cell_type": "code",
      "execution_count": null,
      "metadata": {
        "collapsed": false
      },
      "outputs": [],
      "source": [
        "x0, y0, transformation_matrix = phasor_to_principal_plane(real, imag)\n\nlifetimes, _ = phasor_to_apparent_lifetime(\n    *phasor_semicircle(), frequency=frequency[0]\n)\nlifetimes[0] = 1e9\nx1, y1 = numpy.dot(\n    transformation_matrix,\n    numpy.vstack(phasor_from_lifetime(frequency, lifetimes)),\n)\nx2, y2 = numpy.dot(\n    transformation_matrix,\n    numpy.vstack(phasor_from_lifetime(frequency, [0.5, 1.0, 2.0, 4.0, 8.0])),\n)\n\nplot = PhasorPlot(\n    title='Projection on principal plane', grid=False, xlabel='x', ylabel='y'\n)\nplot.plot(x0, y0, '.', label='Phasor distributions')\nplot.plot(x1, y1, '-', color='0.5', label='Universal semicircle')\nplot.plot(x2, y2, '.', color='0.5')\nplot.show()"
      ]
    },
    {
      "cell_type": "markdown",
      "metadata": {},
      "source": [
        "For single harmonic input, the projected, reoriented coordinates\nmatch the original, single harmonics phasor coordinates\n(compare to the first figure):\n\n"
      ]
    },
    {
      "cell_type": "code",
      "execution_count": null,
      "metadata": {
        "collapsed": false
      },
      "outputs": [],
      "source": [
        "x0, y0, transformation_matrix = phasor_to_principal_plane(real[:1], imag[:1])\nx1, y1 = numpy.dot(\n    transformation_matrix,\n    numpy.vstack(phasor_from_lifetime(frequency[0], lifetimes, keepdims=True)),\n)\nx2, y2 = numpy.dot(\n    transformation_matrix,\n    numpy.vstack(\n        phasor_from_lifetime(\n            frequency[0], [0.5, 1.0, 2.0, 4.0, 8.0], keepdims=True\n        )\n    ),\n)\n\nplot = PhasorPlot(\n    title=f'Projection on principal plane ({frequency[0]} MHz)',\n    grid=False,\n    xlabel='x',\n    ylabel='y',\n)\nplot.plot(x0, y0, '.', label='Phasor distributions')\nplot.plot(x1, y1, '-', color='0.5', label='Universal semicircle')\nplot.plot(x2, y2, '.', color='0.5')\nplot.show()"
      ]
    },
    {
      "cell_type": "markdown",
      "metadata": {},
      "source": [
        "TODO: demonstrate on real data that linearity is preserved and\nvisualization by cursors is applicable.\n\nsphinx_gallery_thumbnail_number = -2\nmypy: allow-untyped-defs, allow-untyped-calls\nmypy: disable-error-code=\"arg-type\"\n\n"
      ]
    }
  ],
  "metadata": {
    "kernelspec": {
      "display_name": "Python 3",
      "language": "python",
      "name": "python3"
    },
    "language_info": {
      "codemirror_mode": {
        "name": "ipython",
        "version": 3
      },
      "file_extension": ".py",
      "mimetype": "text/x-python",
      "name": "python",
      "nbconvert_exporter": "python",
      "pygments_lexer": "ipython3",
      "version": "3.12.6"
    }
  },
  "nbformat": 4,
  "nbformat_minor": 0
}