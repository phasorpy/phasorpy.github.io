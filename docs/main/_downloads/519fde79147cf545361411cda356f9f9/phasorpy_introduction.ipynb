{
  "cells": [
    {
      "cell_type": "markdown",
      "metadata": {},
      "source": [
        "\n# Introduction to PhasorPy\n\nAn introduction to using the PhasorPy library.\n\nPhasorPy is an open-source Python library for the analysis of fluorescence\nlifetime and hyperspectral images using the :doc:`/phasor_approach`.\n\nUsing the PhasorPy library requires familiarity with the phasor approach,\nimage processing, array programming, and Python.\n"
      ]
    },
    {
      "cell_type": "markdown",
      "metadata": {},
      "source": [
        "## Install Python\n\nAn installation of Python version 3.10 or higher is required to use the\nPhasorPy library.\nPython is an easy to learn, powerful programming language.\nPython installers can be obtained from, for example,\n[Python.org](https://www.python.org/downloads/) or\n[Anaconda.com](https://www.anaconda.com/).\nRefer to the [Python Tutorial](https://docs.python.org/3/tutorial/)\nfor an introduction to Python.\n\n## Install PhasorPy\n\nTo download and install the PhasorPy library and all its dependencies from\nthe [Python Package Index](https://pypi.org/project/phasorpy/) (PyPI),\nrun the following command on a command prompt, shell, or terminal::\n\n    python -m pip install -U \"phasorpy[all]\"\n\nThe development version of PhasorPy can be installed instead from the\nlatest source code on GitHub. This requires a C compiler, such as\nXCode, Visual Studio, or gcc, to be installed::\n\n    python -m pip install -U git+https://github.com/phasorpy/phasorpy.git\n\nUpdate optional dependencies as needed::\n\n    python -m pip install -U lfdfiles sdtfile ptufile\n\n"
      ]
    },
    {
      "cell_type": "markdown",
      "metadata": {},
      "source": [
        "## Import phasorpy\n\nStart the Python interpreter, import the ``phasorpy`` package,\nand print its version:\n\n"
      ]
    },
    {
      "cell_type": "code",
      "execution_count": null,
      "metadata": {
        "collapsed": false
      },
      "outputs": [],
      "source": [
        "import phasorpy\n\nprint(phasorpy.__version__)"
      ]
    },
    {
      "cell_type": "markdown",
      "metadata": {},
      "source": [
        "Besides the PhasorPy library, the [numpy](https://numpy.org/) and\n[matplotlib](https://matplotlib.org/) libraries are used for\narray computing and plotting throughout this tutorial:\n\n"
      ]
    },
    {
      "cell_type": "code",
      "execution_count": null,
      "metadata": {
        "collapsed": false
      },
      "outputs": [],
      "source": [
        "import numpy\nimport tifffile  # TODO: from phasorpy.io import read_ometiff\nfrom matplotlib import pyplot\n\nfrom phasorpy.datasets import fetch"
      ]
    },
    {
      "cell_type": "markdown",
      "metadata": {},
      "source": [
        "## Read signal from file\n\nThe :py:mod:`phasorpy.io` module provides functions to read time-resolved\nand hyperspectral image stacks and metadata from many file formats used\nin microscopy, for example PicoQuant PTU, OME-TIFF, Zeiss LSM, and files\nwritten by SimFCS software.\nHowever, any other means that yields image stacks in numpy-array compatible\nform can be used instead.\nImage stacks, which may have any number of dimensions, are referred to as\n``signal`` in the PhasorPy library.\n\nThe :py:mod:`phasorpy.datasets` module provides access to various sample\nfiles. For example, an Imspector TIFF file from the\n[FLUTE](https://zenodo.org/records/8046636)  project containing a\ntime-correlated single photon counting (TCSPC) histogram\nof a zebrafish embryo at day 3, acquired at 80 MHz:\n\n"
      ]
    },
    {
      "cell_type": "code",
      "execution_count": null,
      "metadata": {
        "collapsed": false
      },
      "outputs": [],
      "source": [
        "signal = tifffile.imread(fetch('Embryo.tif'))\nfrequency = 80.11  # MHz; from the XML metadata in the file\n\nprint(signal.shape, signal.dtype)"
      ]
    },
    {
      "cell_type": "markdown",
      "metadata": {},
      "source": [
        "Plot the spatial and histogram averages:\n\n"
      ]
    },
    {
      "cell_type": "code",
      "execution_count": null,
      "metadata": {
        "collapsed": false
      },
      "outputs": [],
      "source": [
        "from phasorpy.plot import plot_signal_image\n\nplot_signal_image(signal, axis=0)"
      ]
    },
    {
      "cell_type": "markdown",
      "metadata": {},
      "source": [
        "## Calculate phasor coordinates\n\nThe :py:mod:`phasorpy.phasor` module provides functions to calculate,\ncalibrate, filter, and convert phasor coordinates.\n\nPhasor coordinates are the real and imaginary components of the complex\nnumbers returned by a real forward Digital Fourier Transform (DFT)\nof a signal at certain harmonics (multiples of the fundamental frequency),\nnormalized by the mean intensity (the zeroth harmonic).\nPhasor coordinates are named ``real`` and ``imag`` in the PhasorPy library.\nIn literature and other software, they are also known as\n$G$ and $S$ or $a$ and $b$ (as in $a + bi$).\n\nPhasor coordinates of the first harmonic are calculated from the signal,\na TCSPC histogram in this case.\nThe histogram samples are in the first dimension (`axis=0`):\n\n"
      ]
    },
    {
      "cell_type": "code",
      "execution_count": null,
      "metadata": {
        "collapsed": false
      },
      "outputs": [],
      "source": [
        "from phasorpy.phasor import phasor_from_signal\n\nmean, real, imag = phasor_from_signal(signal, axis=0)"
      ]
    },
    {
      "cell_type": "markdown",
      "metadata": {},
      "source": [
        "The phasor coordinates are undefined if the mean intensity is zero.\nIn that case, the arrays contain special ``NaN`` (Not a Number) values,\nwhich are ignored in further analysis:\n\n"
      ]
    },
    {
      "cell_type": "code",
      "execution_count": null,
      "metadata": {
        "collapsed": false
      },
      "outputs": [],
      "source": [
        "print(real[:4, :4])"
      ]
    },
    {
      "cell_type": "markdown",
      "metadata": {},
      "source": [
        "Plot the calculated phasor coordinates:\n\n"
      ]
    },
    {
      "cell_type": "code",
      "execution_count": null,
      "metadata": {
        "collapsed": false
      },
      "outputs": [],
      "source": [
        "from phasorpy.plot import plot_phasor_image\n\nplot_phasor_image(mean, real, imag, title='Sample')"
      ]
    },
    {
      "cell_type": "markdown",
      "metadata": {},
      "source": [
        "By default, only the phasor coordinates at the first harmonic are calculated.\nHowever, only when the phasor coordinates at all harmonics are considered\n(including the mean intensity) is the signal completely described:\n\n"
      ]
    },
    {
      "cell_type": "code",
      "execution_count": null,
      "metadata": {
        "collapsed": false
      },
      "outputs": [],
      "source": [
        "from phasorpy.phasor import phasor_to_signal\n\nphasor_all_harmonics = phasor_from_signal(signal, axis=0, harmonic='all')\nreconstructed_signal = phasor_to_signal(\n    *phasor_all_harmonics, axis=0, samples=signal.shape[0]\n)\n\nnumpy.testing.assert_allclose(\n    numpy.nan_to_num(reconstructed_signal), signal, atol=1e-3\n)"
      ]
    },
    {
      "cell_type": "markdown",
      "metadata": {},
      "source": [
        "## Calibrate phasor coordinates\n\nThe signals from time-resolved measurements are convoluted with an\ninstrument response function, causing the phasor-coordinates to be\nphase-shifted and modulated (scaled) by unknown amounts.\nThe phasor coordinates must therefore be calibrated with coordinates\nobtained from a reference standard of known lifetime, acquired with\nthe same instrument settings.\n\nIn this case, a homogeneous solution of Fluorescein with a lifetime of\n4.2 ns was imaged.\n\nRead the signal of the reference measurement from a file:\n\n"
      ]
    },
    {
      "cell_type": "code",
      "execution_count": null,
      "metadata": {
        "collapsed": false
      },
      "outputs": [],
      "source": [
        "reference_signal = tifffile.imread(fetch('Fluorescein_Embryo.tif'))"
      ]
    },
    {
      "cell_type": "markdown",
      "metadata": {},
      "source": [
        "Calculate phasor coordinates from the measured reference signal:\n\n"
      ]
    },
    {
      "cell_type": "code",
      "execution_count": null,
      "metadata": {
        "collapsed": false
      },
      "outputs": [],
      "source": [
        "reference_mean, reference_real, reference_imag = phasor_from_signal(\n    reference_signal, axis=0\n)"
      ]
    },
    {
      "cell_type": "markdown",
      "metadata": {},
      "source": [
        "Show the calculated reference phasor coordinates:\n\n"
      ]
    },
    {
      "cell_type": "code",
      "execution_count": null,
      "metadata": {
        "collapsed": false
      },
      "outputs": [],
      "source": [
        "plot_phasor_image(\n    reference_mean, reference_real, reference_imag, title='Reference'\n)"
      ]
    },
    {
      "cell_type": "markdown",
      "metadata": {},
      "source": [
        "Calibrate the raw phasor coordinates with the reference coordinates of known\nlifetime (Fluorescein, 4.2 ns):\n\n"
      ]
    },
    {
      "cell_type": "code",
      "execution_count": null,
      "metadata": {
        "collapsed": false
      },
      "outputs": [],
      "source": [
        "from phasorpy.phasor import phasor_calibrate\n\nreal, imag = phasor_calibrate(\n    real,\n    imag,\n    reference_mean,\n    reference_real,\n    reference_imag,\n    frequency=frequency,\n    lifetime=4.2,\n)"
      ]
    },
    {
      "cell_type": "markdown",
      "metadata": {},
      "source": [
        "Show the calibrated phasor coordinates:\n\n"
      ]
    },
    {
      "cell_type": "code",
      "execution_count": null,
      "metadata": {
        "collapsed": false
      },
      "outputs": [],
      "source": [
        "plot_phasor_image(mean, real, imag, title='Calibrated')"
      ]
    },
    {
      "cell_type": "markdown",
      "metadata": {},
      "source": [
        "The phasor coordinates are now located in the first quadrant, except for\nsome with low signal to noise level.\n\nIf necessary, the calibration can be undone/reversed using the\nsame reference:\n\n"
      ]
    },
    {
      "cell_type": "code",
      "execution_count": null,
      "metadata": {
        "collapsed": false
      },
      "outputs": [],
      "source": [
        "uncalibrated_real, uncalibrated_imag = phasor_calibrate(\n    real,\n    imag,\n    reference_mean,\n    reference_real,\n    reference_imag,\n    frequency=frequency,\n    lifetime=4.2,\n    reverse=True,\n)\n\nnumpy.testing.assert_allclose(\n    (mean, uncalibrated_real, uncalibrated_imag),\n    phasor_from_signal(signal, axis=0),\n    atol=1e-3,\n)"
      ]
    },
    {
      "cell_type": "markdown",
      "metadata": {},
      "source": [
        "## Filter phasor coordinates\n\nApplying median filter to the calibrated phasor coordinates,\noften multiple times, improves contrast and reduces noise.\nThe filter is applied independently to the real and imaginary components,\nbut not to the signal average:\n\n"
      ]
    },
    {
      "cell_type": "code",
      "execution_count": null,
      "metadata": {
        "collapsed": false
      },
      "outputs": [],
      "source": [
        "from phasorpy.phasor import phasor_filter_median\n\nmean, real, imag = phasor_filter_median(mean, real, imag, size=3, repeat=2)"
      ]
    },
    {
      "cell_type": "markdown",
      "metadata": {},
      "source": [
        "Pixels with low intensities are commonly excluded from analysis and\nvisualization of phasor coordinates:\n\n"
      ]
    },
    {
      "cell_type": "code",
      "execution_count": null,
      "metadata": {
        "collapsed": false
      },
      "outputs": [],
      "source": [
        "from phasorpy.phasor import phasor_threshold\n\nmean, real, imag = phasor_threshold(mean, real, imag, mean_min=1)"
      ]
    },
    {
      "cell_type": "markdown",
      "metadata": {},
      "source": [
        "Show the calibrated, filtered phasor coordinates:\n\n"
      ]
    },
    {
      "cell_type": "code",
      "execution_count": null,
      "metadata": {
        "collapsed": false
      },
      "outputs": [],
      "source": [
        "plot_phasor_image(\n    mean, real, imag, title='Calibrated, filtered phasor coordinates'\n)"
      ]
    },
    {
      "cell_type": "markdown",
      "metadata": {},
      "source": [
        "## Store phasor coordinates\n\nPhasor coordinates and select metadata can be exported to\n[OME-TIFF](https://ome-model.readthedocs.io/en/stable/ome-tiff/)\nformatted files, which are compatible with Bio-Formats and Fiji.\n\nWrite the calibrated and filtered phasor coordinates, and frequency to an\nOME-TIFF file:\n\n"
      ]
    },
    {
      "cell_type": "code",
      "execution_count": null,
      "metadata": {
        "collapsed": false
      },
      "outputs": [],
      "source": [
        "from phasorpy.io import phasor_from_ometiff, phasor_to_ometiff\n\nphasor_to_ometiff(\n    'phasors.ome.tif',\n    mean,\n    real,\n    imag,\n    frequency=frequency,\n    harmonic=1,\n    description=(\n        'Phasor coordinates of a zebrafish embryo at day 3, '\n        'calibrated, median-filtered, and thresholded.'\n    ),\n)"
      ]
    },
    {
      "cell_type": "markdown",
      "metadata": {},
      "source": [
        "Read the phasor coordinates and metadata back from the OME-TIFF file:\n\n"
      ]
    },
    {
      "cell_type": "code",
      "execution_count": null,
      "metadata": {
        "collapsed": false
      },
      "outputs": [],
      "source": [
        "mean_, real_, imag_, attrs = phasor_from_ometiff('phasors.ome.tif')\n\nnumpy.allclose(real_, real)\nassert real_.dtype == numpy.float32\nassert attrs['frequency'] == frequency\nassert attrs['harmonic'] == 1\nassert attrs['description'].startswith('Phasor coordinates of')"
      ]
    },
    {
      "cell_type": "markdown",
      "metadata": {},
      "source": [
        "These functions also work transparently with multi-harmonic phasor\ncoordinates.\n\n"
      ]
    },
    {
      "cell_type": "markdown",
      "metadata": {},
      "source": [
        "## Plot phasor coordinates\n\nThe :py:mod:`phasorpy.plot` module provides functions and classes for\nplotting phasor and polar coordinates.\n\nLarge number of phasor coordinates, such as obtained from imaging,\nare commonly visualized as 2D histograms:\n\n"
      ]
    },
    {
      "cell_type": "code",
      "execution_count": null,
      "metadata": {
        "collapsed": false
      },
      "outputs": [],
      "source": [
        "from phasorpy.plot import PhasorPlot\n\nphasorplot = PhasorPlot(\n    frequency=frequency, title='Calibrated, filtered phasor coordinates'\n)\nphasorplot.hist2d(real, imag)\nphasorplot.show()"
      ]
    },
    {
      "cell_type": "markdown",
      "metadata": {},
      "source": [
        "The calibrated phasor coordinates of all pixels lie inside the universal\nsemicircle (on which theoretically the phasor coordinates of all single\nexponential lifetimes are located).\nThat means, all pixels contain mixtures of signals from multiple lifetime\ncomponents.\n\n"
      ]
    },
    {
      "cell_type": "markdown",
      "metadata": {},
      "source": [
        "For comparison, the uncalibrated, unfiltered phasor coordinates:\n\n"
      ]
    },
    {
      "cell_type": "code",
      "execution_count": null,
      "metadata": {
        "collapsed": false
      },
      "outputs": [],
      "source": [
        "phasorplot = PhasorPlot(allquadrants=True, title='Raw phasor coordinates')\nphasorplot.hist2d(uncalibrated_real, uncalibrated_imag)\nphasorplot.show()"
      ]
    },
    {
      "cell_type": "markdown",
      "metadata": {},
      "source": [
        "## Select phasor coordinates\n\nThe :py:mod:`phasorpy.cursors` module provides functions for selecting phasor\ncoordinates to define and mask regions of interest within the phasor space.\n\nMask regions of interest in the phasor space using circular cursors:\n\n"
      ]
    },
    {
      "cell_type": "code",
      "execution_count": null,
      "metadata": {
        "collapsed": false
      },
      "outputs": [],
      "source": [
        "from phasorpy.color import CATEGORICAL\nfrom phasorpy.cursors import mask_from_circular_cursor\n\ncursors_real = [0.69, 0.59]\ncursors_imag = [0.32, 0.33]\nradius = [0.05, 0.05]\ncursors_masks = mask_from_circular_cursor(\n    real, imag, cursors_real, cursors_imag, radius=radius\n)"
      ]
    },
    {
      "cell_type": "markdown",
      "metadata": {},
      "source": [
        "Plot the cursors in distinct colors:\n\n"
      ]
    },
    {
      "cell_type": "code",
      "execution_count": null,
      "metadata": {
        "collapsed": false
      },
      "outputs": [],
      "source": [
        "phasorplot = PhasorPlot(frequency=frequency, title='Cursors')\nphasorplot.hist2d(real, imag)\nfor i in range(len(cursors_real)):\n    phasorplot.circle(\n        cursors_real[i],\n        cursors_imag[i],\n        radius=radius[i],\n        color=CATEGORICAL[i],\n        linestyle='-',\n    )\nphasorplot.show()"
      ]
    },
    {
      "cell_type": "markdown",
      "metadata": {},
      "source": [
        "Blend the cursor masks with the mean intensity image to produce a\npseudo-colored image:\n\n"
      ]
    },
    {
      "cell_type": "code",
      "execution_count": null,
      "metadata": {
        "collapsed": false
      },
      "outputs": [],
      "source": [
        "from phasorpy.cursors import pseudo_color\n\npseudo_color_image = pseudo_color(*cursors_masks, intensity=mean)\n\nfig, ax = pyplot.subplots()\nax.set_title('Pseudo-color image from circular cursors')\nax.imshow(pseudo_color_image)\npyplot.show()"
      ]
    },
    {
      "cell_type": "markdown",
      "metadata": {},
      "source": [
        "## Component analysis\n\n"
      ]
    },
    {
      "cell_type": "code",
      "execution_count": null,
      "metadata": {
        "collapsed": false
      },
      "outputs": [],
      "source": [
        "# TODO"
      ]
    },
    {
      "cell_type": "markdown",
      "metadata": {},
      "source": [
        "## Spectral phasors\n\nPhasor coordinates can be calculated from hyperspectral images (acquired\nat many equidistant emission wavelengths) and processed in much the same\nway as time-resolved signals. Calibration is not necessary.\n\nOpen a hyperspectral dataset acquired with a laser scanning microscope\nat 30 emission wavelengths:\n\n"
      ]
    },
    {
      "cell_type": "code",
      "execution_count": null,
      "metadata": {
        "collapsed": false
      },
      "outputs": [],
      "source": [
        "from phasorpy.io import read_lsm\n\nhyperspectral_signal = read_lsm(fetch('paramecium.lsm'))\n\nplot_signal_image(hyperspectral_signal, axis=0, title='Hyperspectral image')"
      ]
    },
    {
      "cell_type": "markdown",
      "metadata": {},
      "source": [
        "Calculate phasor coordinates at the first harmonic and filter out\npixels with low intensities:\n\n"
      ]
    },
    {
      "cell_type": "code",
      "execution_count": null,
      "metadata": {
        "collapsed": false
      },
      "outputs": [],
      "source": [
        "mean, real, imag = phasor_from_signal(hyperspectral_signal, axis=0)\n_, real, imag = phasor_threshold(mean, real, imag, mean_min=1)"
      ]
    },
    {
      "cell_type": "markdown",
      "metadata": {},
      "source": [
        "Plot the phasor coordinates as a two-dimensional histogram and select two\nclusters in the phasor plot by means of elliptical cursors:\n\n"
      ]
    },
    {
      "cell_type": "code",
      "execution_count": null,
      "metadata": {
        "collapsed": false
      },
      "outputs": [],
      "source": [
        "cursors_real = [-0.33, 0.54]\ncursors_imag = [-0.72, -0.74]\nradius = [0.1, 0.06]\nradius_minor = [0.3, 0.25]\n\nphasorplot = PhasorPlot(allquadrants=True, title='Spectral phasor plot')\nphasorplot.hist2d(real, imag, cmap='Greys')\nfor i in range(len(cursors_real)):\n    phasorplot.cursor(\n        cursors_real[i],\n        cursors_imag[i],\n        radius=radius[i],\n        radius_minor=radius_minor[i],\n        color=CATEGORICAL[i],\n        linestyle='-',\n    )\nphasorplot.show()"
      ]
    },
    {
      "cell_type": "markdown",
      "metadata": {},
      "source": [
        "Use the elliptic cursors to mask regions of interest in the phasor space:\n\n"
      ]
    },
    {
      "cell_type": "code",
      "execution_count": null,
      "metadata": {
        "collapsed": false
      },
      "outputs": [],
      "source": [
        "from phasorpy.cursors import mask_from_elliptic_cursor\n\nelliptic_masks = mask_from_elliptic_cursor(\n    real,\n    imag,\n    cursors_real,\n    cursors_imag,\n    radius=radius,\n    radius_minor=radius_minor,\n)"
      ]
    },
    {
      "cell_type": "markdown",
      "metadata": {},
      "source": [
        "Plot a pseudo-color image, composited from the elliptic cursor masks and\nthe mean intensity image:\n\n"
      ]
    },
    {
      "cell_type": "code",
      "execution_count": null,
      "metadata": {
        "collapsed": false
      },
      "outputs": [],
      "source": [
        "pseudo_color_image = pseudo_color(*elliptic_masks, intensity=mean)\n\nfig, ax = pyplot.subplots()\nax.set_title('Pseudo-color image from elliptic cursors')\nax.imshow(pseudo_color_image)\npyplot.show()"
      ]
    },
    {
      "cell_type": "markdown",
      "metadata": {},
      "source": [
        "## Appendix\n\nPrint information about Python interpreter and installed packages:\n\n"
      ]
    },
    {
      "cell_type": "code",
      "execution_count": null,
      "metadata": {
        "collapsed": false
      },
      "outputs": [],
      "source": [
        "print(phasorpy.versions())"
      ]
    },
    {
      "cell_type": "markdown",
      "metadata": {},
      "source": [
        "sphinx_gallery_thumbnail_number = -7\nmypy: allow-untyped-defs, allow-untyped-calls\nmypy: disable-error-code=\"arg-type\"\n\n"
      ]
    }
  ],
  "metadata": {
    "kernelspec": {
      "display_name": "Python 3",
      "language": "python",
      "name": "python3"
    },
    "language_info": {
      "codemirror_mode": {
        "name": "ipython",
        "version": 3
      },
      "file_extension": ".py",
      "mimetype": "text/x-python",
      "name": "python",
      "nbconvert_exporter": "python",
      "pygments_lexer": "ipython3",
      "version": "3.12.8"
    }
  },
  "nbformat": 4,
  "nbformat_minor": 0
}