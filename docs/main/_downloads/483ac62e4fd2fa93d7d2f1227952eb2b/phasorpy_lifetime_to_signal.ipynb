{
  "cells": [
    {
      "cell_type": "markdown",
      "metadata": {},
      "source": [
        "\n# Synthesize signals from lifetimes\n\nAn introduction to the `lifetime_to_signal` function.\n\nThe :py:func:`phasorpy.phasor.lifetime_to_signal` function is used\nto synthesize time- and frequency-domain signals as a function of\nfundamental frequency, single or multiple lifetime components,\nlifetime fractions, mean and background intensity, and instrument\nresponse function (IRF) peak location and width.\n"
      ]
    },
    {
      "cell_type": "markdown",
      "metadata": {},
      "source": [
        "Import required modules and functions:\n\n"
      ]
    },
    {
      "cell_type": "code",
      "execution_count": null,
      "metadata": {
        "collapsed": false
      },
      "outputs": [],
      "source": [
        "import numpy\nfrom matplotlib import pyplot\n\nfrom phasorpy.phasor import (\n    lifetime_to_signal,\n    phasor_calibrate,\n    phasor_from_lifetime,\n    phasor_from_signal,\n)"
      ]
    },
    {
      "cell_type": "markdown",
      "metadata": {},
      "source": [
        "Define common parameters used throughout the tutorial:\n\n"
      ]
    },
    {
      "cell_type": "code",
      "execution_count": null,
      "metadata": {
        "collapsed": false
      },
      "outputs": [],
      "source": [
        "frequency = 80.0  # fundamental frequency in MHz\nreference_lifetime = 4.2  # lifetime of reference signal in ns\n\nlifetimes = [0.5, 1.0, 2.0, 4.0]  # lifetime in ns\nfractions = [0.25, 0.25, 0.25, 0.25]  # fractional intensities\n\nsettings = {\n    'samples': 256,  # number of samples to synthesize\n    'mean': 1.0,  # average intensity\n    'background': 0.0,  # no signal from background\n    'zero_phase': None,  # location of IRF peak in the phase\n    'zero_stdev': None,  # standard deviation of IRF in radians\n}"
      ]
    },
    {
      "cell_type": "markdown",
      "metadata": {},
      "source": [
        "## Time-domain, multi-exponential\n\nSynthesize a time-domain signal of a multi-component lifetime system with\ngiven fractional intensities, convolved with an instrument response function:\n\n"
      ]
    },
    {
      "cell_type": "code",
      "execution_count": null,
      "metadata": {
        "collapsed": false
      },
      "outputs": [],
      "source": [
        "signal, instrument_response, times = lifetime_to_signal(\n    frequency, lifetimes, fractions, **settings\n)"
      ]
    },
    {
      "cell_type": "markdown",
      "metadata": {},
      "source": [
        "A reference signal of known lifetime, obtained with the same instrument\nand sampling parameters, is required to correct/calibrate the\nphasor coordinates of signals.\nThe calibrated phasor coordinates match the theoretical phasor coordinates\nexpected for the lifetimes:\n\n"
      ]
    },
    {
      "cell_type": "code",
      "execution_count": null,
      "metadata": {
        "collapsed": false
      },
      "outputs": [],
      "source": [
        "reference_signal, _, _ = lifetime_to_signal(\n    frequency, reference_lifetime, **settings\n)\n\n\ndef verify_signal(fractions):\n    \"\"\"Verify calibrated phasor coordinates match expected results.\"\"\"\n    numpy.testing.assert_allclose(\n        phasor_calibrate(\n            *phasor_from_signal(signal)[1:],\n            *phasor_from_signal(reference_signal),\n            frequency,\n            reference_lifetime,\n        ),\n        phasor_from_lifetime(frequency, lifetimes, fractions),\n    )\n\n\nverify_signal(fractions)"
      ]
    },
    {
      "cell_type": "markdown",
      "metadata": {},
      "source": [
        "Plot the synthesized signal, the instrument response, and reference signal:\n\n"
      ]
    },
    {
      "cell_type": "code",
      "execution_count": null,
      "metadata": {
        "collapsed": false
      },
      "outputs": [],
      "source": [
        "fig, ax = pyplot.subplots()\nax.set(\n    title=f'Time-domain signals ({frequency} MHz)',\n    xlabel='Times [ns]',\n    ylabel='Intensity [au]',\n)\nax.plot(times, signal, label='Multi-exponential')\nax.plot(times, reference_signal, label='Reference')\nax.plot(times, instrument_response, label='Instrument response')\nax.legend()\npyplot.show()"
      ]
    },
    {
      "cell_type": "markdown",
      "metadata": {},
      "source": [
        "## Time-domain, single-exponential\n\nTo synthesize separate signals for each lifetime component at once,\nomit the lifetime fractions:\n\n"
      ]
    },
    {
      "cell_type": "code",
      "execution_count": null,
      "metadata": {
        "collapsed": false
      },
      "outputs": [],
      "source": [
        "signal, _, times = lifetime_to_signal(frequency, lifetimes, **settings)\n\nverify_signal(None)"
      ]
    },
    {
      "cell_type": "markdown",
      "metadata": {},
      "source": [
        "Plot the synthesized signal:\n\n"
      ]
    },
    {
      "cell_type": "code",
      "execution_count": null,
      "metadata": {
        "collapsed": false
      },
      "outputs": [],
      "source": [
        "fig, ax = pyplot.subplots()\nax.set(\n    title=f'Time-domain signals ({frequency} MHz)',\n    xlabel='Times [ns]',\n    ylabel='Intensity [au]',\n)\nax.plot(times, signal.T, label=[f'{t} ns' for t in lifetimes])\nax.legend()\npyplot.show()"
      ]
    },
    {
      "cell_type": "markdown",
      "metadata": {},
      "source": [
        "As expected, the shorter the lifetime, the faster the decay.\n\n"
      ]
    },
    {
      "cell_type": "markdown",
      "metadata": {},
      "source": [
        "## Frequency-domain, multi-exponential\n\nTo synthesize a frequency-domain, homodyne signal, limit the\nsynthesis to the fundamental frequency (``harmonic=1``):\n\n"
      ]
    },
    {
      "cell_type": "code",
      "execution_count": null,
      "metadata": {
        "collapsed": false
      },
      "outputs": [],
      "source": [
        "signal, instrument_response, _ = lifetime_to_signal(\n    frequency, lifetimes, fractions, harmonic=1, **settings\n)\n\nreference_signal, _, _ = lifetime_to_signal(\n    frequency, reference_lifetime, harmonic=1, **settings\n)\n\nverify_signal(fractions)"
      ]
    },
    {
      "cell_type": "markdown",
      "metadata": {},
      "source": [
        "Plot the synthesized signals:\n\n"
      ]
    },
    {
      "cell_type": "code",
      "execution_count": null,
      "metadata": {
        "collapsed": false
      },
      "outputs": [],
      "source": [
        "phase = numpy.linspace(0.0, 360.0, signal.size)\n\nfig, ax = pyplot.subplots()\nax.set(\n    title=f'Frequency-domain signals ({frequency} MHz)',\n    xlabel='Phase [\u00b0]',\n    ylabel='Intensity [au]',\n    xticks=[0, 90, 180, 270, 360],\n)\nax.plot(phase, signal, label='Multi-exponential')\nax.plot(phase, reference_signal, label='Reference')\nax.plot(phase, instrument_response, label='Instrument response')\nax.legend()\npyplot.show()"
      ]
    },
    {
      "cell_type": "markdown",
      "metadata": {},
      "source": [
        "## Frequency-domain, single-exponential\n\nTo synthesize separate signals for each lifetime component at once,\nomit the lifetime fractions:\n\n"
      ]
    },
    {
      "cell_type": "code",
      "execution_count": null,
      "metadata": {
        "collapsed": false
      },
      "outputs": [],
      "source": [
        "signal, _, _ = lifetime_to_signal(frequency, lifetimes, harmonic=1, **settings)\n\nverify_signal(None)"
      ]
    },
    {
      "cell_type": "markdown",
      "metadata": {},
      "source": [
        "Plot the synthesized signals:\n\n"
      ]
    },
    {
      "cell_type": "code",
      "execution_count": null,
      "metadata": {
        "collapsed": false
      },
      "outputs": [],
      "source": [
        "fig, ax = pyplot.subplots()\nax.set(\n    title=f'Frequency-domain signals ({frequency} MHz)',\n    xlabel='Phase [\u00b0]',\n    ylabel='Intensity [au]',\n    xticks=[0, 90, 180, 270, 360],\n)\nax.plot(phase, signal.T, label=[f'{t} ns' for t in lifetimes])\nax.legend()\npyplot.show()"
      ]
    },
    {
      "cell_type": "markdown",
      "metadata": {},
      "source": [
        "As expected, the shorter the lifetime, the smaller the phase-shift and\nde-modulation.\n\n"
      ]
    },
    {
      "cell_type": "markdown",
      "metadata": {},
      "source": [
        "TODO: generate digitized image from lifetime distributions with background\nand noise.\n\nsphinx_gallery_thumbnail_number = -1\nmypy: allow-untyped-defs, allow-untyped-calls\nmypy: disable-error-code=\"arg-type\"\n\n"
      ]
    }
  ],
  "metadata": {
    "kernelspec": {
      "display_name": "Python 3",
      "language": "python",
      "name": "python3"
    },
    "language_info": {
      "codemirror_mode": {
        "name": "ipython",
        "version": 3
      },
      "file_extension": ".py",
      "mimetype": "text/x-python",
      "name": "python",
      "nbconvert_exporter": "python",
      "pygments_lexer": "ipython3",
      "version": "3.12.10"
    }
  },
  "nbformat": 4,
  "nbformat_minor": 0
}