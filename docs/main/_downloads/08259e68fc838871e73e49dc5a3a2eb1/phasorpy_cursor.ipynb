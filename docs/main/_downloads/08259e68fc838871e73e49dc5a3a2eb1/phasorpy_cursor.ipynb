{
  "cells": [
    {
      "cell_type": "markdown",
      "metadata": {},
      "source": [
        "\n# Cursors\n\nAn introduction to selecting phasor coordinates using cursors.\n"
      ]
    },
    {
      "cell_type": "markdown",
      "metadata": {},
      "source": [
        "Import required modules, functions, and classes:\n\n"
      ]
    },
    {
      "cell_type": "code",
      "execution_count": null,
      "metadata": {
        "collapsed": false
      },
      "outputs": [],
      "source": [
        "from phasorpy.color import CATEGORICAL\nfrom phasorpy.cursor import (\n    mask_from_circular_cursor,\n    mask_from_elliptic_cursor,\n    mask_from_polar_cursor,\n    pseudo_color,\n)\nfrom phasorpy.datasets import fetch\nfrom phasorpy.io import signal_from_lsm\nfrom phasorpy.phasor import phasor_from_signal, phasor_threshold\nfrom phasorpy.plot import PhasorPlot, plot_image"
      ]
    },
    {
      "cell_type": "markdown",
      "metadata": {},
      "source": [
        "Open a hyperspectral dataset used throughout this tutorial:\n\n"
      ]
    },
    {
      "cell_type": "code",
      "execution_count": null,
      "metadata": {
        "collapsed": false
      },
      "outputs": [],
      "source": [
        "signal = signal_from_lsm(fetch('paramecium.lsm'))\nmean, real, imag = phasor_from_signal(signal, axis=0)\n\n# remove coordinates with zero intensity\nmean_thresholded, real, imag = phasor_threshold(mean, real, imag, mean_min=1)"
      ]
    },
    {
      "cell_type": "markdown",
      "metadata": {},
      "source": [
        "## Circular cursors\n\nUse circular cursors to mask regions of interest in the phasor space:\n\n"
      ]
    },
    {
      "cell_type": "code",
      "execution_count": null,
      "metadata": {
        "collapsed": false
      },
      "outputs": [],
      "source": [
        "cursor_real = [-0.33, 0.54]\ncursor_imag = [-0.72, -0.74]\nradius = [0.2, 0.22]\n\ncircular_mask = mask_from_circular_cursor(\n    real, imag, cursor_real, cursor_imag, radius=radius\n)"
      ]
    },
    {
      "cell_type": "markdown",
      "metadata": {},
      "source": [
        "Show the circular cursors in a phasor plot:\n\n"
      ]
    },
    {
      "cell_type": "code",
      "execution_count": null,
      "metadata": {
        "collapsed": false
      },
      "outputs": [],
      "source": [
        "plot = PhasorPlot(allquadrants=True, title='Circular cursors')\nplot.hist2d(real, imag, cmap='Greys')\nfor i in range(len(cursor_real)):\n    plot.cursor(\n        cursor_real[i],\n        cursor_imag[i],\n        radius=radius[i],\n        color=CATEGORICAL[i],\n        linestyle='-',\n    )\nplot.show()"
      ]
    },
    {
      "cell_type": "markdown",
      "metadata": {},
      "source": [
        "The cursor masks can be blended to produce a pseudo-colored image:\n\n"
      ]
    },
    {
      "cell_type": "code",
      "execution_count": null,
      "metadata": {
        "collapsed": false
      },
      "outputs": [],
      "source": [
        "pseudo_color_image = pseudo_color(*circular_mask)\n\nplot_image(\n    pseudo_color_image, title='Pseudo-color image from circular cursors'\n)"
      ]
    },
    {
      "cell_type": "markdown",
      "metadata": {},
      "source": [
        "## Elliptic cursors\n\nUse elliptic cursors to mask more defined regions of interest in the\nphasor space:\n\n"
      ]
    },
    {
      "cell_type": "code",
      "execution_count": null,
      "metadata": {
        "collapsed": false
      },
      "outputs": [],
      "source": [
        "radius = [0.1, 0.06]\nradius_minor = [0.3, 0.25]\n\nelliptic_mask = mask_from_elliptic_cursor(\n    real,\n    imag,\n    cursor_real,\n    cursor_imag,\n    radius=radius,\n    radius_minor=radius_minor,\n)"
      ]
    },
    {
      "cell_type": "markdown",
      "metadata": {},
      "source": [
        "Show the elliptic cursors in a phasor plot:\n\n"
      ]
    },
    {
      "cell_type": "code",
      "execution_count": null,
      "metadata": {
        "collapsed": false
      },
      "outputs": [],
      "source": [
        "plot = PhasorPlot(allquadrants=True, title='Elliptic cursors')\nplot.hist2d(real, imag, cmap='Greys')\nfor i in range(len(cursor_real)):\n    plot.cursor(\n        cursor_real[i],\n        cursor_imag[i],\n        radius=radius[i],\n        radius_minor=radius_minor[i],\n        color=CATEGORICAL[i],\n        linestyle='-',\n    )\nplot.show()"
      ]
    },
    {
      "cell_type": "markdown",
      "metadata": {},
      "source": [
        "The mean intensity image can be used as a base layer to overlay\nthe masks from the elliptic cursors:\n\n"
      ]
    },
    {
      "cell_type": "code",
      "execution_count": null,
      "metadata": {
        "collapsed": false
      },
      "outputs": [],
      "source": [
        "pseudo_color_image = pseudo_color(*elliptic_mask, intensity=mean)\n\nplot_image(\n    pseudo_color_image,\n    title='Pseudo-color image from elliptic cursors and intensity',\n)"
      ]
    },
    {
      "cell_type": "markdown",
      "metadata": {},
      "source": [
        "## Polar cursors\n\nCreate a mask with two ranges of phase and modulation values:\n\n"
      ]
    },
    {
      "cell_type": "code",
      "execution_count": null,
      "metadata": {
        "collapsed": false
      },
      "outputs": [],
      "source": [
        "phase_min = [-2.27, -1.22]\nphase_max = [-1.57, -0.70]\nmodulation_min = [0.7, 0.8]\nmodulation_max = [0.9, 1.0]\n\npolar_mask = mask_from_polar_cursor(\n    real, imag, phase_min, phase_max, modulation_min, modulation_max\n)"
      ]
    },
    {
      "cell_type": "markdown",
      "metadata": {},
      "source": [
        "Show the polar cursors in a phasor plot:\n\n"
      ]
    },
    {
      "cell_type": "code",
      "execution_count": null,
      "metadata": {
        "collapsed": false
      },
      "outputs": [],
      "source": [
        "plot = PhasorPlot(allquadrants=True, title='Polar cursors')\nplot.hist2d(real, imag, cmap='Greys')\nfor i in range(len(phase_min)):\n    plot.polar_cursor(\n        phase=phase_min[i],\n        phase_limit=phase_max[i],\n        modulation=modulation_min[i],\n        modulation_limit=modulation_max[i],\n        color=CATEGORICAL[i + 2],\n        linestyle='-',\n    )\nplot.show()"
      ]
    },
    {
      "cell_type": "markdown",
      "metadata": {},
      "source": [
        "The thresholded mean intensity image can be used as a base layer to\noverlay the masks from the polar cursors. Values below the threshold are\ntransparent (white):\n\n"
      ]
    },
    {
      "cell_type": "code",
      "execution_count": null,
      "metadata": {
        "collapsed": false
      },
      "outputs": [],
      "source": [
        "pseudo_color_image = pseudo_color(\n    *polar_mask, intensity=mean_thresholded, colors=CATEGORICAL[2:]\n)\n\nplot_image(\n    pseudo_color_image,\n    title='Pseudo-color image from\\npolar cursors and thresholded intensity',\n)"
      ]
    },
    {
      "cell_type": "markdown",
      "metadata": {},
      "source": [
        "sphinx_gallery_thumbnail_number = 1\nmypy: allow-untyped-defs, allow-untyped-calls\nmypy: disable-error-code=\"arg-type\"\n\n"
      ]
    }
  ],
  "metadata": {
    "kernelspec": {
      "display_name": "Python 3",
      "language": "python",
      "name": "python3"
    },
    "language_info": {
      "codemirror_mode": {
        "name": "ipython",
        "version": 3
      },
      "file_extension": ".py",
      "mimetype": "text/x-python",
      "name": "python",
      "nbconvert_exporter": "python",
      "pygments_lexer": "ipython3",
      "version": "3.12.11"
    }
  },
  "nbformat": 4,
  "nbformat_minor": 0
}