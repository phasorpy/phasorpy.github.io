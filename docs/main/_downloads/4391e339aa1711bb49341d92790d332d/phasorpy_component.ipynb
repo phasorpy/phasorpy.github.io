{
  "cells": [
    {
      "cell_type": "markdown",
      "metadata": {},
      "source": [
        "\n# Component analysis\n\nAn introduction to component analysis in phasor space.\n"
      ]
    },
    {
      "cell_type": "markdown",
      "metadata": {},
      "source": [
        "Import required modules, functions, and classes:\n\n"
      ]
    },
    {
      "cell_type": "code",
      "execution_count": null,
      "metadata": {
        "collapsed": false
      },
      "outputs": [],
      "source": [
        "import math\n\nimport matplotlib.animation as animation\nimport numpy\nfrom matplotlib import pyplot\n\nfrom phasorpy.component import (\n    phasor_component_fit,\n    phasor_component_fraction,\n    phasor_component_graphical,\n)\nfrom phasorpy.lifetime import phasor_from_lifetime\nfrom phasorpy.plot import PhasorPlot, plot_histograms\n\nnumpy.random.seed(42)\ncomponent_style = {\n    'linestyle': '-',\n    'marker': 'o',\n    'color': 'tab:blue',\n    'fontsize': 14,\n}"
      ]
    },
    {
      "cell_type": "markdown",
      "metadata": {},
      "source": [
        "## Fractions of two components\n\nThe phasor coordinates of combinations of two lifetime components lie on\nthe line between the two components. For example, a mixture of:\n\n- Component A: 1.0 ns lifetime, 60% contribution\n- Component B: 8.0 ns lifetime, 40% contribution\n\n"
      ]
    },
    {
      "cell_type": "code",
      "execution_count": null,
      "metadata": {
        "collapsed": false
      },
      "outputs": [],
      "source": [
        "frequency = 80.0  # MHz\ncomponent_lifetimes = [1.0, 8.0]  # ns\ncomponent_fractions = [0.6, 0.4]\n\ncomponent_real, component_imag = phasor_from_lifetime(\n    frequency, component_lifetimes\n)\n\nplot = PhasorPlot(frequency=frequency, title='Fractions of two components')\nplot.components(\n    component_real,\n    component_imag,\n    component_fractions,\n    labels=['A', 'B'],\n    **component_style,\n)\nplot.show()"
      ]
    },
    {
      "cell_type": "markdown",
      "metadata": {},
      "source": [
        "If the location of both components is known, their contributions (fractions)\nto the phasor point that lies on the line between the components\ncan be calculated:\n\n"
      ]
    },
    {
      "cell_type": "code",
      "execution_count": null,
      "metadata": {
        "collapsed": false
      },
      "outputs": [],
      "source": [
        "real, imag = phasor_from_lifetime(\n    frequency, component_lifetimes, component_fractions\n)\n\nfraction_of_first_component = phasor_component_fraction(\n    real, imag, component_real, component_imag\n)\n\nassert math.isclose(fraction_of_first_component, component_fractions[0])"
      ]
    },
    {
      "cell_type": "markdown",
      "metadata": {},
      "source": [
        "## Distribution of fractions of two components\n\nPhasor coordinates can represent different contributions from\ntwo components with known phasor coordinates:\n\n"
      ]
    },
    {
      "cell_type": "code",
      "execution_count": null,
      "metadata": {
        "collapsed": false
      },
      "outputs": [],
      "source": [
        "real, imag = numpy.random.multivariate_normal(\n    (real, imag), [[5e-3, 1e-3], [1e-3, 1e-3]], (100, 100)\n).T\n\nplot = PhasorPlot(\n    frequency=frequency, title='Distribution of fractions of two components'\n)\nplot.hist2d(real, imag, cmap='Greys')\nplot.components(\n    component_real, component_imag, labels=['A', 'B'], **component_style\n)\nplot.show()"
      ]
    },
    {
      "cell_type": "markdown",
      "metadata": {},
      "source": [
        "When the phasor coordinates of two contributing components are known,\ntheir fractional contributions to phasor coordinates can be calculated by\nprojecting the phasor coordinate onto the line connecting the components.\nFractions are calculated using\n:py:func:`phasorpy.component.phasor_component_fraction`\nand plotted as histograms:\n\n"
      ]
    },
    {
      "cell_type": "code",
      "execution_count": null,
      "metadata": {
        "collapsed": false
      },
      "outputs": [],
      "source": [
        "fraction_of_first_component = phasor_component_fraction(\n    real, imag, component_real, component_imag\n)\n\nplot_histograms(\n    fraction_of_first_component,\n    1.0 - fraction_of_first_component,\n    range=(0, 1),\n    bins=100,\n    alpha=0.66,\n    title='Histograms of fractions of two components',\n    xlabel='Fraction',\n    ylabel='Count',\n    labels=['A', 'B'],\n)"
      ]
    },
    {
      "cell_type": "markdown",
      "metadata": {},
      "source": [
        "## Multi-component fit\n\nWhen the phasor coordinates of multiple contributing components are known,\ntheir fractional contributions to phasor coordinates can be obtained by\nsolving a linear system of equations, using multiple harmonics if necessary.\n\nFractions of 2 components are fitted using\n:py:func:`phasorpy.component.phasor_component_fit`\nand plotted as histograms:\n\n"
      ]
    },
    {
      "cell_type": "code",
      "execution_count": null,
      "metadata": {
        "collapsed": false
      },
      "outputs": [],
      "source": [
        "fraction1, fraction2 = phasor_component_fit(\n    numpy.ones_like(real), real, imag, component_real, component_imag\n)\n\nplot_histograms(\n    fraction1,\n    fraction2,\n    range=(0, 1),\n    bins=100,\n    alpha=0.66,\n    title='Histograms of fitted fractions of multiple components',\n    xlabel='Fraction',\n    ylabel='Count',\n    labels=['A', 'B'],\n)"
      ]
    },
    {
      "cell_type": "markdown",
      "metadata": {},
      "source": [
        "Up to three components can be fit to single harmonics phasor coordinates.\nThe `sphx_glr_tutorials_applications_phasorpy_component_fit.py`\ntutorial demonstrates how to fit 5 components using two-harmonics.\n\n"
      ]
    },
    {
      "cell_type": "markdown",
      "metadata": {},
      "source": [
        "## Graphical analysis of two components\n\nThe :py:func:`phasorpy.component.phasor_component_graphical`\nfunction for two components counts the number of phasor coordinates\nthat fall within a radius at given fractions along the line between\nthe components.\nCompare the plot of counts vs fraction to the previous histogram:\n\n"
      ]
    },
    {
      "cell_type": "code",
      "execution_count": null,
      "metadata": {
        "collapsed": false
      },
      "outputs": [],
      "source": [
        "radius = 0.025\nfractions = numpy.linspace(0.0, 1.0, 20)\n\ncounts = phasor_component_graphical(\n    real,\n    imag,\n    component_real,\n    component_imag,\n    fractions=fractions,\n    radius=radius,\n)\n\nfig, ax = pyplot.subplots()\nax.plot(fractions, counts, '-', label='A vs B')\nax.set_title('Graphical analysis of two components')\nax.set_xlabel('Fraction')\nax.set_ylabel('Count')\nax.legend()\npyplot.show()"
      ]
    },
    {
      "cell_type": "markdown",
      "metadata": {},
      "source": [
        "## Graphical analysis of three components\n\nThe graphical method can similarly be applied to the contributions of\nthree components:\n\n"
      ]
    },
    {
      "cell_type": "code",
      "execution_count": null,
      "metadata": {
        "collapsed": false
      },
      "outputs": [],
      "source": [
        "component_lifetimes = [1.0, 4.0, 15.0]\ncomponent_real, component_imag = phasor_from_lifetime(\n    frequency, component_lifetimes\n)\n\nplot = PhasorPlot(\n    frequency=frequency, title='Graphical analysis of three components'\n)\nplot.hist2d(real, imag, cmap='Greys')\nplot.components(\n    component_real, component_imag, labels=['A', 'B', 'C'], **component_style\n)\nplot.show()"
      ]
    },
    {
      "cell_type": "markdown",
      "metadata": {},
      "source": [
        "The results of the graphical component analysis are plotted as\nhistograms for each component pair:\n\n"
      ]
    },
    {
      "cell_type": "code",
      "execution_count": null,
      "metadata": {
        "collapsed": false
      },
      "outputs": [],
      "source": [
        "counts = phasor_component_graphical(\n    real,\n    imag,\n    component_real,\n    component_imag,\n    fractions=fractions,\n    radius=radius,\n)\n\nfig, ax = pyplot.subplots()\nax.plot(fractions, counts[0], '-', label='A vs B')\nax.plot(fractions, counts[1], '-', label='A vs C')\nax.plot(fractions, counts[2], '-', label='B vs C')\nax.set_title('Graphical analysis of three components')\nax.set_xlabel('Fraction')\nax.set_ylabel('Count')\nax.legend()\npyplot.show()"
      ]
    },
    {
      "cell_type": "markdown",
      "metadata": {},
      "source": [
        "The graphical method for resolving the contribution of three components\n(pairwise) to a phasor coordinate is based on the quantification of moving\ncircular cursors along the line between the components, demonstrated in the\nfollowing animation for component A vs B.\nFor the full analysis, the process is repeated for the other combinations\nof components, A vs C and B vs C:\n\n"
      ]
    },
    {
      "cell_type": "code",
      "execution_count": null,
      "metadata": {
        "collapsed": false
      },
      "outputs": [],
      "source": [
        "fig, (ax, hist) = pyplot.subplots(nrows=2, ncols=1, figsize=(5.5, 8))\n\nplot = PhasorPlot(\n    frequency=frequency,\n    ax=ax,\n    title='Graphical analysis of component A vs B',\n)\nplot.hist2d(real, imag, cmap='Greys')\nplot.components(\n    component_real[:2],\n    component_imag[:2],\n    labels=['A', 'B'],\n    **component_style,\n)\nplot.components(\n    component_real[2], component_imag[2], labels=['C'], **component_style\n)\n\nhist.set_xlim(0, 1)\nhist.set_xlabel('Fraction')\nhist.set_ylabel('Count')\n\ndirection_real = component_real[0] - component_real[1]\ndirection_imag = component_imag[0] - component_imag[1]\n\nplots = []\nfor i in range(fractions.size):\n    cursor_real = component_real[1] + fractions[i] * direction_real\n    cursor_imag = component_imag[1] + fractions[i] * direction_imag\n    plot_lines = plot.plot(\n        [cursor_real, component_real[2]],\n        [cursor_imag, component_imag[2]],\n        '-',\n        linewidth=plot.dataunit_to_point * radius * 2 + 5,\n        solid_capstyle='round',\n        color='red',\n        alpha=0.5,\n    )\n    hist_artists = pyplot.plot(\n        fractions[: i + 1], counts[0][: i + 1], linestyle='-', color='tab:blue'\n    )\n    plots.append(plot_lines + hist_artists)\n\n_ = animation.ArtistAnimation(fig, plots, interval=100, blit=True)\npyplot.tight_layout()\npyplot.show()"
      ]
    },
    {
      "cell_type": "markdown",
      "metadata": {},
      "source": [
        "sphinx_gallery_thumbnail_number = 6\nmypy: allow-untyped-defs, allow-untyped-calls\nmypy: disable-error-code=\"arg-type\"\n\n"
      ]
    }
  ],
  "metadata": {
    "kernelspec": {
      "display_name": "Python 3",
      "language": "python",
      "name": "python3"
    },
    "language_info": {
      "codemirror_mode": {
        "name": "ipython",
        "version": 3
      },
      "file_extension": ".py",
      "mimetype": "text/x-python",
      "name": "python",
      "nbconvert_exporter": "python",
      "pygments_lexer": "ipython3",
      "version": "3.13.5"
    }
  },
  "nbformat": 4,
  "nbformat_minor": 0
}