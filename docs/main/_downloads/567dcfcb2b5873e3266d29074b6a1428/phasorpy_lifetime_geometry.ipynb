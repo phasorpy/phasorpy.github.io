{
  "cells": [
    {
      "cell_type": "markdown",
      "metadata": {},
      "source": [
        "\n# Geometrical interpretation of lifetimes\n\nDemonstrate the geometrical interpretation of fluorescence lifetimes in the\nphasor plot.\n\nThe PhasorPy library is used to demonstrate the geometrical interpretation\nof fluorescence lifetimes and other quantities in the phasor plot:\n\n- single exponential lifetimes\n- fractional intensities of lifetime components\n- apparent single lifetime from phase and modulation\n- normal lifetime\n- phase and modulation\n- phasor coordinates\n"
      ]
    },
    {
      "cell_type": "markdown",
      "metadata": {},
      "source": [
        "Import required modules and functions:\n\n"
      ]
    },
    {
      "cell_type": "code",
      "execution_count": null,
      "metadata": {
        "collapsed": false
      },
      "outputs": [],
      "source": [
        "import numpy\n\nfrom phasorpy.lifetime import (\n    phasor_from_lifetime,\n    phasor_to_apparent_lifetime,\n    phasor_to_normal_lifetime,\n)\nfrom phasorpy.phasor import phasor_to_polar\nfrom phasorpy.plot import PhasorPlot"
      ]
    },
    {
      "cell_type": "markdown",
      "metadata": {},
      "source": [
        "Calculate phasor coordinates, polar coordinates, and apparent lifetimes\nfrom a set of lifetimes and their fractional intensities at a given\nfrequency:\n\n"
      ]
    },
    {
      "cell_type": "code",
      "execution_count": null,
      "metadata": {
        "collapsed": false
      },
      "outputs": [],
      "source": [
        "frequency = 80.0  # MHz\nlifetime = [0.4, 4.0]  # ns\nfraction = [0.6, 0.4]\n\nreal, imag = phasor_from_lifetime(frequency, lifetime, fraction)\nphase, modulation = phasor_to_polar(real, imag)\ncomponent_real, component_imag = phasor_from_lifetime(frequency, lifetime)\ntau_phi, tau_mod = phasor_to_apparent_lifetime(real, imag, frequency)\ntau_norm = phasor_to_normal_lifetime(real, imag, frequency)\ntau_phi_re, tau_phi_im = phasor_from_lifetime(frequency, tau_phi)\ntau_mod_re, tau_mod_im = phasor_from_lifetime(frequency, tau_mod)\ntau_norm_re, tau_norm_im = phasor_from_lifetime(frequency, tau_norm)"
      ]
    },
    {
      "cell_type": "markdown",
      "metadata": {},
      "source": [
        "Plot the phasor coordinates and lifetimes, and annotate the plot:\n\n"
      ]
    },
    {
      "cell_type": "code",
      "execution_count": null,
      "metadata": {
        "collapsed": false
      },
      "outputs": [],
      "source": [
        "color_phasor = 'black'\ncolor_component = 'tab:orange'\ncolor_phase = 'tab:blue'\ncolor_modulation = 'tab:red'\ncolor_normal = 'tab:green'\nfontsize = 18\nlinewidth = 3.0\ntextoffset = 0.01\n\nplot = PhasorPlot(\n    grid=False,\n    xlim=(0.0, 1.01),\n    ylim=(0.0, 0.6),\n    xticks=[0, 0.5, 1],\n    yticks=[0, 0.5],\n    xticklabels=['0', '1/2', '1'],\n    yticklabels=['0', '1/2'],\n    xlabel=None,\n    ylabel=None,\n    title='Geometrical interpretation of lifetimes in the phasor plot',\n)\nplot.ax.tick_params(axis='both', which='major', labelsize=fontsize * 2 / 3)\nplot.ax.spines['top'].set_visible(False)\nplot.ax.spines['right'].set_visible(False)\n# plot.ax.spines['left'].set_linewidth(linewidth)\n# plot.ax.spines['bottom'].set_linewidth(linewidth)\n\nplot.semicircle(color='tab:gray', linewidth=linewidth, zorder=0)\n\n# line to G coordinate\nplot.line(\n    [real, real],\n    [0.0, imag],\n    linestyle='--',\n    color=color_phasor,\n    linewidth=1,\n    zorder=0,\n)\n\n# line to S coordinate\nplot.line(\n    [real, 0],\n    [imag, imag],\n    linestyle='--',\n    color=color_phasor,\n    linewidth=1,\n    zorder=0,\n)\n\ncomponent_real = numpy.atleast_1d(component_real)\ncomponent_imag = numpy.atleast_1d(component_imag)\n\n# arc indicating phase angle\nplot.arrow(\n    [modulation / 4, 0.0],\n    [real / 4, imag / 4],\n    angle=phase,\n    color=color_phase,\n    arrowstyle='-',\n    linewidth=linewidth,\n)\n\n# phase line\nplot.arrow(\n    [0, 0],\n    [real, imag],\n    color=color_phase,\n    linewidth=linewidth,\n    arrowstyle='-',\n    # zorder=1,\n)\n\n# modulation arc\nplot.arrow(\n    [modulation, 0.0],\n    [real, imag],\n    angle=phase,\n    color=color_modulation,\n    arrowstyle='-',\n    linewidth=linewidth,\n)\n\n# normal lifetime line\nplot.arrow(\n    [0.5, 0.0],\n    [real, imag],\n    color=color_normal,\n    arrowstyle='-',\n    linewidth=linewidth,\n)\n\n# arrows to single lifetimes\nfor i in range(len(lifetime)):\n    plot.arrow(\n        [real, imag],\n        [component_real[i], component_imag[i]],\n        color=color_component,\n        linewidth=linewidth,\n    )\n\n# arrow to phase lifetime\nplot.arrow(\n    [real, imag],\n    [tau_phi_re, tau_phi_im],\n    color=color_phase,\n    linewidth=linewidth,\n)\n\n# arced arrow to modulation lifetime\nplot.arrow(\n    [real, imag],\n    [tau_mod_re, tau_mod_im],\n    angle=phase,\n    color=color_modulation,\n    linewidth=linewidth,\n)\n\n# arrow to normal lifetime\nplot.arrow(\n    [real, imag],\n    [tau_norm_re, tau_norm_im],\n    color=color_normal,\n    linewidth=linewidth,\n)\n\n# mark phasor coordinate\nplot.plot(\n    real,\n    imag,\n    marker='o',\n    markersize=12,\n    markeredgewidth=linewidth,\n    markeredgecolor=color_phasor,\n    markerfacecolor='white',\n    zorder=1,\n)\n\n# label G\nplot.ax.text(\n    real,\n    -textoffset,\n    '$G$',\n    color=color_phasor,\n    fontsize=fontsize,\n    ha='center',\n    va='top',\n)\n\n# label S\nplot.ax.text(\n    -textoffset,\n    imag,\n    '$S$',\n    color=color_phasor,\n    fontsize=fontsize,\n    ha='right',\n    va='center',\n)\n\n# label phase\nplot.ax.text(\n    modulation / 4 + textoffset,\n    imag / 8,\n    '$\\\\varphi$',\n    color=color_phase,\n    fontsize=fontsize,\n    ha='left',\n    va='center',\n)\n\n# label modulation\nplot.ax.text(\n    modulation,\n    -textoffset,\n    '$M$',\n    color=color_modulation,\n    fontsize=fontsize,\n    ha='center',\n    va='top',\n)\n\n# label single lifetimes\nplot.components(\n    component_real,\n    component_imag,\n    fraction=fraction,\n    color=color_component,\n    fontsize=fontsize,\n    linestyle=' ',\n    labels=['$\\\\tau_{%d}$' % i for i in range(len(lifetime))],\n)\n\n# label fractions of single lifetimes\nif len(lifetime) == 2:\n    for i in range(len(lifetime)):\n        plot.ax.text(\n            real + (component_real[i] - real) / 2,\n            imag + (component_imag[i] - imag) / 2 - textoffset,\n            '$\\\\alpha_{%i}$' % i,\n            color=color_component,\n            fontsize=fontsize,\n            ha='center',\n            va='top',\n        )\n\n# label phase lifetime\nplot.components(\n    tau_phi_re,\n    tau_phi_im,\n    fontsize=fontsize,\n    color=color_phase,\n    labels=['$\\\\tau_{\\\\varphi}$'],\n)\n\n# label modulation lifetime\nplot.components(\n    tau_mod_re,\n    tau_mod_im,\n    color=color_modulation,\n    fontsize=fontsize,\n    labels=['$\\\\tau_{M}$'],\n)\n\n# label normal lifetime\nplot.components(\n    tau_norm_re,\n    tau_norm_im,\n    color=color_normal,\n    fontsize=fontsize,\n    labels=['$\\\\tau_{N}$'],\n)\n\nplot.show()"
      ]
    },
    {
      "cell_type": "markdown",
      "metadata": {},
      "source": [
        "The figure demonstrates:\n\n- **single exponential lifetimes** $\\tau_{i}$ correspond to\n  phasor coordinates on the **universal semicircle**.\n- the **phasor coordinates** $G$ and $S$ of a mixture of\n  two components with single-exponential lifetimes, weighted by their\n  fractional intensities $\\alpha_{i}$, lie on a line between the\n  phasor coordinates of the single components.\n- the **phase** $\\varphi$ of the phasor coordinates $G$ and\n  $S$ is the angle of the phasor coordinates with respect to the\n  origin.\n- the **modulation** $M$ of the phasor coordinates $G$ and\n  $S$ is the distance from the origin to the phasor coordinates.\n- the **apparent single lifetime from phase** $\\tau_{\\varphi}$\n  of the component mixture is the single exponential lifetime corresponding\n  to the intersection of the universal circle with a line through the origin\n  and the phasor coordinates $G$ and $S$.\n- the **apparent single lifetime from modulation** $\\tau_{M}$\n  of the component mixture is the single exponential lifetime corresponding\n  to the intersection of the universal circle with a circle around the origin\n  of radius equal to the modulation $M$.\n- the **normal lifetime** $\\tau_{N}$ of the component mixture\n  is the single exponential lifetime corresponding to the nearest point on\n  the universal circle to the phasor coordinates $G$ and $S$,\n  which is the intersection of the universal circle with the line through the\n  center of the universal circle and the phasor coordinates $G$ and\n  $S$.\n\n"
      ]
    },
    {
      "cell_type": "markdown",
      "metadata": {},
      "source": [
        "sphinx_gallery_thumbnail_number = -1\nmypy: allow-untyped-defs, allow-untyped-calls\nmypy: disable-error-code=\"arg-type, assignment\"\n\n"
      ]
    }
  ],
  "metadata": {
    "kernelspec": {
      "display_name": "Python 3",
      "language": "python",
      "name": "python3"
    },
    "language_info": {
      "codemirror_mode": {
        "name": "ipython",
        "version": 3
      },
      "file_extension": ".py",
      "mimetype": "text/x-python",
      "name": "python",
      "nbconvert_exporter": "python",
      "pygments_lexer": "ipython3",
      "version": "3.14.0"
    }
  },
  "nbformat": 4,
  "nbformat_minor": 0
}