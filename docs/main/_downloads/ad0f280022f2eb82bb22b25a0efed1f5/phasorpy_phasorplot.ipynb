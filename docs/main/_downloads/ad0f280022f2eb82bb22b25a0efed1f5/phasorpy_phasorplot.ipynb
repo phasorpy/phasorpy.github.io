{
  "cells": [
    {
      "cell_type": "markdown",
      "metadata": {},
      "source": [
        "\n# Phasor plot\n\nAn introduction to plotting phasor coordinates.\n\nThe :py:class:`phasorpy.plot.PhasorPlot` class is used to plot phasor\ncoordinates as scattered points, lines, two-dimensional histograms,\nand contours.\nThe plots are supplemented with universal semicircles, polar grids,\npolar cursors, component mixture indicators, and manual annotations.\n"
      ]
    },
    {
      "cell_type": "markdown",
      "metadata": {},
      "source": [
        "Import required modules, functions, and classes:\n\n"
      ]
    },
    {
      "cell_type": "code",
      "execution_count": null,
      "metadata": {
        "collapsed": false
      },
      "outputs": [],
      "source": [
        "import math\n\nimport numpy\n\nfrom phasorpy.plot import PhasorPlot\n\nnumpy.random.seed(42)"
      ]
    },
    {
      "cell_type": "markdown",
      "metadata": {},
      "source": [
        "## Empty phasor plot\n\nCreate an empty phasor plot, showing the first quadrant and the\nuniversal semicircle:\n\n"
      ]
    },
    {
      "cell_type": "code",
      "execution_count": null,
      "metadata": {
        "collapsed": false
      },
      "outputs": [],
      "source": [
        "plot = PhasorPlot()\nplot.show()"
      ]
    },
    {
      "cell_type": "markdown",
      "metadata": {},
      "source": [
        "## Custom axes\n\nCreate a phasor plot with custom axis limits, automatic ticks, and custom\naxis labels:\n\n"
      ]
    },
    {
      "cell_type": "code",
      "execution_count": null,
      "metadata": {
        "collapsed": false
      },
      "outputs": [],
      "source": [
        "plot = PhasorPlot(\n    title='Custom axes',\n    xlabel='G',\n    ylabel='S',\n    xlim=(-0.1, 1.1),\n    ylim=(-0.1, 0.61),\n    xticks=None,\n    yticks=None,\n)\nplot.show()"
      ]
    },
    {
      "cell_type": "markdown",
      "metadata": {},
      "source": [
        "## Universal semicircle\n\nCreate a phasor plot at a frequency of 80 MHz with custom lifetime ticks.\nAdd a second, transformed universal semicircle for FRET acceptor coordinates:\n\n"
      ]
    },
    {
      "cell_type": "code",
      "execution_count": null,
      "metadata": {
        "collapsed": false
      },
      "outputs": [],
      "source": [
        "plot = PhasorPlot(xlim=(-0.2, 1.1), title='Universal semicircle')\nplot.semicircle(\n    frequency=80.0,\n    lifetime=[0, 0.5, 1, 2, 4, 8, 16],\n    color='tab:green',\n    label='donor',\n)\nplot.semicircle(\n    polar_reference=(0.9852, 0.5526), color='tab:red', label='acceptor'\n)\nplot.show()"
      ]
    },
    {
      "cell_type": "markdown",
      "metadata": {},
      "source": [
        "## Scatter and line plots\n\nPlot phasor coordinates as scatter or lines:\n\n"
      ]
    },
    {
      "cell_type": "code",
      "execution_count": null,
      "metadata": {
        "collapsed": false
      },
      "outputs": [],
      "source": [
        "plot = PhasorPlot(frequency=80.0, title='Scatter and line plots')\nplot.plot(0.6, 0.4, label='1')\nplot.plot([0.2, 0.9], [0.4, 0.3], '.-', label='2')\nplot.plot([0.39, 0.4, 0.41], [0.21, 0.19, 0.2], 'x', label='3')\nplot.show()"
      ]
    },
    {
      "cell_type": "markdown",
      "metadata": {},
      "source": [
        "## Crosshair cursors\n\nHighlight specific phasor coordinates using Cartesian or polar lines,\noptionally limited by a radius:\n\n"
      ]
    },
    {
      "cell_type": "code",
      "execution_count": null,
      "metadata": {
        "collapsed": false
      },
      "outputs": [],
      "source": [
        "plot = PhasorPlot(frequency=80.0, title='Crosshair cursors')\nplot.cursor(0.7, 0.25, color='tab:blue', label='cartesian')\nplot.cursor(\n    0.7, 0.25, color='tab:orange', polar=True, linestyle='--', label='polar'\n)\nplot.cursor(\n    0.2, 0.4, radius=0.1, crosshair=True, color='tab:red', label='radius'\n)\nplot.cursor(\n    0.45,\n    0.4,\n    radius=0.1,\n    crosshair=True,\n    polar=True,\n    linestyle='--',\n    color='tab:green',\n    label='radius|polar',\n)\nplot.show()"
      ]
    },
    {
      "cell_type": "markdown",
      "metadata": {},
      "source": [
        "## Cursors\n\nHighlight specific ranges of Cartesian or polar coordinates:\n\n"
      ]
    },
    {
      "cell_type": "code",
      "execution_count": null,
      "metadata": {
        "collapsed": false
      },
      "outputs": [],
      "source": [
        "plot = PhasorPlot(frequency=80.0, title='Cursors')\nplot.cursor(0.35, 0.3, 0.65, 0.1, color='tab:blue', label='rectangle')\nplot.cursor(\n    0.35,\n    0.3,\n    0.65,\n    0.1,\n    polar=True,\n    color='tab:orange',\n    label='rectangle|polar',\n)\nplot.cursor(0.5, 0.5, radius=0.05, color='tab:red', label='circle')\nplot.cursor(\n    0.1, 0.3, radius=0.05, radius_minor=0.1, color='tab:green', label='ellipse'\n)\nplot.cursor(\n    0.9,\n    0.3,\n    radius=0.05,\n    radius_minor=0.1,\n    angle='semicircle',\n    color='tab:purple',\n    label='semicircle aligned',\n)\nplot.show()"
      ]
    },
    {
      "cell_type": "markdown",
      "metadata": {},
      "source": [
        "Multiple cursors sharing the same style may be plotted at once:\n\n"
      ]
    },
    {
      "cell_type": "code",
      "execution_count": null,
      "metadata": {
        "collapsed": false
      },
      "outputs": [],
      "source": [
        "plot = PhasorPlot(frequency=80.0, title='Multiple cursors')\nplot.cursor(\n    [0.2, 0.5, 0.8],\n    0.4,\n    radius=[0.05, 0.1, 0.05],\n    radius_minor=0.1,\n    angle='semicircle',\n    color=['tab:blue', '0.5', 'tab:orange'],\n    label=['blue ellipse', 'gray circle', 'orange ellipse'],\n)\nplot.show()"
      ]
    },
    {
      "cell_type": "markdown",
      "metadata": {},
      "source": [
        "Alternatively, use polar coordinates and various options:\n\n"
      ]
    },
    {
      "cell_type": "code",
      "execution_count": null,
      "metadata": {
        "collapsed": false
      },
      "outputs": [],
      "source": [
        "plot = PhasorPlot(frequency=80.0, title='Polar cursors')\nplot.polar_cursor(0.6435, 0.5, color='tab:blue', label='crosshair')\nplot.polar_cursor(0.5236, 0.6, 0.1963, 0.8, linewidth=2, label='rectangle')\nplot.polar_cursor(\n    0.6435,\n    0.5,\n    radius=0.05,\n    radius_minor=0.1,\n    alpha=0.5,\n    fill=True,\n    color='tab:blue',\n    label='ellipse',\n)\nplot.show()"
      ]
    },
    {
      "cell_type": "markdown",
      "metadata": {},
      "source": [
        "## Component mixtures\n\nShow linear combinations of phasor coordinates or ranges thereof:\n\n"
      ]
    },
    {
      "cell_type": "code",
      "execution_count": null,
      "metadata": {
        "collapsed": false
      },
      "outputs": [],
      "source": [
        "real, imag, weights = numpy.array(\n    [[0.1, 0.2, 0.5, 0.9], [0.3, 0.4, 0.5, 0.3], [2, 1, 2, 1]]\n)\n\nplot = PhasorPlot(frequency=80.0, title='Component mixtures')\nplot.components(\n    real,\n    imag,\n    linestyle='',\n    marker='o',\n    labels=['A', 'B', 'C', 'D'],\n    fill=True,\n    color='tab:blue',\n    facecolor='lightyellow',\n    label='components',\n)\nplot.components(real, imag, weights, marker='o', label='mixture')\nplot.show()"
      ]
    },
    {
      "cell_type": "markdown",
      "metadata": {},
      "source": [
        "## Two-dimensional histogram\n\nPlot large number of phasor coordinates as a two-dimensional histogram:\n\n"
      ]
    },
    {
      "cell_type": "code",
      "execution_count": null,
      "metadata": {
        "collapsed": false
      },
      "outputs": [],
      "source": [
        "real, imag = numpy.random.multivariate_normal(\n    [0.6, 0.4], [[3e-3, -1e-3], [-1e-3, 1e-3]], (256, 256)\n).T\nplot = PhasorPlot(frequency=80.0, title='Two-dimensional histogram')\nplot.hist2d(real, imag)\nplot.show()"
      ]
    },
    {
      "cell_type": "markdown",
      "metadata": {},
      "source": [
        "## Contours\n\nPlot the contours of the density of phasor coordinates:\n\n"
      ]
    },
    {
      "cell_type": "code",
      "execution_count": null,
      "metadata": {
        "collapsed": false
      },
      "outputs": [],
      "source": [
        "plot = PhasorPlot(frequency=80.0, title='Contours')\nplot.contour(real, imag)\nplot.show()"
      ]
    },
    {
      "cell_type": "markdown",
      "metadata": {},
      "source": [
        "## Image\n\nPlot a custom-colored image of a two-dimensional histogram (not implemented):\n\n"
      ]
    },
    {
      "cell_type": "code",
      "execution_count": null,
      "metadata": {
        "collapsed": false
      },
      "outputs": [],
      "source": [
        "plot = PhasorPlot(frequency=80.0, title='Image (not implemented yet)')\n# plot.imshow(image)\nplot.show()"
      ]
    },
    {
      "cell_type": "markdown",
      "metadata": {},
      "source": [
        "## Combined plots\n\nMultiple plots can be combined:\n\n"
      ]
    },
    {
      "cell_type": "code",
      "execution_count": null,
      "metadata": {
        "collapsed": false
      },
      "outputs": [],
      "source": [
        "real2, imag2 = numpy.random.multivariate_normal(\n    [0.9, 0.2], [[2e-4, -1e-4], [-1e-4, 2e-4]], 4096\n).T\n\nplot = PhasorPlot(\n    xlim=(0.35, 1.03), ylim=(0.1, 0.59), grid=False, title='Combined plots'\n)\nplot.semicircle(frequency=80.0, color='tab:purple')\nplot.hist2d(real, imag, bins=64, cmap='Blues')\nplot.contour(real, imag, bins=48, levels=3, cmap='summer_r', norm='log')\nplot.hist2d(real2, imag2, bins=64, cmap='Oranges')\nplot.plot(0.6, 0.4, 'o', color='tab:blue', label='Blues')\nplot.plot(0.9, 0.2, 'o', color='tab:orange', label='Oranges')\nplot.cursor(0.9, 0.2, color='tab:orange', polar=True)\nplot.polar_cursor(math.atan2(0.4, 0.6), math.hypot(0.6, 0.4), color='tab:blue')\nplot.show()"
      ]
    },
    {
      "cell_type": "markdown",
      "metadata": {},
      "source": [
        "## All quadrants\n\nCreate an empty phasor plot showing all four quadrants:\n\n"
      ]
    },
    {
      "cell_type": "code",
      "execution_count": null,
      "metadata": {
        "collapsed": false
      },
      "outputs": [],
      "source": [
        "plot = PhasorPlot(allquadrants=True, title='All quadrants')\nplot.show()"
      ]
    },
    {
      "cell_type": "markdown",
      "metadata": {},
      "source": [
        "## Custom grid\n\nCustomize the polar grid of an all-quadrants plot:\n\n"
      ]
    },
    {
      "cell_type": "code",
      "execution_count": null,
      "metadata": {
        "collapsed": false
      },
      "outputs": [],
      "source": [
        "plot = PhasorPlot(\n    allquadrants=True,\n    grid={\n        'labels': ['', '450', '500 nm', '550', '600', '650', '700', ''],\n        'ticks': [430, 450, 500, 550, 600, 650, 700, 730],\n        'tick_space': numpy.linspace(430, 730, 16),\n        'angles': 8,\n        'radii': 2,\n    },\n    pad=0.2,  # make space for labels\n    title='Custom grid',\n)\nplot.show()"
      ]
    },
    {
      "cell_type": "markdown",
      "metadata": {},
      "source": [
        "## Matplotlib axes\n\nThe PhasorPlot class can use an existing matlotlib axes.\nThe `PhasorPlot.ax` attribute provides access to the underlying\nmatplotlib axes, for example, to add annotations:\n\n"
      ]
    },
    {
      "cell_type": "code",
      "execution_count": null,
      "metadata": {
        "collapsed": false
      },
      "outputs": [],
      "source": [
        "from matplotlib import pyplot\n\nax = pyplot.subplot(1, 1, 1)\nplot = PhasorPlot(ax=ax, allquadrants=True, title='Matplotlib axes')\nplot.hist2d(real, imag, cmap='Blues')\nplot.ax.annotate(\n    '0.6, 0.4',\n    xy=(0.6, 0.4),\n    xytext=(0.2, 0.2),\n    arrowprops={'arrowstyle': '->'},\n)\npyplot.show()"
      ]
    },
    {
      "cell_type": "markdown",
      "metadata": {},
      "source": [
        "## plot_phasor function\n\nThe :py:func:`phasorpy.plot.plot_phasor` function provides a simpler\nalternative to plot phasor coordinates in a single statement:\n\n"
      ]
    },
    {
      "cell_type": "code",
      "execution_count": null,
      "metadata": {
        "collapsed": false
      },
      "outputs": [],
      "source": [
        "from phasorpy.plot import plot_phasor\n\nplot_phasor(\n    real[0, :32],\n    imag[0, :32],\n    frequency=80.0,\n    marker='.',\n    title='plot_phasor function',\n)"
      ]
    },
    {
      "cell_type": "markdown",
      "metadata": {},
      "source": [
        "sphinx_gallery_thumbnail_number = -5\nmypy: allow-untyped-defs, allow-untyped-calls\nmypy: disable-error-code=\"arg-type\"\n\n"
      ]
    }
  ],
  "metadata": {
    "kernelspec": {
      "display_name": "Python 3",
      "language": "python",
      "name": "python3"
    },
    "language_info": {
      "codemirror_mode": {
        "name": "ipython",
        "version": 3
      },
      "file_extension": ".py",
      "mimetype": "text/x-python",
      "name": "python",
      "nbconvert_exporter": "python",
      "pygments_lexer": "ipython3",
      "version": "3.13.7"
    }
  },
  "nbformat": 4,
  "nbformat_minor": 0
}