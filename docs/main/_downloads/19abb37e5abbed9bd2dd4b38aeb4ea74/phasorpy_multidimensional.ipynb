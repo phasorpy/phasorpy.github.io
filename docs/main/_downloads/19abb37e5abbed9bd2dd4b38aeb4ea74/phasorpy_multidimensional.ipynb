{
  "cells": [
    {
      "cell_type": "markdown",
      "metadata": {},
      "source": [
        "\n# Multidimensional phasor approach\n\nSimultaneous phasor analysis of lifetime and spectral data.\n\nMultidimensional phasor analysis enables the correlation and classification\nof pixels based on multiple fluorescence characteristics simultaneously.\nThis approach combines phasor coordinates from different measurement domains\nto provide enhanced discrimination and identification of molecular species\nor cellular components that may appear similar in single-domain analysis.\n\nPhasor coordinates in one dimension can be mapped to other dimensions by masks\n(or cursors) that define regions of interest in the phasor space. The dimension\nwhere cursors are defined serves as the \"main\" dimension, controlling the\nclassification that is then applied to correlate with other dimensions.\n\nThis analysis method is demonstrated using a dataset combining fluorescence\nlifetime imaging microscopy (FLIM) and hyperspectral imaging (HSI) of LAURDAN\nfluorescence as presented in:\n\n  Malacrida L, Jameson D, and Gratton E.\n  [A multidimensional phasor approach reveals LAURDAN photophysics in NIH-3T3\n  cell membranes](https://doi.org/10.1038/s41598-017-08564-z).\n  *Sci Rep*, 7: 9215 (2017).\n\nThe dataset is available at https://zenodo.org/records/16894639.\n\nThe multidimensional analysis correlates FLIM phasor coordinates from two\ndetection channels with spectral phasor coordinates, enabling enhanced\nclassification of cellular regions based on both lifetime and spectral\nproperties of LAURDAN fluorescence.\n"
      ]
    },
    {
      "cell_type": "markdown",
      "metadata": {},
      "source": [
        "Import required modules, functions, and classes:\n\n"
      ]
    },
    {
      "cell_type": "code",
      "execution_count": null,
      "metadata": {
        "collapsed": false
      },
      "outputs": [],
      "source": [
        "import numpy\nfrom matplotlib import pyplot\n\nfrom phasorpy.color import CATEGORICAL\nfrom phasorpy.cursor import mask_from_circular_cursor, pseudo_color\nfrom phasorpy.datasets import fetch\nfrom phasorpy.filter import phasor_filter_median, phasor_threshold\nfrom phasorpy.io import signal_from_fbd, signal_from_lsm\nfrom phasorpy.lifetime import phasor_calibrate\nfrom phasorpy.phasor import phasor_from_signal\nfrom phasorpy.plot import PhasorPlot, plot_image, plot_phasor"
      ]
    },
    {
      "cell_type": "markdown",
      "metadata": {},
      "source": [
        "## Read spectral and FLIM signals\n\nRead hyperspectral and FLIM signals and metadata from the Zenodo dataset\nof NIH-3T3 fibroblast cells stained with the membrane probe LAURDAN.\nThe spectral data is stored in Zeiss LSM format, while the two-channel\nFLIM data is in FLIMbox FBD format. The calibration data for both FLIM\nchannels are stored in separate files:\n\n"
      ]
    },
    {
      "cell_type": "code",
      "execution_count": null,
      "metadata": {
        "collapsed": false
      },
      "outputs": [],
      "source": [
        "spectral_signal = signal_from_lsm(fetch('04 NIH3T3LAURDAN8meanspectra.lsm'))\n\nflim_signal = signal_from_fbd(\n    fetch('04NIH3T3_LAURDAN_000$CC0Z.fbd'),\n    frame=-1,  # integrate all frames\n    channel=None,  # load all channels\n    laser_factor=0.99168,  # override incorrect metadata in FBD file\n)\n\nreference_signal = numpy.stack(\n    [\n        signal_from_fbd(\n            fetch(f'cumarinech{ch + 1}_780LAURDAN_000$CC0Z.fbd'),\n            frame=-1,\n            channel=ch,\n            laser_factor=0.99168,\n        )\n        for ch in (0, 1)\n    ],\n)\n\nfrequency = flim_signal.attrs['frequency'] * flim_signal.attrs['harmonic']"
      ]
    },
    {
      "cell_type": "markdown",
      "metadata": {},
      "source": [
        "## Phasor transform\n\nCompute phasor coordinates from the spectral and FLIM signals. Calibrate\nthe FLIM phasor coordinates with the reference coordinates of known lifetime\n(2.5 ns, Coumarin 6 in ethanol):\n\n"
      ]
    },
    {
      "cell_type": "code",
      "execution_count": null,
      "metadata": {
        "collapsed": false
      },
      "outputs": [],
      "source": [
        "spectral_mean, spectral_real, spectral_imag = phasor_from_signal(\n    spectral_signal\n)\n\nflim_mean, flim_real, flim_imag = phasor_from_signal(flim_signal)\n\nflim_real, flim_imag = phasor_calibrate(\n    flim_real,\n    flim_imag,\n    *phasor_from_signal(reference_signal),\n    frequency=frequency,\n    lifetime=2.5,\n    skip_axis=0,\n)"
      ]
    },
    {
      "cell_type": "markdown",
      "metadata": {},
      "source": [
        "## Preprocess phasor coordinates\n\nApply median filtering to reduce noise and threshold based on minimum\nintensity to remove low signal pixels. Different thresholds are used\nfor FLIM and spectral data due to their different intensity ranges:\n\n"
      ]
    },
    {
      "cell_type": "code",
      "execution_count": null,
      "metadata": {
        "collapsed": false
      },
      "outputs": [],
      "source": [
        "spectral_mean, spectral_real, spectral_imag = phasor_threshold(\n    *phasor_filter_median(\n        spectral_mean, spectral_real, spectral_imag, repeat=3\n    ),\n    mean_min=18,\n)\n\nflim_mean, flim_real, flim_imag = phasor_threshold(\n    *phasor_filter_median(\n        flim_mean, flim_real, flim_imag, repeat=3, skip_axis=0\n    ),\n    mean_min=0.3,\n)"
      ]
    },
    {
      "cell_type": "markdown",
      "metadata": {},
      "source": [
        "## Plot phasor coordinates\n\nPlot the spectral phasor coordinates:\n\n"
      ]
    },
    {
      "cell_type": "code",
      "execution_count": null,
      "metadata": {
        "collapsed": false
      },
      "outputs": [],
      "source": [
        "plot_phasor(\n    spectral_real,\n    spectral_imag,\n    xlim=(-0.5, 1.05),\n    ylim=(-0.1, 1.05),\n    allquadrants=True,\n    title='Spectral phasor',\n)"
      ]
    },
    {
      "cell_type": "markdown",
      "metadata": {},
      "source": [
        "Plot the FLIM phasor coordinates of channel 1 (blue) and 2 (orange):\n\n"
      ]
    },
    {
      "cell_type": "code",
      "execution_count": null,
      "metadata": {
        "collapsed": false
      },
      "outputs": [],
      "source": [
        "fig, axs = pyplot.subplots(2, 1, figsize=(6.4, 9))\nfig.suptitle('FLIM phasor')\nfor ch in (0, 1):\n    plot = PhasorPlot(\n        ax=axs[ch], frequency=frequency, title=f'Channel {ch + 1}'\n    )\n    plot.hist2d(flim_real[ch], flim_imag[ch])\nfig.tight_layout()\nplot.show()"
      ]
    },
    {
      "cell_type": "markdown",
      "metadata": {},
      "source": [
        "## Mask spectral phasor using cursors\n\nCreate circular masks on the spectral phasor plot to define regions of\ninterest corresponding to different spectral characteristics.\nThe spectral dimension serves as the \"main\" dimension, meaning that\nspectral cursors control the classification that will be applied to\ncorrelate with the FLIM dimension.\n\n"
      ]
    },
    {
      "cell_type": "code",
      "execution_count": null,
      "metadata": {
        "collapsed": false
      },
      "outputs": [],
      "source": [
        "spectral_cursor_real = [0.04, 0.24, 0.14]\nspectral_cursor_imag = [0.74, 0.70, 0.72]\nspectral_cursor_radius = 0.05\n\nspectral_mask = mask_from_circular_cursor(\n    spectral_real,\n    spectral_imag,\n    spectral_cursor_real,\n    spectral_cursor_imag,\n    radius=spectral_cursor_radius,\n)"
      ]
    },
    {
      "cell_type": "markdown",
      "metadata": {},
      "source": [
        "Plot the spectral phasor and main cursors:\n\n"
      ]
    },
    {
      "cell_type": "code",
      "execution_count": null,
      "metadata": {
        "collapsed": false
      },
      "outputs": [],
      "source": [
        "plot = PhasorPlot(\n    xlim=(-0.5, 1.05),\n    ylim=(-0.1, 1.05),\n    xticks=None,\n    yticks=None,\n    allquadrants=True,\n    title='Spectral phasor and cursors',\n)\nplot.hist2d(\n    spectral_real,\n    spectral_imag,\n    cmap='Grays',\n    bins=200,\n)\nplot.cursor(\n    spectral_cursor_real,\n    spectral_cursor_imag,\n    radius=spectral_cursor_radius,\n    color=CATEGORICAL[:3],\n    linewidth=2,\n)\nplot.show()"
      ]
    },
    {
      "cell_type": "markdown",
      "metadata": {},
      "source": [
        "## Spectral pseudo-color image\n\nCreate a pseudo-colored image where each pixel is colored according to\nits spectral classification based on the main cursors:\n\n"
      ]
    },
    {
      "cell_type": "code",
      "execution_count": null,
      "metadata": {
        "collapsed": false
      },
      "outputs": [],
      "source": [
        "spectral_pseudo_color = pseudo_color(*spectral_mask)\nplot_image(spectral_pseudo_color, title='Spectral pseudo-color image')"
      ]
    },
    {
      "cell_type": "markdown",
      "metadata": {},
      "source": [
        "## Spectral classified FLIM phasor\n\nApply the spectral classification masks (from the main dimension) to\nthe phasor coordinates of both FLIM channels.\nThis shows how pixels with different spectral properties distribute in\nthe FLIM phasor space and reveals the correlation between spectral and\nlifetime characteristics:\n\n"
      ]
    },
    {
      "cell_type": "code",
      "execution_count": null,
      "metadata": {
        "collapsed": false
      },
      "outputs": [],
      "source": [
        "fig, axs = pyplot.subplots(2, 1, figsize=(6.4, 9))\nfig.suptitle('Spectral classified FLIM phasor')\n\nfor ch in (0, 1):\n    plot = PhasorPlot(\n        ax=axs[ch], frequency=frequency, title=f'Channel {ch + 1}'\n    )\n    for i in range(spectral_mask.shape[0]):\n        plot.plot(\n            flim_real[ch][spectral_mask[i]],\n            flim_imag[ch][spectral_mask[i]],\n            color=CATEGORICAL[i],\n            alpha=0.05,\n            markersize=0.5,\n        )\nfig.tight_layout()\nplot.show()"
      ]
    },
    {
      "cell_type": "markdown",
      "metadata": {},
      "source": [
        "## FLIM classified spectral phasor\n\nThe inverse analysis can also be performed: select regions in the\nFLIM phasor space as the \"main\" dimension and correlate with the spectral\nphasor space.\n\nMask the FLIM phasor coordinates of the first channel using cursors:\n\n"
      ]
    },
    {
      "cell_type": "code",
      "execution_count": null,
      "metadata": {
        "collapsed": false
      },
      "outputs": [],
      "source": [
        "flim_cursor_real = [0.35, 0.19, 0.27]\nflim_cursor_imag = [0.44, 0.38, 0.41]\nflim_cursor_radius = 0.05\n\nflim_mask = mask_from_circular_cursor(\n    flim_real[0],\n    flim_imag[0],\n    flim_cursor_real,\n    flim_cursor_imag,\n    radius=flim_cursor_radius,\n)"
      ]
    },
    {
      "cell_type": "markdown",
      "metadata": {},
      "source": [
        "Plot the FLIM phasor and cursors:\n\n"
      ]
    },
    {
      "cell_type": "code",
      "execution_count": null,
      "metadata": {
        "collapsed": false
      },
      "outputs": [],
      "source": [
        "plot = PhasorPlot(\n    frequency=frequency,\n    title='FLIM phasor and cursors (first channel)',\n)\nplot.hist2d(flim_real[0], flim_imag[0], cmap='Grays', bins=200)\nplot.cursor(\n    flim_cursor_real,\n    flim_cursor_imag,\n    radius=flim_cursor_radius,\n    color=CATEGORICAL[:3],\n    linewidth=2,\n)\nplot.show()"
      ]
    },
    {
      "cell_type": "markdown",
      "metadata": {},
      "source": [
        "Display the FLIM pseudo-color image:\n\n"
      ]
    },
    {
      "cell_type": "code",
      "execution_count": null,
      "metadata": {
        "collapsed": false
      },
      "outputs": [],
      "source": [
        "plot_image(\n    pseudo_color(*flim_mask), title='FLIM pseudo-color image (first channel)'\n)"
      ]
    },
    {
      "cell_type": "markdown",
      "metadata": {},
      "source": [
        "Plot the FLIM classified spectral phasor:\n\n"
      ]
    },
    {
      "cell_type": "code",
      "execution_count": null,
      "metadata": {
        "collapsed": false
      },
      "outputs": [],
      "source": [
        "plot = PhasorPlot(\n    xlim=(-0.5, 1.05),\n    ylim=(-0.1, 1.05),\n    allquadrants=True,\n    title='FLIM classified spectral phasor',\n)\n\nfor i in range(flim_mask.shape[0]):\n    plot.plot(\n        spectral_real[flim_mask[i]],\n        spectral_imag[flim_mask[i]],\n        color=CATEGORICAL[i],\n        alpha=0.05,\n        markersize=1,\n    )\n\nplot.show()"
      ]
    },
    {
      "cell_type": "markdown",
      "metadata": {},
      "source": [
        "sphinx_gallery_thumbnail_number = 4\nmypy: allow-untyped-defs, allow-untyped-calls\n\n"
      ]
    }
  ],
  "metadata": {
    "kernelspec": {
      "display_name": "Python 3",
      "language": "python",
      "name": "python3"
    },
    "language_info": {
      "codemirror_mode": {
        "name": "ipython",
        "version": 3
      },
      "file_extension": ".py",
      "mimetype": "text/x-python",
      "name": "python",
      "nbconvert_exporter": "python",
      "pygments_lexer": "ipython3",
      "version": "3.13.7"
    }
  },
  "nbformat": 4,
  "nbformat_minor": 0
}