{
  "cells": [
    {
      "cell_type": "markdown",
      "metadata": {},
      "source": [
        "\n# Phasor coordinates from lifetimes\n\nAn introduction to the `phasor_from_lifetime` function.\n\nThe :py:func:`phasorpy.phasor.phasor_from_lifetime` function is used\nto calculate phasor coordinates as a function of frequency,\nsingle or multiple lifetime components, and the pre-exponential amplitudes\nor fractional intensities of the components.\n"
      ]
    },
    {
      "cell_type": "markdown",
      "metadata": {},
      "source": [
        "Import required modules and functions:\n\n"
      ]
    },
    {
      "cell_type": "code",
      "execution_count": null,
      "metadata": {
        "collapsed": false
      },
      "outputs": [],
      "source": [
        "import numpy\n\nfrom phasorpy.phasor import phasor_from_lifetime, phasor_to_polar\nfrom phasorpy.plot import PhasorPlot, plot_phasor, plot_polar_frequency\n\nrng = numpy.random.default_rng(42)"
      ]
    },
    {
      "cell_type": "markdown",
      "metadata": {},
      "source": [
        "## Single-component lifetimes\n\nThe phasor coordinates of single-component lifetimes are located\non the universal semicircle.\nFor example, 4.0 ns and 1.0 ns at a frequency of 80 MHz:\n\n"
      ]
    },
    {
      "cell_type": "code",
      "execution_count": null,
      "metadata": {
        "collapsed": false
      },
      "outputs": [],
      "source": [
        "frequency = 80.0\nlifetimes = [4.0, 1.0]\n\nplot_phasor(\n    *phasor_from_lifetime(frequency, lifetimes),\n    frequency=frequency,\n    title='Single-component lifetimes',\n)"
      ]
    },
    {
      "cell_type": "markdown",
      "metadata": {},
      "source": [
        "## Multi-component lifetimes\n\nThe phasor coordinates of two lifetime components with varying\nfractional intensities are linear combinations of the coordinates\nof the pure components:\n\n"
      ]
    },
    {
      "cell_type": "code",
      "execution_count": null,
      "metadata": {
        "collapsed": false
      },
      "outputs": [],
      "source": [
        "fractions = numpy.array(\n    [[1, 0], [0.25, 0.75], [0.5, 0.5], [0.75, 0.25], [0, 1]]\n)\n\nplot_phasor(\n    *phasor_from_lifetime(frequency, lifetimes, fractions),\n    linestyle='-',\n    frequency=frequency,\n    title='Multi-component lifetimes',\n)"
      ]
    },
    {
      "cell_type": "markdown",
      "metadata": {},
      "source": [
        "## Pre-exponential amplitudes\n\nThe phasor coordinates of two lifetime components with varying\npre-exponential amplitudes are also located on a line:\n\n"
      ]
    },
    {
      "cell_type": "code",
      "execution_count": null,
      "metadata": {
        "collapsed": false
      },
      "outputs": [],
      "source": [
        "plot_phasor(\n    *phasor_from_lifetime(\n        frequency, lifetimes, fractions, preexponential=True\n    ),\n    linestyle='-',\n    frequency=frequency,\n    title='Pre-exponential amplitudes',\n)"
      ]
    },
    {
      "cell_type": "markdown",
      "metadata": {},
      "source": [
        "## Average of lifetime distributions\n\nThe average phasor coordinates for wider distributions of lifetimes\nlie further inside the universal semicircle compared to the narrower\ndistributions:\n\n"
      ]
    },
    {
      "cell_type": "code",
      "execution_count": null,
      "metadata": {
        "collapsed": false
      },
      "outputs": [],
      "source": [
        "frequency = 80.0\nlifetime = 4.0\nstandard_deviations = [0.1, 0.5, 1.0]\nsamples = 100000\n\nplot = PhasorPlot(\n    frequency=frequency, title='Average of lifetime distributions'\n)\nfor sigma in standard_deviations:\n    phi = numpy.sqrt(sigma * sigma / lifetime)\n    phasor_average = numpy.average(\n        phasor_from_lifetime(\n            frequency, rng.gamma(lifetime / phi, phi, samples)\n        ),\n        axis=1,\n    )\n    plot.plot(*phasor_average, label=f'{sigma=:.1f}')\nplot.show()"
      ]
    },
    {
      "cell_type": "markdown",
      "metadata": {},
      "source": [
        "## Lifetime distributions at multiple frequencies\n\nPhasor coordinates can be calculated at once for many frequencies,\nlifetime components, and their fractions. As an example, random\ndistrinutions of lifetimes and their fractions are plotted at\nthree frequencies.\nLifetimes are passed in units of s and frequencies in Hz, requiring to\nspecify a `unit_conversion` factor:\n\n"
      ]
    },
    {
      "cell_type": "code",
      "execution_count": null,
      "metadata": {
        "collapsed": false
      },
      "outputs": [],
      "source": [
        "samples = 100\nlifetimes = [4.0, 2.0, 1.0]\n\nlifetime_distributions = (\n    numpy.column_stack(\n        [rng.gamma(lifetime / 0.01, 0.01, samples) for lifetime in lifetimes]\n    )\n    * 1e-9\n)\nfraction_distributions = numpy.column_stack(\n    [rng.random(samples) for lifetime in lifetimes]\n)\n\nplot_phasor(\n    *phasor_from_lifetime(\n        frequency=[40e6, 80e6, 160e6],\n        lifetime=lifetime_distributions,\n        fraction=fraction_distributions,\n        unit_conversion=1.0,\n    ),\n    marker='.',\n    label=('40 MHz', '80 MHz', '160 MHz'),\n    title='Lifetime distributions at multiple frequencies',\n)"
      ]
    },
    {
      "cell_type": "markdown",
      "metadata": {},
      "source": [
        "## FRET efficiency\n\nThe phasor coordinates of a fluorescence energy transfer donor\nwith a single lifetime component of 4.0 ns as a function of FRET efficiency\nat a frequency of 80 MHz, with some background signal and about 90 %\nof the donors participating in energy transfer, are on a curved trajectory.\nFor comparison, when 100% donors participate in FRET and there is no\nbackground signal, the phasor coordinates lie on the universal semicircle:\n\n"
      ]
    },
    {
      "cell_type": "code",
      "execution_count": null,
      "metadata": {
        "collapsed": false
      },
      "outputs": [],
      "source": [
        "frequency = 80.0\nsamples = 25\nlifetime = 4.0\nefficiency = numpy.linspace(0.0, 1.0, samples)\n\nlifetime_quenched = lifetime * (1.0 - efficiency)\n\nplot = PhasorPlot(frequency=frequency, title='FRET efficiency')\nplot.plot(\n    *phasor_from_lifetime(frequency, lifetime_quenched),\n    color='k',\n    marker='.',\n    label='100% Donor in FRET',\n)\nplot.plot(\n    *phasor_from_lifetime(\n        frequency,\n        lifetime=numpy.column_stack(\n            (\n                numpy.full(samples, lifetime),  # donor-only lifetime\n                lifetime_quenched,  # donor lifetime with FRET\n                numpy.full(samples, 1e9),  # background with long lifetime\n            )\n        ),\n        fraction=[0.1, 0.9, 0.1 / 1e9],\n        preexponential=True,\n    ),\n    linestyle='-',\n    label='90% Donor in FRET',\n)\nplot.show()"
      ]
    },
    {
      "cell_type": "markdown",
      "metadata": {},
      "source": [
        "## Multi-frequency plot\n\nPhase shift and demodulation of multi-component lifetimes can be calculated\nas a function of the excitation light frequency and fractional intensities:\n\n"
      ]
    },
    {
      "cell_type": "code",
      "execution_count": null,
      "metadata": {
        "collapsed": false
      },
      "outputs": [],
      "source": [
        "frequencies = numpy.logspace(-1, 4, 32)\nlifetimes = [4.0, 1.0]\nfractions = numpy.array([[1, 0], [0.5, 0.5], [0, 1]])\n\nplot_polar_frequency(\n    frequencies,\n    *phasor_to_polar(*phasor_from_lifetime(frequencies, lifetimes, fractions)),\n    title='Multi-frequency plot',\n)"
      ]
    },
    {
      "cell_type": "markdown",
      "metadata": {},
      "source": [
        "sphinx_gallery_thumbnail_number = -2\nmypy: allow-untyped-defs, allow-untyped-calls\nmypy: disable-error-code=\"arg-type\"\n\n"
      ]
    }
  ],
  "metadata": {
    "kernelspec": {
      "display_name": "Python 3",
      "language": "python",
      "name": "python3"
    },
    "language_info": {
      "codemirror_mode": {
        "name": "ipython",
        "version": 3
      },
      "file_extension": ".py",
      "mimetype": "text/x-python",
      "name": "python",
      "nbconvert_exporter": "python",
      "pygments_lexer": "ipython3",
      "version": "3.12.7"
    }
  },
  "nbformat": 4,
  "nbformat_minor": 0
}