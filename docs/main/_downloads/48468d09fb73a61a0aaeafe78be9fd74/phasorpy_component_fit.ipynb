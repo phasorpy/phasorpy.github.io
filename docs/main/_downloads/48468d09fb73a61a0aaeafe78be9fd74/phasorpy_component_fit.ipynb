{
  "cells": [
    {
      "cell_type": "markdown",
      "metadata": {},
      "source": [
        "\n# Multi-component fit\n\nSpectral unmixing using multi-component analysis in phasor space.\n\nThe fluorescent components comprising a fluorescence spectrum can be unmixed\nif the spectra of the individual components are known.\nThis can be achieved by solving a system of linear equations, fitting\nthe fractional contributions of the phasor coordinates of the component spectra\nto the phasor coordinates of the mixture spectrum. Phasor coordinates\nat multiple harmonics may be used to ensure the linear system is not\nunderdetermined.\n\nThis analysis method is demonstrated using a hyperspectral imaging dataset\ncontaining five fluorescent markers as presented in:\n\n  Vallmitjana A, Lepanto P, Irigoin F, and Malacrida L.\n  Phasor-based multi-harmonic unmixing for in-vivo hyperspectral imaging.\n  *Methods Appl Fluoresc*, 11(1): 014001 (2022).\n\nThe dataset is available at https://zenodo.org/records/13625087.\n\nThe spectral unmixing of the five components is performed using phasor\ncoordinates at two harmonics.\n"
      ]
    },
    {
      "cell_type": "markdown",
      "metadata": {},
      "source": [
        "Import required modules, functions, and classes:\n\n"
      ]
    },
    {
      "cell_type": "code",
      "execution_count": null,
      "metadata": {
        "collapsed": false
      },
      "outputs": [],
      "source": [
        "import numpy\nfrom matplotlib import pyplot\n\nfrom phasorpy.components import phasor_component_fit\nfrom phasorpy.datasets import fetch\nfrom phasorpy.io import signal_from_lsm\nfrom phasorpy.phasor import (\n    phasor_center,\n    phasor_filter_median,\n    phasor_from_signal,\n    phasor_threshold,\n)\nfrom phasorpy.plot import PhasorPlot, plot_image, plot_signal_image"
      ]
    },
    {
      "cell_type": "markdown",
      "metadata": {},
      "source": [
        "Define dataset and processing parameters:\n\n"
      ]
    },
    {
      "cell_type": "code",
      "execution_count": null,
      "metadata": {
        "collapsed": false
      },
      "outputs": [],
      "source": [
        "# hyperspectral image containing of all five components\nsamplefile = '38_Hoechst_Golgi_Mito_Lyso_CellMAsk_404_488_561_633_SP.lsm'\n\n# hyperspectral images of individual components\ncomponents = {\n    'Hoechst': 'spectral hoehst.lsm',\n    'LysoTracker': 'spectral lyso tracker green.lsm',\n    'Golgi': 'spectral golgi.lsm',\n    'MitoTracker': 'spectral mito tracker.lsm',\n    'CellMask': 'spectral cell mask.lsm',\n}\n\n# analysis parameters\nharmonic = [1, 2]  # which harmonics to use for analysis\nmedian_size = 5  # size of median filter window\nmedian_repeat = 3  # number of times to apply median filter\nthreshold = 3  # minimum signal threshold"
      ]
    },
    {
      "cell_type": "markdown",
      "metadata": {},
      "source": [
        "## Individual components\n\nCalculate and plot phasor coordinates for each component and harmonic.\nFor each component:\n\n1. Load spectral data and calculate phasor coordinates\n2. Apply median filtering to reduce noise\n3. Apply threshold to remove low-intensity pixels\n4. Calculate center coordinates using mean method\n5. Plot in phasor space\n\n"
      ]
    },
    {
      "cell_type": "code",
      "execution_count": null,
      "metadata": {
        "collapsed": false
      },
      "outputs": [],
      "source": [
        "num_harmonics = len(harmonic)\nnum_components = len(components)\ncomponent_real = numpy.zeros((num_harmonics, num_components))\ncomponent_imag = numpy.zeros((num_harmonics, num_components))\ncomponent_mean = []\n\nfig, axs = pyplot.subplots(\n    num_harmonics, 1, figsize=(4.8, num_harmonics * 4.8)\n)\nfig.suptitle('Components')\n\nfor i, (name, filename) in enumerate(components.items()):\n    mean, real, imag = phasor_from_signal(\n        signal_from_lsm(fetch(filename)), axis=0, harmonic=harmonic\n    )\n    mean, real, imag = phasor_filter_median(\n        mean, real, imag, size=median_size, repeat=median_repeat\n    )\n    mean, real, imag = phasor_threshold(mean, real, imag, mean_min=threshold)\n    mean, center_real, center_imag = phasor_center(\n        mean, real, imag, method='mean'\n    )\n    component_mean.append(mean)\n    component_real[:, i] = center_real\n    component_imag[:, i] = center_imag\n\n    for j in range(num_harmonics):\n        plot = PhasorPlot(\n            ax=axs[j], allquadrants=True, title=f'Harmonic {harmonic[j]}'\n        )\n        plot.hist2d(real[j], imag[j], cmap='Greys')\n        plot.plot(center_real[j], center_imag[j], label=name, markersize=10)\n        plot.ax.legend(loc='right').set_visible(j == 0)\nfig.tight_layout()\nfig.show()"
      ]
    },
    {
      "cell_type": "markdown",
      "metadata": {},
      "source": [
        "## Component mixture\n\nRead the mixture sample image containing all markers and visualize the\nraw spectral data:\n\n"
      ]
    },
    {
      "cell_type": "code",
      "execution_count": null,
      "metadata": {
        "collapsed": false
      },
      "outputs": [],
      "source": [
        "signal = signal_from_lsm(fetch(samplefile))\n\nplot_signal_image(signal, title='Component mixture')"
      ]
    },
    {
      "cell_type": "markdown",
      "metadata": {},
      "source": [
        "Calculate and plot phasor coordinates for the component mixture:\n\n"
      ]
    },
    {
      "cell_type": "code",
      "execution_count": null,
      "metadata": {
        "collapsed": false
      },
      "outputs": [],
      "source": [
        "mean, real, imag = phasor_from_signal(signal, axis=0, harmonic=harmonic)\nmean, real, imag = phasor_filter_median(\n    mean, real, imag, size=median_size, repeat=median_repeat\n)\n# optional: apply threshold to remove low-intensity pixels\n# mean, real, imag = phasor_threshold(mean, real, imag, mean_min=threshold)\n\nfig, axs = pyplot.subplots(\n    num_harmonics, 1, figsize=(4.8, num_harmonics * 4.8)\n)\nfig.suptitle('Component mixture')\nfor i in range(num_harmonics):\n    plot = PhasorPlot(\n        ax=axs[i], allquadrants=True, title=f'Harmonic {harmonic[i]}'\n    )\n    plot.hist2d(real[i], imag[i], cmap='Greys')\n    for j, name in enumerate(components):\n        plot.plot(\n            component_real[i, j],\n            component_imag[i, j],\n            label=name,\n            markersize=10,\n        )\n    plot.ax.legend(loc='right').set_visible(i == 0)\nfig.tight_layout()\nfig.show()"
      ]
    },
    {
      "cell_type": "markdown",
      "metadata": {},
      "source": [
        "## Fractions of components in mixture\n\nFit fractions of each component to the phasor coordinates at each pixel\nof the mixture and plot the component fraction images:\n\n"
      ]
    },
    {
      "cell_type": "code",
      "execution_count": null,
      "metadata": {
        "collapsed": false
      },
      "outputs": [],
      "source": [
        "fractions = phasor_component_fit(\n    mean, real, imag, component_real, component_imag\n)\n\nplot_image(\n    mean / mean.max(),\n    *fractions,\n    title='Fractions of components in mixture',\n    labels=['Mixture'] + list(components.keys()),\n    vmin=0,\n    vmax=1,\n)"
      ]
    },
    {
      "cell_type": "markdown",
      "metadata": {},
      "source": [
        "Plot the intensity of each component in the mixture:\n\n"
      ]
    },
    {
      "cell_type": "code",
      "execution_count": null,
      "metadata": {
        "collapsed": false
      },
      "outputs": [],
      "source": [
        "plot_image(\n    mean,\n    *(f * mean for f in fractions),\n    title='Intensity of components in mixture',\n    labels=['Mixture'] + list(components.keys()),\n    vmin=0,\n    vmax=mean.max(),\n)"
      ]
    },
    {
      "cell_type": "markdown",
      "metadata": {},
      "source": [
        "sphinx_gallery_thumbnail_number = -2\nmypy: allow-untyped-defs, allow-untyped-calls\n\n"
      ]
    }
  ],
  "metadata": {
    "kernelspec": {
      "display_name": "Python 3",
      "language": "python",
      "name": "python3"
    },
    "language_info": {
      "codemirror_mode": {
        "name": "ipython",
        "version": 3
      },
      "file_extension": ".py",
      "mimetype": "text/x-python",
      "name": "python",
      "nbconvert_exporter": "python",
      "pygments_lexer": "ipython3",
      "version": "3.12.11"
    }
  },
  "nbformat": 4,
  "nbformat_minor": 0
}