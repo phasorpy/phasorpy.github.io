{
  "cells": [
    {
      "cell_type": "markdown",
      "metadata": {},
      "source": [
        "\n# Multi-harmonic phasor coordinates\n\nAn introduction to handling multi-harmonic phasor coordinates.\n\nThis tutorial is an adaptation of\n`sphx_glr_tutorials_phasorpy_introduction.py`, focusing on the\ncalculation, calibration, filtering, thresholding, storage, and visualization\nof multi-harmonic phasor coordinates.\n"
      ]
    },
    {
      "cell_type": "markdown",
      "metadata": {},
      "source": [
        "Import required modules and functions:\n\n"
      ]
    },
    {
      "cell_type": "code",
      "execution_count": null,
      "metadata": {
        "collapsed": false
      },
      "outputs": [],
      "source": [
        "import numpy\n\nfrom phasorpy.datasets import fetch\nfrom phasorpy.io import (\n    phasor_from_ometiff,\n    phasor_to_ometiff,\n    signal_from_imspector_tiff,\n)\nfrom phasorpy.lifetime import phasor_calibrate\nfrom phasorpy.phasor import (\n    phasor_filter_median,\n    phasor_from_signal,\n    phasor_threshold,\n)\nfrom phasorpy.plot import plot_phasor"
      ]
    },
    {
      "cell_type": "markdown",
      "metadata": {},
      "source": [
        "## Read signal from file\n\nRead a time-correlated single photon counting (TCSPC) histogram,\nacquired at 80.11 MHz, from a file:\n\n"
      ]
    },
    {
      "cell_type": "code",
      "execution_count": null,
      "metadata": {
        "collapsed": false
      },
      "outputs": [],
      "source": [
        "signal = signal_from_imspector_tiff(fetch('Embryo.tif'))\nfrequency = signal.attrs['frequency']"
      ]
    },
    {
      "cell_type": "markdown",
      "metadata": {},
      "source": [
        "## Calculate phasor coordinates\n\nPhasor coordinates at multiple harmonics can be calculated at once\nfrom the signal. The histogram samples are in the first dimension of the\nsignal (`axis=0`).\nThe first and second harmonics are calculated in this example:\n\n"
      ]
    },
    {
      "cell_type": "code",
      "execution_count": null,
      "metadata": {
        "collapsed": false
      },
      "outputs": [],
      "source": [
        "mean, real, imag = phasor_from_signal(signal, harmonic=[1, 2], axis=0)"
      ]
    },
    {
      "cell_type": "markdown",
      "metadata": {},
      "source": [
        "The two harmonics are in the first dimension of the phasor coordinates,\n`real` and `imag`:\n\n"
      ]
    },
    {
      "cell_type": "code",
      "execution_count": null,
      "metadata": {
        "collapsed": false
      },
      "outputs": [],
      "source": [
        "print(mean.shape, real.shape, imag.shape)"
      ]
    },
    {
      "cell_type": "markdown",
      "metadata": {},
      "source": [
        "Plot the calculated phasor coordinates:\n\n"
      ]
    },
    {
      "cell_type": "code",
      "execution_count": null,
      "metadata": {
        "collapsed": false
      },
      "outputs": [],
      "source": [
        "from phasorpy.plot import plot_phasor_image\n\nplot_phasor_image(mean, real, imag, title='Sample')"
      ]
    },
    {
      "cell_type": "markdown",
      "metadata": {},
      "source": [
        "To calculate all harmonics, use ``harmonic='all'``:\n\n"
      ]
    },
    {
      "cell_type": "code",
      "execution_count": null,
      "metadata": {
        "collapsed": false
      },
      "outputs": [],
      "source": [
        "_ = phasor_from_signal(signal, harmonic='all', axis=0)"
      ]
    },
    {
      "cell_type": "markdown",
      "metadata": {},
      "source": [
        "## Calibrate phasor coordinates\n\nA homogeneous solution of Fluorescein with a fluorescence lifetime of 4.2 ns\nwas imaged as a reference for calibration:\n\n"
      ]
    },
    {
      "cell_type": "code",
      "execution_count": null,
      "metadata": {
        "collapsed": false
      },
      "outputs": [],
      "source": [
        "reference_signal = signal_from_imspector_tiff(fetch('Fluorescein_Embryo.tif'))\nassert reference_signal.attrs['frequency'] == frequency"
      ]
    },
    {
      "cell_type": "markdown",
      "metadata": {},
      "source": [
        "Calculate phasor coordinates from the measured reference signal at\nthe first and second harmonics:\n\n"
      ]
    },
    {
      "cell_type": "code",
      "execution_count": null,
      "metadata": {
        "collapsed": false
      },
      "outputs": [],
      "source": [
        "reference_mean, reference_real, reference_imag = phasor_from_signal(\n    reference_signal, harmonic=[1, 2], axis=0\n)"
      ]
    },
    {
      "cell_type": "markdown",
      "metadata": {},
      "source": [
        "Calibration can be performed at all harmonics simultaneously. Calibrate the\nraw phasor coordinates with the reference coordinates of known lifetime\n(4.2 ns), at the first and second harmonics:\n\n"
      ]
    },
    {
      "cell_type": "code",
      "execution_count": null,
      "metadata": {
        "collapsed": false
      },
      "outputs": [],
      "source": [
        "real, imag = phasor_calibrate(\n    real,\n    imag,\n    reference_mean,\n    reference_real,\n    reference_imag,\n    frequency=frequency,\n    harmonic=[1, 2],\n    lifetime=4.2,\n)"
      ]
    },
    {
      "cell_type": "markdown",
      "metadata": {},
      "source": [
        "If necessary, the calibration can be undone/reversed using the\nsame reference:\n\n"
      ]
    },
    {
      "cell_type": "code",
      "execution_count": null,
      "metadata": {
        "collapsed": false
      },
      "outputs": [],
      "source": [
        "uncalibrated_real, uncalibrated_imag = phasor_calibrate(\n    real,\n    imag,\n    reference_mean,\n    reference_real,\n    reference_imag,\n    frequency=frequency,\n    harmonic=[1, 2],\n    lifetime=4.2,\n    reverse=True,\n)\n\nnumpy.testing.assert_allclose(\n    (uncalibrated_real, uncalibrated_imag),\n    phasor_from_signal(signal, harmonic=[1, 2], axis=0)[1:],\n    atol=1e-3,\n)"
      ]
    },
    {
      "cell_type": "markdown",
      "metadata": {},
      "source": [
        "## Filter phasor coordinates\n\nApplying median filter to the calibrated phasor coordinates,\noften multiple times, improves contrast and reduces noise.\nThe filter is applied independently to the real and imaginary components\nof the harmonics, but not to the average signal:\n\n"
      ]
    },
    {
      "cell_type": "code",
      "execution_count": null,
      "metadata": {
        "collapsed": false
      },
      "outputs": [],
      "source": [
        "mean, real, imag = phasor_filter_median(mean, real, imag, size=3, repeat=2)"
      ]
    },
    {
      "cell_type": "markdown",
      "metadata": {},
      "source": [
        "Pixels with low intensities are commonly excluded from analysis and\nvisualization of phasor coordinates:\n\n"
      ]
    },
    {
      "cell_type": "code",
      "execution_count": null,
      "metadata": {
        "collapsed": false
      },
      "outputs": [],
      "source": [
        "mean, real, imag = phasor_threshold(mean, real, imag, mean_min=1)"
      ]
    },
    {
      "cell_type": "markdown",
      "metadata": {},
      "source": [
        "Show the calibrated, filtered phasor coordinates:\n\n"
      ]
    },
    {
      "cell_type": "code",
      "execution_count": null,
      "metadata": {
        "collapsed": false
      },
      "outputs": [],
      "source": [
        "plot_phasor_image(\n    mean, real, imag, title='Calibrated, filtered phasor coordinates'\n)"
      ]
    },
    {
      "cell_type": "markdown",
      "metadata": {},
      "source": [
        "## Store phasor coordinates\n\nWrite the calibrated and filtered phasor coordinates at multiple harmonics,\nand the fundamental frequency to an OME-TIFF file:\n\n"
      ]
    },
    {
      "cell_type": "code",
      "execution_count": null,
      "metadata": {
        "collapsed": false
      },
      "outputs": [],
      "source": [
        "phasor_to_ometiff(\n    'phasors.ome.tif',\n    mean,\n    real,\n    imag,\n    frequency=frequency,\n    harmonic=[1, 2],\n    description=(\n        'Phasor coordinates at first and second harmonics of a zebrafish '\n        'embryo at day 3, calibrated, median-filtered, and thresholded.'\n    ),\n)"
      ]
    },
    {
      "cell_type": "markdown",
      "metadata": {},
      "source": [
        "Read the phasor coordinates and metadata back from the OME-TIFF file:\n\n"
      ]
    },
    {
      "cell_type": "code",
      "execution_count": null,
      "metadata": {
        "collapsed": false
      },
      "outputs": [],
      "source": [
        "mean_, real_, imag_, attrs = phasor_from_ometiff(\n    'phasors.ome.tif', harmonic='all'\n)\n\nnumpy.allclose(real_, real)\nassert real_.dtype == numpy.float32\nassert attrs['frequency'] == frequency\nassert attrs['harmonic'] == [1, 2]\nassert attrs['description'].startswith(\n    'Phasor coordinates at first and second harmonics'\n)"
      ]
    },
    {
      "cell_type": "markdown",
      "metadata": {},
      "source": [
        "## Plot phasor coordinates\n\nVisualize the two-dimensional histogram of the calibrated and filtered\nphasor coordinates at the second harmonic:\n\n"
      ]
    },
    {
      "cell_type": "code",
      "execution_count": null,
      "metadata": {
        "collapsed": false
      },
      "outputs": [],
      "source": [
        "plot_phasor(\n    real[1],\n    imag[1],\n    frequency=frequency,\n    title='Calibrated, filtered phasor coordinates at second harmonic',\n)"
      ]
    },
    {
      "cell_type": "markdown",
      "metadata": {},
      "source": [
        "For comparison, the uncalibrated, unfiltered phasor coordinates at the\nsecond harmonic:\n\n"
      ]
    },
    {
      "cell_type": "code",
      "execution_count": null,
      "metadata": {
        "collapsed": false
      },
      "outputs": [],
      "source": [
        "plot_phasor(\n    uncalibrated_real[1],\n    uncalibrated_imag[1],\n    frequency=frequency,\n    allquadrants=True,\n    title='Raw phasor coordinates at second harmonic',\n)"
      ]
    },
    {
      "cell_type": "markdown",
      "metadata": {},
      "source": [
        "## Component analysis\n\n"
      ]
    },
    {
      "cell_type": "code",
      "execution_count": null,
      "metadata": {
        "collapsed": false
      },
      "outputs": [],
      "source": [
        "# TODO"
      ]
    },
    {
      "cell_type": "markdown",
      "metadata": {},
      "source": [
        "sphinx_gallery_thumbnail_number = -1\nmypy: allow-untyped-defs, allow-untyped-calls\nmypy: disable-error-code=\"arg-type\"\n\n"
      ]
    }
  ],
  "metadata": {
    "kernelspec": {
      "display_name": "Python 3",
      "language": "python",
      "name": "python3"
    },
    "language_info": {
      "codemirror_mode": {
        "name": "ipython",
        "version": 3
      },
      "file_extension": ".py",
      "mimetype": "text/x-python",
      "name": "python",
      "nbconvert_exporter": "python",
      "pygments_lexer": "ipython3",
      "version": "3.13.5"
    }
  },
  "nbformat": 4,
  "nbformat_minor": 0
}