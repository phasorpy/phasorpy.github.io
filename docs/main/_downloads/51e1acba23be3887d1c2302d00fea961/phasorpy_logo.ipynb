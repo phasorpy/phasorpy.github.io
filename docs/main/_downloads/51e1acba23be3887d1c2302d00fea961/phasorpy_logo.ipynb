{
  "cells": [
    {
      "cell_type": "markdown",
      "metadata": {},
      "source": [
        "\n# PhasorPy Logo\n\nRender the PhasorPy logo.\n\nThis script generates the PhasorPy logo using the PhasorPy library and\nmatplotlib.\nThe schematic logo shows a universal semicircle and the phasor coordinates of\na mixture of two lifetime components. The corresponding time-domain signal is\nshown in an inset. An arrow is drawn between the time-domain signal and\nphasor coordinates to indicate the phasor transformation.\nThe logo is scalable and works with white and dark backgrounds.\n"
      ]
    },
    {
      "cell_type": "markdown",
      "metadata": {},
      "source": [
        "Import required modules and define functions:\n\n"
      ]
    },
    {
      "cell_type": "code",
      "execution_count": null,
      "metadata": {
        "collapsed": false
      },
      "outputs": [],
      "source": [
        "from matplotlib import pyplot\n\nfrom phasorpy.lifetime import lifetime_to_signal, phasor_from_lifetime\nfrom phasorpy.plot import PhasorPlot"
      ]
    },
    {
      "cell_type": "markdown",
      "metadata": {},
      "source": [
        "Create data for the logo:\n\n"
      ]
    },
    {
      "cell_type": "code",
      "execution_count": null,
      "metadata": {
        "collapsed": false
      },
      "outputs": [],
      "source": [
        "frequency = 80.0  # MHz\nlifetime = 0.5, 5.0  # ns\nfraction = 0.6, 0.4\n\nsignal, irf, times = lifetime_to_signal(\n    frequency * 4,  # spread out the decay\n    lifetime,\n    fraction,\n    mean=1.0,\n    samples=256,  # smooth\n    zero_phase=1.1,\n    zero_stdev=0.25,\n)\nsignal /= signal.max()\n\ncenter = phasor_from_lifetime(frequency, lifetime, fraction)\nphasor = phasor_from_lifetime(frequency, lifetime)"
      ]
    },
    {
      "cell_type": "markdown",
      "metadata": {},
      "source": [
        "Create the PhasorPy logo and save it as a scalable vector graphics (SVG)\nfile:\n\n"
      ]
    },
    {
      "cell_type": "code",
      "execution_count": null,
      "metadata": {
        "collapsed": false
      },
      "outputs": [],
      "source": [
        "scale = 1.2  # scale factor for lines and markers\nphasor_color = 'tab:blue'\nsignal_color = 'tab:green'\n\nfig, ax = pyplot.subplots(figsize=(6.4, 4.2))\nax.set_axis_off()\n\nplot = PhasorPlot(\n    ax=ax,\n    frequency=frequency,\n    grid=False,\n    allquadrants=False,\n    title='',\n    xlim=(-0.04, 1.04),\n    ylim=(-0.15, 0.55),\n)\n\nplot.semicircle(lw=15 * scale, ls='-', color=phasor_color, capstyle='round')\n\n# draw marker at phasor coordinates\nplot.plot(\n    *center,\n    marker='o',\n    markersize=45 * scale,\n    markeredgewidth=15 * scale,\n    markeredgecolor=phasor_color,\n    markerfacecolor='None',\n    zorder=3,\n)\n\n# draw arrow indicating phasor transformation\npoint = 0.4, 0.13\nlength = 0.66\nplot.arrow(\n    point,\n    (\n        point[0] + length * (center[0] - point[0]),\n        point[1] + length * (center[1] - point[1]),\n    ),\n    color='tab:orange',\n    lw=15 * scale,\n    zorder=5,\n    angle=0.0,\n    mutation_scale=66,\n)\n\n# draw time-domain signal in inset\ncax = ax.inset_axes((0.005, 0.0, 0.99, 0.66))\ncax.set_axis_off()\ncax.set_ylim((0.02, 1.1))\ncax.plot(\n    times,\n    signal,\n    '-',\n    lw=15 * scale,\n    solid_capstyle='round',\n    color=signal_color,\n)\npyplot.tight_layout(pad=0.0, w_pad=0.0, h_pad=0.0)\n\n# save the logo to a SVG file:\nplot.save('phasorpy_logo.svg', dpi=200, transparent=True, bbox_inches='tight')\nplot.show()"
      ]
    }
  ],
  "metadata": {
    "kernelspec": {
      "display_name": "Python 3",
      "language": "python",
      "name": "python3"
    },
    "language_info": {
      "codemirror_mode": {
        "name": "ipython",
        "version": 3
      },
      "file_extension": ".py",
      "mimetype": "text/x-python",
      "name": "python",
      "nbconvert_exporter": "python",
      "pygments_lexer": "ipython3",
      "version": "3.13.5"
    }
  },
  "nbformat": 4,
  "nbformat_minor": 0
}