{
  "cells": [
    {
      "cell_type": "markdown",
      "metadata": {},
      "source": [
        "\n# PhasorPy logo\n\nRender the PhasorPy logo.\n\nThis script generates the PhasorPy logo using the PhasorPy library and\nmatplotlib.\nThe schematic logo shows a universal semicircle and the phasor coordinates of\na mixture of two lifetime components. The corresponding time-domain and\nfirst harmonic signals are shown in insets. An optional arrow is drawn\nbetween the time-domain signal and phasor coordinates to indicate the\nphasor transformation.\nThe logo is scalable, works with white and dark backgrounds, and can be\ncropped to a circle.\n"
      ]
    },
    {
      "cell_type": "markdown",
      "metadata": {},
      "source": [
        "Import required modules and define functions:\n\n"
      ]
    },
    {
      "cell_type": "code",
      "execution_count": null,
      "metadata": {
        "collapsed": false
      },
      "outputs": [],
      "source": [
        "from matplotlib import pyplot\n\nfrom phasorpy.lifetime import lifetime_to_signal, phasor_from_lifetime\nfrom phasorpy.phasor import phasor_from_signal, phasor_to_signal\nfrom phasorpy.plot import PhasorPlot"
      ]
    },
    {
      "cell_type": "markdown",
      "metadata": {},
      "source": [
        "Create signals and phasor coordinates for the logo:\n\n"
      ]
    },
    {
      "cell_type": "code",
      "execution_count": null,
      "metadata": {
        "collapsed": false
      },
      "outputs": [],
      "source": [
        "frequency = 80.0  # MHz\nlifetime = 0.5, 5.0  # ns\nfraction = 0.6, 0.4\nsamples = 256  # number of signal samples\n\nsignal, irf, times = lifetime_to_signal(\n    frequency * 4,  # spread out the decay\n    lifetime,\n    fraction,\n    mean=1.0,\n    samples=samples,\n    zero_phase=1.1,\n    zero_stdev=0.25,\n)\nsignal /= signal.max()\n\nphasor = phasor_from_lifetime(frequency, lifetime, fraction)\nharmonic = phasor_to_signal(*phasor_from_signal(signal), samples=samples)\nharmonic /= harmonic.max()"
      ]
    },
    {
      "cell_type": "markdown",
      "metadata": {},
      "source": [
        "Create the PhasorPy logo and save it as a scalable vector graphics (SVG)\nfile:\n\n"
      ]
    },
    {
      "cell_type": "code",
      "execution_count": null,
      "metadata": {
        "collapsed": false
      },
      "outputs": [],
      "source": [
        "phasor_color = 'tab:blue'\nsignal_color = 'tab:orange'\nharmonic_color = 'tab:green'\narrow_color = None  # set to show arrow\noutline_color = None  # set to show outline\nlinewidth = 20\n\nfig, ax = pyplot.subplots(figsize=(6.4, 6.4))\nax.set_axis_off()\n\nplot = PhasorPlot(\n    ax=ax,\n    frequency=frequency,\n    grid=False,\n    allquadrants=False,\n    title='',\n    xlim=(-0.04, 1.04),\n    ylim=(-0.55, 0.55),\n)\n\nplot.semicircle(lw=linewidth, ls='-', color=phasor_color, capstyle='round')\n\n# draw marker at phasor coordinate of mixture\nplot.plot(\n    *phasor,\n    marker='o',\n    markersize=3 * linewidth,\n    markeredgewidth=linewidth,\n    markeredgecolor=phasor_color,\n    markerfacecolor='None',\n    zorder=3,\n)\n\n# draw time-domain signal in inset\ncax = ax.inset_axes((0.015, 0.32, 0.97, 0.45))\ncax.set_ylim((0.02, 1.1))\ncax.set_axis_off()\ncax.plot(\n    times,\n    signal,\n    '-',\n    linewidth=linewidth,\n    solid_capstyle='round',\n    color=signal_color,\n)\n\n# draw harmonics in second inset\ncax = ax.inset_axes((0.125, 0.105, 0.75, 0.25))\ncax.set_ylim(-0.05, 1.1)\ncax.set_axis_off()\ncax.plot(\n    times,\n    harmonic,\n    '-',\n    linewidth=linewidth,\n    solid_capstyle='round',\n    color=harmonic_color,\n)\n\n# draw arrow indicating phasor transformation\nif arrow_color is not None:\n    point = 0.28, -0.04\n    length = 0.4, 0.77\n    plot.arrow(\n        (\n            point[0] + length[0] * (phasor[0] - point[0]),\n            point[1] + length[0] * (phasor[1] - point[1]),\n        ),\n        (\n            point[0] + length[1] * (phasor[0] - point[0]),\n            point[1] + length[1] * (phasor[1] - point[1]),\n        ),\n        color=arrow_color,\n        linewidth=linewidth,\n        mutation_scale=55,\n        zorder=5,\n        angle=0.0,\n    )\n\n# draw circle outline\nif outline_color is not None:\n    plot.circle(\n        0.5,\n        0.0,\n        0.5,\n        linestyle='-',\n        linewidth=linewidth,\n        color=outline_color,\n        fill=False,\n    )\n\npyplot.tight_layout(pad=0.0, w_pad=0.0, h_pad=0.0)\n\n# save the figure to a SVG file:\nplot.save('phasorpy_logo.svg', dpi=160, transparent=True, bbox_inches='tight')\nplot.show()"
      ]
    },
    {
      "cell_type": "markdown",
      "metadata": {},
      "source": [
        "mypy: disable-error-code=\"unreachable\"\n\n"
      ]
    }
  ],
  "metadata": {
    "kernelspec": {
      "display_name": "Python 3",
      "language": "python",
      "name": "python3"
    },
    "language_info": {
      "codemirror_mode": {
        "name": "ipython",
        "version": 3
      },
      "file_extension": ".py",
      "mimetype": "text/x-python",
      "name": "python",
      "nbconvert_exporter": "python",
      "pygments_lexer": "ipython3",
      "version": "3.13.5"
    }
  },
  "nbformat": 4,
  "nbformat_minor": 0
}