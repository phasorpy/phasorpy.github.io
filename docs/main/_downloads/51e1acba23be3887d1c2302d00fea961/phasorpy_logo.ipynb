{
  "cells": [
    {
      "cell_type": "markdown",
      "metadata": {},
      "source": [
        "\n# PhasorPy logo\n\nRender the PhasorPy logo.\n\nThis script generates the PhasorPy logo using the PhasorPy library and\nmatplotlib.\nThe schematic logo shows a universal semicircle and a cursor around the\nphasor coordinates of a mixture of two lifetime components.\nThe corresponding time-domain and first harmonic signals are shown in insets.\nAn optional arrow is drawn between the time-domain signal and phasor\ncoordinates to indicate the phasor transformation.\nThe logo is scalable, works with white and dark backgrounds, and can be\ncropped to a circle.\n"
      ]
    },
    {
      "cell_type": "markdown",
      "metadata": {},
      "source": [
        "Import required modules and define functions:\n\n"
      ]
    },
    {
      "cell_type": "code",
      "execution_count": null,
      "metadata": {
        "collapsed": false
      },
      "outputs": [],
      "source": [
        "from matplotlib import pyplot\n\nfrom phasorpy.lifetime import lifetime_to_signal, phasor_from_lifetime\nfrom phasorpy.phasor import phasor_from_signal, phasor_to_signal\nfrom phasorpy.plot import PhasorPlot"
      ]
    },
    {
      "cell_type": "markdown",
      "metadata": {},
      "source": [
        "Create signals and phasor coordinates for the logo:\n\n"
      ]
    },
    {
      "cell_type": "code",
      "execution_count": null,
      "metadata": {
        "collapsed": false
      },
      "outputs": [],
      "source": [
        "frequency = 80.0  # MHz\nlifetime = [0.5, 6.0]  # ns\nfraction = [0.66, 0.34]\nsamples = 256  # number of signal samples\n\nsignal, irf, times = lifetime_to_signal(\n    frequency * 4,  # spread out the decay\n    lifetime,\n    fraction,\n    samples=samples,\n    zero_phase=1.2,\n    zero_stdev=0.25,\n)\nsignal /= signal.max()\n\nphasor = phasor_from_lifetime(frequency, lifetime, fraction)\nharmonic = phasor_to_signal(*phasor_from_signal(signal), samples=samples)\nharmonic /= harmonic.max()"
      ]
    },
    {
      "cell_type": "markdown",
      "metadata": {},
      "source": [
        "Create the PhasorPy logo and save it as a scalable vector graphics (SVG)\nfile:\n\n"
      ]
    },
    {
      "cell_type": "code",
      "execution_count": null,
      "metadata": {
        "collapsed": false
      },
      "outputs": [],
      "source": [
        "semicircle_color = 'tab:blue'\ncursor_color = 'tab:blue'\nsignal_color = 'tab:orange'\nharmonic_color = 'tab:green'\narrow_color = None  # set to show arrow\nbackground_color = None  # set to fill circle\nlinewidth = 25\n\nfig, ax = pyplot.subplots(figsize=(6.4, 6.4))\nax.set_axis_off()\n\nplot = PhasorPlot(ax=ax, xlim=(-0.04, 1.04), ylim=(-0.55, 0.55), title=None)\n\nplot.semicircle(\n    frequency=frequency,\n    lifetime=[],  # turn off ticks\n    color=semicircle_color,\n    linewidth=linewidth,\n    capstyle='round',\n)\n\n# draw cursor around phasor coordinate of mixture\nplot.cursor(*phasor, radius=0.08, linewidth=linewidth, color=cursor_color)\n\n# draw time-domain signal in inset\ncax = ax.inset_axes((0.015, 0.325, 0.97, 0.45))\ncax.set_ylim(0.02, 1.1)\ncax.set_axis_off()\ncax.plot(\n    times,\n    signal,\n    '-',\n    color=signal_color,\n    linewidth=linewidth,\n    solid_capstyle='round',\n)\n\n# draw harmonics in second inset\ncax = ax.inset_axes((0.125, 0.113, 0.75, 0.25))\ncax.set_ylim(-0.11, 1.14)\ncax.set_axis_off()\ncax.plot(\n    times,\n    harmonic,\n    '-',\n    color=harmonic_color,\n    linewidth=linewidth,\n    solid_capstyle='round',\n)\n\n# draw arrow indicating phasor transformation\nif arrow_color is not None:\n    point = 0.28, -0.04\n    length = 0.46, 0.74\n    plot.arrow(\n        [\n            point[0] + length[0] * (phasor[0] - point[0]),\n            point[1] + length[0] * (phasor[1] - point[1]),\n        ],\n        [\n            point[0] + length[1] * (phasor[0] - point[0]),\n            point[1] + length[1] * (phasor[1] - point[1]),\n        ],\n        color=arrow_color,\n        linewidth=linewidth,\n    )\n\n# draw circle outline\nif background_color is not None:\n    plot.circle(\n        0.5,\n        0.0,\n        0.5,\n        color=background_color,\n        linewidth=linewidth,\n        linestyle='-',\n        fill=True,\n        zorder=0,\n    )\n\npyplot.tight_layout(pad=0.0, w_pad=0.0, h_pad=0.0)\n\n# save the figure to a SVG file:\nplot.save('phasorpy_logo.svg', dpi=160, transparent=True, bbox_inches='tight')\nplot.show()"
      ]
    },
    {
      "cell_type": "markdown",
      "metadata": {},
      "source": [
        "mypy: disable-error-code=\"unreachable\"\n\n"
      ]
    }
  ],
  "metadata": {
    "kernelspec": {
      "display_name": "Python 3",
      "language": "python",
      "name": "python3"
    },
    "language_info": {
      "codemirror_mode": {
        "name": "ipython",
        "version": 3
      },
      "file_extension": ".py",
      "mimetype": "text/x-python",
      "name": "python",
      "nbconvert_exporter": "python",
      "pygments_lexer": "ipython3",
      "version": "3.13.6"
    }
  },
  "nbformat": 4,
  "nbformat_minor": 0
}