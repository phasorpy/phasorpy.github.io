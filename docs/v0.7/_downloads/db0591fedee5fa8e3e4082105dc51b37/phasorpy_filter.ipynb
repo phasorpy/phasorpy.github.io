{
  "cells": [
    {
      "cell_type": "markdown",
      "metadata": {},
      "source": [
        "\n# Filter phasor coordinates\n\nFunctions for filtering phasor coordinates.\n\nFiltering phasor coordinates improves signal quality by reducing noise while\npreserving relevant features. Two of the most common methods for filtering\ninclude the median and wavelet filtering.\n"
      ]
    },
    {
      "cell_type": "markdown",
      "metadata": {},
      "source": [
        "Import required modules and functions:\n\n"
      ]
    },
    {
      "cell_type": "code",
      "execution_count": null,
      "metadata": {
        "collapsed": false
      },
      "outputs": [],
      "source": [
        "from phasorpy.datasets import fetch\nfrom phasorpy.io import signal_from_imspector_tiff\nfrom phasorpy.lifetime import phasor_calibrate\nfrom phasorpy.phasor import (\n    phasor_filter_median,\n    phasor_filter_pawflim,\n    phasor_from_signal,\n    phasor_threshold,\n)\nfrom phasorpy.plot import plot_image, plot_phasor"
      ]
    },
    {
      "cell_type": "markdown",
      "metadata": {},
      "source": [
        "## Get calibrated phasor coordinates\n\nRead a time-correlated single photon counting (TCSPC) histogram from a file.\nA homogeneous solution of Fluorescein (4.2 ns) was imaged as a reference:\n\n"
      ]
    },
    {
      "cell_type": "code",
      "execution_count": null,
      "metadata": {
        "collapsed": false
      },
      "outputs": [],
      "source": [
        "signal = signal_from_imspector_tiff(fetch('Embryo.tif'))\nfrequency = signal.attrs['frequency']\n\nreference_signal = signal_from_imspector_tiff(fetch('Fluorescein_Embryo.tif'))\nassert reference_signal.attrs['frequency'] == frequency"
      ]
    },
    {
      "cell_type": "markdown",
      "metadata": {},
      "source": [
        "Calculate and calibrate phasor coordinates:\n\n"
      ]
    },
    {
      "cell_type": "code",
      "execution_count": null,
      "metadata": {
        "collapsed": false
      },
      "outputs": [],
      "source": [
        "mean, real, imag = phasor_from_signal(signal, axis=0)\n\nreference_mean, reference_real, reference_imag = phasor_from_signal(\n    reference_signal, axis=0\n)\n\nreal, imag = phasor_calibrate(\n    real,\n    imag,\n    reference_mean,\n    reference_real,\n    reference_imag,\n    frequency=frequency,\n    lifetime=4.2,\n)"
      ]
    },
    {
      "cell_type": "markdown",
      "metadata": {},
      "source": [
        "## Unfiltered\n\nPlot the unfiltered, calibrated phasor coordinates after applying a\nthreshold based on the mean intensity to remove background values:\n\n"
      ]
    },
    {
      "cell_type": "code",
      "execution_count": null,
      "metadata": {
        "collapsed": false
      },
      "outputs": [],
      "source": [
        "plot_phasor(\n    *phasor_threshold(mean, real, imag, mean_min=1)[1:],\n    frequency=frequency,\n    title='Unfiltered phasor coordinates',\n)"
      ]
    },
    {
      "cell_type": "markdown",
      "metadata": {},
      "source": [
        "## Median filter\n\nMedian filtering replaces each pixel value with the median of its\nneighboring values, reducing noise while preserving edges.\nThe function :py:func:`phasorpy.phasor.phasor_filter_median` applies a\nmedian filter to phasor coordinates. Typically, applying a 3\u00d73 kernel\none to three times is sufficient to remove noise while maintaining\nimportant features:\n\n"
      ]
    },
    {
      "cell_type": "code",
      "execution_count": null,
      "metadata": {
        "collapsed": false
      },
      "outputs": [],
      "source": [
        "mean_filtered, real_filtered, imag_filtered = phasor_filter_median(\n    mean, real, imag, repeat=3, size=3\n)"
      ]
    },
    {
      "cell_type": "markdown",
      "metadata": {},
      "source": [
        "Thresholds should be applied after filtering:\n\n"
      ]
    },
    {
      "cell_type": "code",
      "execution_count": null,
      "metadata": {
        "collapsed": false
      },
      "outputs": [],
      "source": [
        "mean_filtered, real_filtered, imag_filtered = phasor_threshold(\n    mean_filtered, real_filtered, imag_filtered, mean_min=1\n)"
      ]
    },
    {
      "cell_type": "markdown",
      "metadata": {},
      "source": [
        "Plot the median-filtered and thresholded phasor coordinates:\n\n"
      ]
    },
    {
      "cell_type": "code",
      "execution_count": null,
      "metadata": {
        "collapsed": false
      },
      "outputs": [],
      "source": [
        "plot_phasor(\n    real_filtered,\n    imag_filtered,\n    frequency=frequency,\n    title='Median-filtered phasor coordinates (3x3 kernel, 3 repetitions)',\n)"
      ]
    },
    {
      "cell_type": "markdown",
      "metadata": {},
      "source": [
        "Increasing the number of repetitions or the filter kernel size can further\nreduce noise, but may also remove relevant features:\n\n"
      ]
    },
    {
      "cell_type": "code",
      "execution_count": null,
      "metadata": {
        "collapsed": false
      },
      "outputs": [],
      "source": [
        "mean_filtered, real_filtered, imag_filtered = phasor_threshold(\n    *phasor_filter_median(mean, real, imag, repeat=6, size=5), mean_min=1\n)\n\nplot_phasor(\n    real_filtered,\n    imag_filtered,\n    frequency=frequency,\n    title='Median-filtered phasor coordinates (5x5 kernel, 6 repetitions)',\n)"
      ]
    },
    {
      "cell_type": "markdown",
      "metadata": {},
      "source": [
        "The smoothing effect of median-filtering is demonstrated by plotting the\nreal components of the filtered and unfiltered phasor coordinates as images:\n\n"
      ]
    },
    {
      "cell_type": "code",
      "execution_count": null,
      "metadata": {
        "collapsed": false
      },
      "outputs": [],
      "source": [
        "plot_image(\n    phasor_threshold(mean, real, imag, mean_min=1)[1],\n    real_filtered,\n    vmin=0.4,\n    vmax=0.9,\n    labels=['Unfiltered', 'Median-filtered'],\n    title='Real component of phasor coordinates',\n)"
      ]
    },
    {
      "cell_type": "markdown",
      "metadata": {},
      "source": [
        "## pawFLIM wavelet filter\n\nFiltering based on wavelet decomposition is another method to reduce noise.\nThe function :py:func:`phasorpy.phasor.phasor_filter_pawflim` is based\non the [pawFLIM](https://github.com/maurosilber/pawflim) library.\nWhile the median filter is applicable to any type of phasor coordinates,\nthe pawFLIM filter requires calibrated phasor coordinates from FLIM\nmeasurements and at least one harmonic and its corresponding double:\n\n"
      ]
    },
    {
      "cell_type": "code",
      "execution_count": null,
      "metadata": {
        "collapsed": false
      },
      "outputs": [],
      "source": [
        "harmonic = [1, 2]\n\nmean, real, imag = phasor_from_signal(signal, axis=0, harmonic=harmonic)\n\nreference_mean, reference_real, reference_imag = phasor_from_signal(\n    reference_signal, axis=0, harmonic=harmonic\n)\n\nreal, imag = phasor_calibrate(\n    real,\n    imag,\n    reference_mean,\n    reference_real,\n    reference_imag,\n    frequency=frequency,\n    lifetime=4.2,\n    harmonic=harmonic,\n)"
      ]
    },
    {
      "cell_type": "markdown",
      "metadata": {},
      "source": [
        "Apply the pawFLIM wavelet filter to the calibrated phasor coordinates:\n\n"
      ]
    },
    {
      "cell_type": "code",
      "execution_count": null,
      "metadata": {
        "collapsed": false
      },
      "outputs": [],
      "source": [
        "mean_filtered, real_filtered, imag_filtered = phasor_threshold(\n    *phasor_filter_pawflim(mean, real, imag, harmonic=harmonic), mean_min=1\n)"
      ]
    },
    {
      "cell_type": "markdown",
      "metadata": {},
      "source": [
        "Plot the pawFLIM-filtered and thresholded phasor coordinates:\n\n"
      ]
    },
    {
      "cell_type": "code",
      "execution_count": null,
      "metadata": {
        "collapsed": false
      },
      "outputs": [],
      "source": [
        "plot_phasor(\n    real_filtered[0],\n    imag_filtered[0],\n    frequency=frequency,\n    title='pawFLIM-filtered phasor coordinates (sigma=2, levels=1)',\n)"
      ]
    },
    {
      "cell_type": "markdown",
      "metadata": {},
      "source": [
        "Increasing the significance level of the comparison between phasor\ncoordinates or the maximum averaging area can further reduce noise:\n\n"
      ]
    },
    {
      "cell_type": "code",
      "execution_count": null,
      "metadata": {
        "collapsed": false
      },
      "outputs": [],
      "source": [
        "mean_filtered, real_filtered, imag_filtered = phasor_filter_pawflim(\n    mean, real, imag, harmonic=harmonic, sigma=5, levels=3\n)\n\nmean_filtered, real_filtered, imag_filtered = phasor_threshold(\n    mean_filtered, real_filtered, imag_filtered, 1\n)\n\nplot_phasor(\n    real_filtered[0],\n    imag_filtered[0],\n    frequency=frequency,\n    title='pawFLIM-filtered phasor coordinates (sigma=5, levels=3)',\n)"
      ]
    },
    {
      "cell_type": "markdown",
      "metadata": {},
      "source": [
        "Plot the real components of the filtered and unfiltered phasor coordinates\nas images:\n\n"
      ]
    },
    {
      "cell_type": "code",
      "execution_count": null,
      "metadata": {
        "collapsed": false
      },
      "outputs": [],
      "source": [
        "plot_image(\n    phasor_threshold(mean, real, imag, mean_min=1)[1],\n    real_filtered,\n    vmin=0.4,\n    vmax=0.9,\n    labels=['Unfiltered', 'pawFLIM-filtered'],\n    title='Real component of phasor coordinates',\n)"
      ]
    },
    {
      "cell_type": "markdown",
      "metadata": {},
      "source": [
        "sphinx_gallery_thumbnail_number = -2\nmypy: allow-untyped-defs, allow-untyped-calls\nmypy: disable-error-code=\"arg-type\"\n\n"
      ]
    }
  ],
  "metadata": {
    "kernelspec": {
      "display_name": "Python 3",
      "language": "python",
      "name": "python3"
    },
    "language_info": {
      "codemirror_mode": {
        "name": "ipython",
        "version": 3
      },
      "file_extension": ".py",
      "mimetype": "text/x-python",
      "name": "python",
      "nbconvert_exporter": "python",
      "pygments_lexer": "ipython3",
      "version": "3.13.7"
    }
  },
  "nbformat": 4,
  "nbformat_minor": 0
}